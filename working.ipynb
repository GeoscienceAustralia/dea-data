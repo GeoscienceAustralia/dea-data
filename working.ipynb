{
 "cells": [
  {
   "cell_type": "code",
   "execution_count": 1,
   "metadata": {},
   "outputs": [],
   "source": [
    "from pathlib import Path\n",
    "import csv\n",
    "from collections import defaultdict\n",
    "import os.path\n",
    "from statistics import mean \n",
    "import pandas as pd\n",
    "import altair as alt\n"
   ]
  },
  {
   "cell_type": "code",
   "execution_count": 2,
   "metadata": {},
   "outputs": [],
   "source": [
    "def read_csv(filename):\n",
    "    with open(filename, newline='') as File:  \n",
    "        reader = csv.reader(File)\n",
    "        header1 = next(reader)\n",
    "        header2 = next(reader)\n",
    "        results = []\n",
    "        for row in reader:\n",
    "            folder = row[0].strip(\"'\")\n",
    "            parts = Path(folder).parts\n",
    "            if len(parts) > 2:\n",
    "                results.append({\"product\": row[0].strip(\"'\"), \"hits\": int(row[1]), \"bytes\": int(row[2]), \"cost\": float(row[3])})\n",
    "        return results"
   ]
  },
  {
   "cell_type": "code",
   "execution_count": 3,
   "metadata": {},
   "outputs": [],
   "source": [
    "k = read_csv(\"Files_20190417_20190423.csv\")"
   ]
  },
  {
   "cell_type": "code",
   "execution_count": 3,
   "metadata": {},
   "outputs": [],
   "source": [
    "k = read_csv(\"Files_20190426_20190502.csv\")"
   ]
  },
  {
   "cell_type": "code",
   "execution_count": 3,
   "metadata": {},
   "outputs": [],
   "source": [
    "k = read_csv(\"Files_20190407_20190506.csv\")"
   ]
  },
  {
   "cell_type": "code",
   "execution_count": 7,
   "metadata": {},
   "outputs": [
    {
     "ename": "StopIteration",
     "evalue": "",
     "output_type": "error",
     "traceback": [
      "\u001b[0;31m---------------------------------------------------------------------------\u001b[0m",
      "\u001b[0;31mStopIteration\u001b[0m                             Traceback (most recent call last)",
      "\u001b[0;32m<ipython-input-7-94f53ecf9852>\u001b[0m in \u001b[0;36m<module>\u001b[0;34m\u001b[0m\n\u001b[0;32m----> 1\u001b[0;31m \u001b[0mk\u001b[0m \u001b[0;34m=\u001b[0m \u001b[0mread_csv\u001b[0m\u001b[0;34m(\u001b[0m\u001b[0;34m\"Files_20190506_20190507.csv\"\u001b[0m\u001b[0;34m)\u001b[0m\u001b[0;34m\u001b[0m\u001b[0;34m\u001b[0m\u001b[0m\n\u001b[0m",
      "\u001b[0;32m<ipython-input-6-1b42347c43bb>\u001b[0m in \u001b[0;36mread_csv\u001b[0;34m(filename)\u001b[0m\n\u001b[1;32m      3\u001b[0m         \u001b[0mreader\u001b[0m \u001b[0;34m=\u001b[0m \u001b[0mcsv\u001b[0m\u001b[0;34m.\u001b[0m\u001b[0mreader\u001b[0m\u001b[0;34m(\u001b[0m\u001b[0mFile\u001b[0m\u001b[0;34m)\u001b[0m\u001b[0;34m\u001b[0m\u001b[0;34m\u001b[0m\u001b[0m\n\u001b[1;32m      4\u001b[0m         \u001b[0mheader1\u001b[0m \u001b[0;34m=\u001b[0m \u001b[0mnext\u001b[0m\u001b[0;34m(\u001b[0m\u001b[0mreader\u001b[0m\u001b[0;34m)\u001b[0m\u001b[0;34m\u001b[0m\u001b[0;34m\u001b[0m\u001b[0m\n\u001b[0;32m----> 5\u001b[0;31m         \u001b[0mheader2\u001b[0m \u001b[0;34m=\u001b[0m \u001b[0mnext\u001b[0m\u001b[0;34m(\u001b[0m\u001b[0mreader\u001b[0m\u001b[0;34m)\u001b[0m\u001b[0;34m\u001b[0m\u001b[0;34m\u001b[0m\u001b[0m\n\u001b[0m\u001b[1;32m      6\u001b[0m         \u001b[0mresults\u001b[0m \u001b[0;34m=\u001b[0m \u001b[0;34m[\u001b[0m\u001b[0;34m]\u001b[0m\u001b[0;34m\u001b[0m\u001b[0;34m\u001b[0m\u001b[0m\n\u001b[1;32m      7\u001b[0m         \u001b[0;32mfor\u001b[0m \u001b[0mrow\u001b[0m \u001b[0;32min\u001b[0m \u001b[0mreader\u001b[0m\u001b[0;34m:\u001b[0m\u001b[0;34m\u001b[0m\u001b[0;34m\u001b[0m\u001b[0m\n",
      "\u001b[0;31mStopIteration\u001b[0m: "
     ]
    }
   ],
   "source": [
    "k = read_csv(\"Files_20190506_20190507.csv\")"
   ]
  },
  {
   "cell_type": "code",
   "execution_count": 4,
   "metadata": {},
   "outputs": [
    {
     "data": {
      "text/plain": [
       "96452"
      ]
     },
     "execution_count": 4,
     "metadata": {},
     "output_type": "execute_result"
    }
   ],
   "source": [
    "len(k)"
   ]
  },
  {
   "cell_type": "code",
   "execution_count": 5,
   "metadata": {},
   "outputs": [],
   "source": [
    "def split_folder(d):\n",
    "    result = dict(d)\n",
    "    result['folder'] = str(Path(d['product']).parent)\n",
    "    del result['product']\n",
    "    return result"
   ]
  },
  {
   "cell_type": "code",
   "execution_count": 6,
   "metadata": {},
   "outputs": [],
   "source": [
    "kk = [split_folder(m) for m in k]"
   ]
  },
  {
   "cell_type": "code",
   "execution_count": 7,
   "metadata": {},
   "outputs": [],
   "source": [
    "consol = defaultdict(list)"
   ]
  },
  {
   "cell_type": "code",
   "execution_count": 8,
   "metadata": {},
   "outputs": [],
   "source": [
    "for d in kk:\n",
    "    consol[d['folder']].append(d)"
   ]
  },
  {
   "cell_type": "code",
   "execution_count": 9,
   "metadata": {},
   "outputs": [],
   "source": [
    "def product_name(folder):\n",
    "    parts = Path(folder).parts\n",
    "    if parts[0] == 'mangrove_cover':\n",
    "        return parts[0]\n",
    "    return os.path.join(*parts[:2])\n"
   ]
  },
  {
   "cell_type": "code",
   "execution_count": 10,
   "metadata": {},
   "outputs": [],
   "source": [
    "def spatial_id(folder):\n",
    "    parts = Path(folder).parts\n",
    "    if len(parts) > 2 and parts[0] == 'L2' and parts[1] == 'sentinel-2-nrt' and parts[-1] == 'NBART':\n",
    "        try:\n",
    "            return parts[-2].split(\"_\")[-2][1:]\n",
    "        except IndexError:\n",
    "            print(folder)\n",
    "    else:\n",
    "        return '<none>'"
   ]
  },
  {
   "cell_type": "code",
   "execution_count": 11,
   "metadata": {},
   "outputs": [],
   "source": [
    "def bytesto(bytes, to, bsize=1024):\n",
    "    \"\"\"convert bytes to megabytes, etc.\n",
    "       sample code:\n",
    "           print('mb= ' + str(bytesto(314575262000000, 'm')))\n",
    "       sample output: \n",
    "           mb= 300002347.946\n",
    "    \"\"\"\n",
    "\n",
    "    a = {'k' : 1, 'm': 2, 'g' : 3, 't' : 4, 'p' : 5, 'e' : 6 }\n",
    "    r = float(bytes)\n",
    "    for i in range(a[to]):\n",
    "        r = r / bsize\n",
    "\n",
    "    return(r)"
   ]
  },
  {
   "cell_type": "code",
   "execution_count": 12,
   "metadata": {},
   "outputs": [],
   "source": [
    "def merge1(folder, dicts):\n",
    "    return {\n",
    "        'hits': max(int(d['hits']) for d in dicts),\n",
    "        'bytes':sum(int(d['bytes']) for d in dicts),\n",
    "        'cost': sum(float(d['cost']) for d in dicts),\n",
    "        'spatial_id': spatial_id(folder),\n",
    "        'product': product_name(folder)\n",
    "    }"
   ]
  },
  {
   "cell_type": "code",
   "execution_count": 13,
   "metadata": {},
   "outputs": [],
   "source": [
    "stage1 = [merge1(key, value) for key, value in consol.items()]"
   ]
  },
  {
   "cell_type": "code",
   "execution_count": 14,
   "metadata": {},
   "outputs": [],
   "source": [
    "sentinel2 = [d for d in stage1 if d['product'] == 'L2/sentinel-2-nrt']"
   ]
  },
  {
   "cell_type": "code",
   "execution_count": 15,
   "metadata": {},
   "outputs": [
    {
     "data": {
      "text/plain": [
       "19736"
      ]
     },
     "execution_count": 15,
     "metadata": {},
     "output_type": "execute_result"
    }
   ],
   "source": [
    "len(sentinel2)"
   ]
  },
  {
   "cell_type": "code",
   "execution_count": null,
   "metadata": {},
   "outputs": [],
   "source": []
  },
  {
   "cell_type": "code",
   "execution_count": 16,
   "metadata": {},
   "outputs": [],
   "source": [
    "consol2 = defaultdict(list)"
   ]
  },
  {
   "cell_type": "code",
   "execution_count": 17,
   "metadata": {},
   "outputs": [],
   "source": [
    "for d in stage1:\n",
    "    consol2[d['product']].append(d)"
   ]
  },
  {
   "cell_type": "code",
   "execution_count": 18,
   "metadata": {},
   "outputs": [],
   "source": [
    "def merge2(product, dicts):\n",
    "    return {\n",
    "        'hits': sum(int(d['hits']) for d in dicts),\n",
    "        'bytes': sum(bytesto(int(d['bytes']), 'g') for d in dicts),\n",
    "        'cost': sum(float(d['cost']) for d in dicts)\n",
    "    }\n"
   ]
  },
  {
   "cell_type": "code",
   "execution_count": 19,
   "metadata": {},
   "outputs": [],
   "source": [
    "x = stage1[0]"
   ]
  },
  {
   "cell_type": "code",
   "execution_count": 20,
   "metadata": {},
   "outputs": [
    {
     "data": {
      "text/plain": [
       "{'hits': 37457,\n",
       " 'bytes': 2500757211,\n",
       " 'cost': 0.2357,\n",
       " 'spatial_id': '<none>',\n",
       " 'product': 'projects/WaterBodies'}"
      ]
     },
     "execution_count": 20,
     "metadata": {},
     "output_type": "execute_result"
    }
   ],
   "source": [
    "x"
   ]
  },
  {
   "cell_type": "code",
   "execution_count": 21,
   "metadata": {},
   "outputs": [],
   "source": [
    "stage2 = {key: merge2(key, value) for key, value in consol2.items()}"
   ]
  },
  {
   "cell_type": "code",
   "execution_count": 22,
   "metadata": {},
   "outputs": [],
   "source": [
    "def get_list(dat):\n",
    "    av=[]\n",
    "    for k , v in dat.items():\n",
    "        m = dict(v)\n",
    "        m['product'] = k\n",
    "        av.append(m)\n",
    "    return av"
   ]
  },
  {
   "cell_type": "code",
   "execution_count": 23,
   "metadata": {},
   "outputs": [],
   "source": [
    "new_stage = get_list(stage2)"
   ]
  },
  {
   "cell_type": "code",
   "execution_count": 24,
   "metadata": {},
   "outputs": [],
   "source": [
    "data = pd.DataFrame(new_stage)"
   ]
  },
  {
   "cell_type": "code",
   "execution_count": 25,
   "metadata": {},
   "outputs": [
    {
     "data": {
      "text/html": [
       "<div>\n",
       "<style scoped>\n",
       "    .dataframe tbody tr th:only-of-type {\n",
       "        vertical-align: middle;\n",
       "    }\n",
       "\n",
       "    .dataframe tbody tr th {\n",
       "        vertical-align: top;\n",
       "    }\n",
       "\n",
       "    .dataframe thead th {\n",
       "        text-align: right;\n",
       "    }\n",
       "</style>\n",
       "<table border=\"1\" class=\"dataframe\">\n",
       "  <thead>\n",
       "    <tr style=\"text-align: right;\">\n",
       "      <th></th>\n",
       "      <th>bytes</th>\n",
       "      <th>cost</th>\n",
       "      <th>hits</th>\n",
       "      <th>product</th>\n",
       "    </tr>\n",
       "  </thead>\n",
       "  <tbody>\n",
       "    <tr>\n",
       "      <th>0</th>\n",
       "      <td>2.329012</td>\n",
       "      <td>0.2357</td>\n",
       "      <td>37457</td>\n",
       "      <td>projects/WaterBodies</td>\n",
       "    </tr>\n",
       "    <tr>\n",
       "      <th>1</th>\n",
       "      <td>3002.607495</td>\n",
       "      <td>26.7321</td>\n",
       "      <td>2941589</td>\n",
       "      <td>L2/sentinel-2-nrt</td>\n",
       "    </tr>\n",
       "    <tr>\n",
       "      <th>2</th>\n",
       "      <td>4.661675</td>\n",
       "      <td>0.0576</td>\n",
       "      <td>65016</td>\n",
       "      <td>nidem/v1.0.0</td>\n",
       "    </tr>\n",
       "    <tr>\n",
       "      <th>3</th>\n",
       "      <td>1.962165</td>\n",
       "      <td>0.1015</td>\n",
       "      <td>155227</td>\n",
       "      <td>projects/geodata_coast_100k</td>\n",
       "    </tr>\n",
       "    <tr>\n",
       "      <th>4</th>\n",
       "      <td>2.017638</td>\n",
       "      <td>0.1208</td>\n",
       "      <td>56623</td>\n",
       "      <td>mangrove_cover</td>\n",
       "    </tr>\n",
       "    <tr>\n",
       "      <th>5</th>\n",
       "      <td>122.208005</td>\n",
       "      <td>0.1489</td>\n",
       "      <td>98843</td>\n",
       "      <td>bare-earth/summary</td>\n",
       "    </tr>\n",
       "    <tr>\n",
       "      <th>6</th>\n",
       "      <td>19.212200</td>\n",
       "      <td>0.0636</td>\n",
       "      <td>96749</td>\n",
       "      <td>WOfS/filtered_summary</td>\n",
       "    </tr>\n",
       "    <tr>\n",
       "      <th>7</th>\n",
       "      <td>2.686901</td>\n",
       "      <td>0.0438</td>\n",
       "      <td>64819</td>\n",
       "      <td>WOfS/annual_summary</td>\n",
       "    </tr>\n",
       "    <tr>\n",
       "      <th>8</th>\n",
       "      <td>8.509235</td>\n",
       "      <td>0.0266</td>\n",
       "      <td>40335</td>\n",
       "      <td>WOfS/summary</td>\n",
       "    </tr>\n",
       "    <tr>\n",
       "      <th>9</th>\n",
       "      <td>101.793305</td>\n",
       "      <td>0.0986</td>\n",
       "      <td>60907</td>\n",
       "      <td>fractional-cover/fc-percentile</td>\n",
       "    </tr>\n",
       "    <tr>\n",
       "      <th>10</th>\n",
       "      <td>2.139220</td>\n",
       "      <td>0.0131</td>\n",
       "      <td>14837</td>\n",
       "      <td>item_v2/v2.0.1</td>\n",
       "    </tr>\n",
       "    <tr>\n",
       "      <th>11</th>\n",
       "      <td>25.128122</td>\n",
       "      <td>0.0474</td>\n",
       "      <td>17485</td>\n",
       "      <td>hltc/v2.0.0</td>\n",
       "    </tr>\n",
       "    <tr>\n",
       "      <th>12</th>\n",
       "      <td>64.928326</td>\n",
       "      <td>0.1183</td>\n",
       "      <td>87271</td>\n",
       "      <td>geomedian-australia/v2.1.0</td>\n",
       "    </tr>\n",
       "    <tr>\n",
       "      <th>13</th>\n",
       "      <td>0.239473</td>\n",
       "      <td>0.0051</td>\n",
       "      <td>8447</td>\n",
       "      <td>WOfS/apr_oct_summary</td>\n",
       "    </tr>\n",
       "    <tr>\n",
       "      <th>14</th>\n",
       "      <td>1.712472</td>\n",
       "      <td>0.0047</td>\n",
       "      <td>9008</td>\n",
       "      <td>weathering-intensity/v1.0.1</td>\n",
       "    </tr>\n",
       "    <tr>\n",
       "      <th>15</th>\n",
       "      <td>2.839214</td>\n",
       "      <td>0.0195</td>\n",
       "      <td>12631</td>\n",
       "      <td>multi-scale-topographic-position/v1.0.1</td>\n",
       "    </tr>\n",
       "    <tr>\n",
       "      <th>16</th>\n",
       "      <td>6.055657</td>\n",
       "      <td>0.1767</td>\n",
       "      <td>249849</td>\n",
       "      <td>WOfS/WOFLs</td>\n",
       "    </tr>\n",
       "    <tr>\n",
       "      <th>17</th>\n",
       "      <td>0.318120</td>\n",
       "      <td>0.0075</td>\n",
       "      <td>10938</td>\n",
       "      <td>WOfS/nov_mar_summary</td>\n",
       "    </tr>\n",
       "    <tr>\n",
       "      <th>18</th>\n",
       "      <td>0.084131</td>\n",
       "      <td>0.0002</td>\n",
       "      <td>179</td>\n",
       "      <td>website/images</td>\n",
       "    </tr>\n",
       "    <tr>\n",
       "      <th>19</th>\n",
       "      <td>7.609081</td>\n",
       "      <td>0.0024</td>\n",
       "      <td>14850</td>\n",
       "      <td>fractional-cover/fc</td>\n",
       "    </tr>\n",
       "  </tbody>\n",
       "</table>\n",
       "</div>"
      ],
      "text/plain": [
       "          bytes     cost     hits                                  product\n",
       "0      2.329012   0.2357    37457                     projects/WaterBodies\n",
       "1   3002.607495  26.7321  2941589                        L2/sentinel-2-nrt\n",
       "2      4.661675   0.0576    65016                             nidem/v1.0.0\n",
       "3      1.962165   0.1015   155227              projects/geodata_coast_100k\n",
       "4      2.017638   0.1208    56623                           mangrove_cover\n",
       "5    122.208005   0.1489    98843                       bare-earth/summary\n",
       "6     19.212200   0.0636    96749                    WOfS/filtered_summary\n",
       "7      2.686901   0.0438    64819                      WOfS/annual_summary\n",
       "8      8.509235   0.0266    40335                             WOfS/summary\n",
       "9    101.793305   0.0986    60907           fractional-cover/fc-percentile\n",
       "10     2.139220   0.0131    14837                           item_v2/v2.0.1\n",
       "11    25.128122   0.0474    17485                              hltc/v2.0.0\n",
       "12    64.928326   0.1183    87271               geomedian-australia/v2.1.0\n",
       "13     0.239473   0.0051     8447                     WOfS/apr_oct_summary\n",
       "14     1.712472   0.0047     9008              weathering-intensity/v1.0.1\n",
       "15     2.839214   0.0195    12631  multi-scale-topographic-position/v1.0.1\n",
       "16     6.055657   0.1767   249849                               WOfS/WOFLs\n",
       "17     0.318120   0.0075    10938                     WOfS/nov_mar_summary\n",
       "18     0.084131   0.0002      179                           website/images\n",
       "19     7.609081   0.0024    14850                      fractional-cover/fc"
      ]
     },
     "execution_count": 25,
     "metadata": {},
     "output_type": "execute_result"
    }
   ],
   "source": [
    "data"
   ]
  },
  {
   "cell_type": "code",
   "execution_count": 26,
   "metadata": {},
   "outputs": [],
   "source": [
    "chart = alt.Chart(data)"
   ]
  },
  {
   "cell_type": "code",
   "execution_count": 27,
   "metadata": {},
   "outputs": [
    {
     "data": {
      "application/vnd.vegalite.v3+json": {
       "$schema": "https://vega.github.io/schema/vega-lite/v3.2.1.json",
       "config": {
        "mark": {
         "tooltip": null
        },
        "view": {
         "height": 300,
         "width": 400
        }
       },
       "data": {
        "name": "data-2f77c841176e9322196bff7e0f9b950c"
       },
       "datasets": {
        "data-2f77c841176e9322196bff7e0f9b950c": [
         {
          "bytes": 2.3290116442367435,
          "cost": 0.2357,
          "hits": 37457,
          "product": "projects/WaterBodies"
         },
         {
          "bytes": 3002.6074953777716,
          "cost": 26.732099999995718,
          "hits": 2941589,
          "product": "L2/sentinel-2-nrt"
         },
         {
          "bytes": 4.661674791015685,
          "cost": 0.05760000000000012,
          "hits": 65016,
          "product": "nidem/v1.0.0"
         },
         {
          "bytes": 1.9621646543964744,
          "cost": 0.10150000000000105,
          "hits": 155227,
          "product": "projects/geodata_coast_100k"
         },
         {
          "bytes": 2.0176381673663855,
          "cost": 0.12080000000000025,
          "hits": 56623,
          "product": "mangrove_cover"
         },
         {
          "bytes": 122.20800515357405,
          "cost": 0.1488999999999994,
          "hits": 98843,
          "product": "bare-earth/summary"
         },
         {
          "bytes": 19.212199981324375,
          "cost": 0.0636000000000005,
          "hits": 96749,
          "product": "WOfS/filtered_summary"
         },
         {
          "bytes": 2.686901221051812,
          "cost": 0.043800000000000276,
          "hits": 64819,
          "product": "WOfS/annual_summary"
         },
         {
          "bytes": 8.509235361590981,
          "cost": 0.026599999999999943,
          "hits": 40335,
          "product": "WOfS/summary"
         },
         {
          "bytes": 101.7933054594323,
          "cost": 0.09860000000000038,
          "hits": 60907,
          "product": "fractional-cover/fc-percentile"
         },
         {
          "bytes": 2.139220186509192,
          "cost": 0.013099999999999992,
          "hits": 14837,
          "product": "item_v2/v2.0.1"
         },
         {
          "bytes": 25.128121581859887,
          "cost": 0.04740000000000005,
          "hits": 17485,
          "product": "hltc/v2.0.0"
         },
         {
          "bytes": 64.92832566611469,
          "cost": 0.11829999999999952,
          "hits": 87271,
          "product": "geomedian-australia/v2.1.0"
         },
         {
          "bytes": 0.23947323579341173,
          "cost": 0.0051,
          "hits": 8447,
          "product": "WOfS/apr_oct_summary"
         },
         {
          "bytes": 1.712472366169095,
          "cost": 0.0047,
          "hits": 9008,
          "product": "weathering-intensity/v1.0.1"
         },
         {
          "bytes": 2.8392139580100775,
          "cost": 0.01950000000000001,
          "hits": 12631,
          "product": "multi-scale-topographic-position/v1.0.1"
         },
         {
          "bytes": 6.055657176300883,
          "cost": 0.1767000000000027,
          "hits": 249849,
          "product": "WOfS/WOFLs"
         },
         {
          "bytes": 0.3181204991415143,
          "cost": 0.007500000000000008,
          "hits": 10938,
          "product": "WOfS/nov_mar_summary"
         },
         {
          "bytes": 0.08413127716630697,
          "cost": 0.0002,
          "hits": 179,
          "product": "website/images"
         },
         {
          "bytes": 7.609081426635385,
          "cost": 0.0024,
          "hits": 14850,
          "product": "fractional-cover/fc"
         }
        ]
       },
       "encoding": {
        "color": {
         "field": "product",
         "type": "nominal"
        },
        "x": {
         "field": "product",
         "type": "nominal"
        },
        "y": {
         "field": "hits",
         "type": "quantitative"
        }
       },
       "height": 500,
       "mark": "bar",
       "width": 750
      },
      "image/png": "[encoded data removed]",
      "text/plain": [
       "<VegaLite 3 object>\n",
       "\n",
       "If you see this message, it means the renderer has not been properly enabled\n",
       "for the frontend that you are using. For more information, see\n",
       "https://altair-viz.github.io/user_guide/troubleshooting.html\n"
      ]
     },
     "execution_count": 27,
     "metadata": {},
     "output_type": "execute_result"
    }
   ],
   "source": [
    "alt.Chart(data).mark_bar().encode(x='product', y='hits', color = 'product:N').properties(\n",
    "    width=750,\n",
    "    height=500)"
   ]
  },
  {
   "cell_type": "code",
   "execution_count": 28,
   "metadata": {},
   "outputs": [
    {
     "data": {
      "application/vnd.vegalite.v3+json": {
       "$schema": "https://vega.github.io/schema/vega-lite/v3.2.1.json",
       "config": {
        "mark": {
         "tooltip": null
        },
        "view": {
         "height": 300,
         "width": 400
        }
       },
       "data": {
        "name": "data-2f77c841176e9322196bff7e0f9b950c"
       },
       "datasets": {
        "data-2f77c841176e9322196bff7e0f9b950c": [
         {
          "bytes": 2.3290116442367435,
          "cost": 0.2357,
          "hits": 37457,
          "product": "projects/WaterBodies"
         },
         {
          "bytes": 3002.6074953777716,
          "cost": 26.732099999995718,
          "hits": 2941589,
          "product": "L2/sentinel-2-nrt"
         },
         {
          "bytes": 4.661674791015685,
          "cost": 0.05760000000000012,
          "hits": 65016,
          "product": "nidem/v1.0.0"
         },
         {
          "bytes": 1.9621646543964744,
          "cost": 0.10150000000000105,
          "hits": 155227,
          "product": "projects/geodata_coast_100k"
         },
         {
          "bytes": 2.0176381673663855,
          "cost": 0.12080000000000025,
          "hits": 56623,
          "product": "mangrove_cover"
         },
         {
          "bytes": 122.20800515357405,
          "cost": 0.1488999999999994,
          "hits": 98843,
          "product": "bare-earth/summary"
         },
         {
          "bytes": 19.212199981324375,
          "cost": 0.0636000000000005,
          "hits": 96749,
          "product": "WOfS/filtered_summary"
         },
         {
          "bytes": 2.686901221051812,
          "cost": 0.043800000000000276,
          "hits": 64819,
          "product": "WOfS/annual_summary"
         },
         {
          "bytes": 8.509235361590981,
          "cost": 0.026599999999999943,
          "hits": 40335,
          "product": "WOfS/summary"
         },
         {
          "bytes": 101.7933054594323,
          "cost": 0.09860000000000038,
          "hits": 60907,
          "product": "fractional-cover/fc-percentile"
         },
         {
          "bytes": 2.139220186509192,
          "cost": 0.013099999999999992,
          "hits": 14837,
          "product": "item_v2/v2.0.1"
         },
         {
          "bytes": 25.128121581859887,
          "cost": 0.04740000000000005,
          "hits": 17485,
          "product": "hltc/v2.0.0"
         },
         {
          "bytes": 64.92832566611469,
          "cost": 0.11829999999999952,
          "hits": 87271,
          "product": "geomedian-australia/v2.1.0"
         },
         {
          "bytes": 0.23947323579341173,
          "cost": 0.0051,
          "hits": 8447,
          "product": "WOfS/apr_oct_summary"
         },
         {
          "bytes": 1.712472366169095,
          "cost": 0.0047,
          "hits": 9008,
          "product": "weathering-intensity/v1.0.1"
         },
         {
          "bytes": 2.8392139580100775,
          "cost": 0.01950000000000001,
          "hits": 12631,
          "product": "multi-scale-topographic-position/v1.0.1"
         },
         {
          "bytes": 6.055657176300883,
          "cost": 0.1767000000000027,
          "hits": 249849,
          "product": "WOfS/WOFLs"
         },
         {
          "bytes": 0.3181204991415143,
          "cost": 0.007500000000000008,
          "hits": 10938,
          "product": "WOfS/nov_mar_summary"
         },
         {
          "bytes": 0.08413127716630697,
          "cost": 0.0002,
          "hits": 179,
          "product": "website/images"
         },
         {
          "bytes": 7.609081426635385,
          "cost": 0.0024,
          "hits": 14850,
          "product": "fractional-cover/fc"
         }
        ]
       },
       "encoding": {
        "color": {
         "field": "product",
         "type": "nominal"
        },
        "x": {
         "field": "product",
         "type": "nominal"
        },
        "y": {
         "field": "bytes",
         "type": "quantitative"
        }
       },
       "height": 500,
       "mark": "bar",
       "width": 750
      },
      "image/png": "[encoded data removed]",
      "text/plain": [
       "<VegaLite 3 object>\n",
       "\n",
       "If you see this message, it means the renderer has not been properly enabled\n",
       "for the frontend that you are using. For more information, see\n",
       "https://altair-viz.github.io/user_guide/troubleshooting.html\n"
      ]
     },
     "execution_count": 28,
     "metadata": {},
     "output_type": "execute_result"
    }
   ],
   "source": [
    "alt.Chart(data).mark_bar().encode(x='product', y='bytes', color = 'product').properties(\n",
    "    width=750,\n",
    "    height=500\n",
    ")"
   ]
  },
  {
   "cell_type": "code",
   "execution_count": 1,
   "metadata": {},
   "outputs": [],
   "source": [
    "import rasterio\n",
    "import boto3\n",
    "from ruamel.yaml import YAML"
   ]
  },
  {
   "cell_type": "code",
   "execution_count": 2,
   "metadata": {},
   "outputs": [],
   "source": [
    " s3 = boto3.resource('s3')\n",
    "bucket = s3.Bucket('dea-public-data')"
   ]
  },
  {
   "cell_type": "code",
   "execution_count": 5,
   "metadata": {},
   "outputs": [
    {
     "data": {
      "text/plain": [
       "s3.Bucket(name='dea-public-data')"
      ]
     },
     "execution_count": 5,
     "metadata": {},
     "output_type": "execute_result"
    }
   ],
   "source": [
    "bucket"
   ]
  },
  {
   "cell_type": "code",
   "execution_count": 3,
   "metadata": {},
   "outputs": [],
   "source": [
    "bucket_name = \"dea-public-data\""
   ]
  },
  {
   "cell_type": "code",
   "execution_count": 5,
   "metadata": {},
   "outputs": [],
   "source": [
    "def get_s3_url(bucket_name, obj_key):\n",
    "    return 's3://{bucket_name}/{obj_key}'.format(\n",
    "        bucket_name=bucket_name, obj_key=obj_key)"
   ]
  },
  {
   "cell_type": "code",
   "execution_count": 12,
   "metadata": {},
   "outputs": [],
   "source": [
    "key = \"L2/sentinel-2-nrt/S2MSIARD/2019-04-15/S2A_OPER_MSI_ARD_TL_SGS__20190415T012404_A019904_T56HLH_N02.07/ARD-METADATA.yaml\""
   ]
  },
  {
   "cell_type": "code",
   "execution_count": 13,
   "metadata": {},
   "outputs": [],
   "source": [
    "obj = s3.Object(bucket_name, key).get(ResponseCacheControl='no-cache')"
   ]
  },
  {
   "cell_type": "code",
   "execution_count": 14,
   "metadata": {},
   "outputs": [],
   "source": [
    "raw = obj['Body'].read()"
   ]
  },
  {
   "cell_type": "code",
   "execution_count": null,
   "metadata": {},
   "outputs": [],
   "source": []
  },
  {
   "cell_type": "code",
   "execution_count": 20,
   "metadata": {},
   "outputs": [],
   "source": [
    "raw_string = raw.decode('utf8')"
   ]
  },
  {
   "cell_type": "code",
   "execution_count": 24,
   "metadata": {},
   "outputs": [],
   "source": [
    "parser = YAML()"
   ]
  },
  {
   "cell_type": "code",
   "execution_count": 26,
   "metadata": {},
   "outputs": [],
   "source": [
    "doc = parser.load(raw_string)"
   ]
  },
  {
   "cell_type": "code",
   "execution_count": 30,
   "metadata": {},
   "outputs": [
    {
     "data": {
      "text/plain": [
       "ordereddict([('ll', ordereddict([('lat', -34.40996085046521), ('lon', 150.8239553990498)])), ('lr', ordereddict([('lat', -34.42538215978734), ('lon', 152.01835521885826)])), ('ul', ordereddict([('lat', -33.42037795466939), ('lon', 150.8489762082609)])), ('ur', ordereddict([('lat', -33.435237691576745), ('lon', 152.02965096464447)]))])"
      ]
     },
     "execution_count": 30,
     "metadata": {},
     "output_type": "execute_result"
    }
   ],
   "source": [
    "doc['extent']['coord']"
   ]
  },
  {
   "cell_type": "code",
   "execution_count": 18,
   "metadata": {},
   "outputs": [
    {
     "ename": "NameError",
     "evalue": "name '_parse_group' is not defined",
     "output_type": "error",
     "traceback": [
      "\u001b[0;31m---------------------------------------------------------------------------\u001b[0m",
      "\u001b[0;31mNameError\u001b[0m                                 Traceback (most recent call last)",
      "\u001b[0;32m<ipython-input-18-85152e9fa508>\u001b[0m in \u001b[0;36m<module>\u001b[0;34m\u001b[0m\n\u001b[0;32m----> 1\u001b[0;31m \u001b[0mtxt_doc\u001b[0m \u001b[0;34m=\u001b[0m \u001b[0m_parse_group\u001b[0m\u001b[0;34m(\u001b[0m\u001b[0miter\u001b[0m\u001b[0;34m(\u001b[0m\u001b[0mraw_string\u001b[0m\u001b[0;34m.\u001b[0m\u001b[0msplit\u001b[0m\u001b[0;34m(\u001b[0m\u001b[0;34m\"\\n\"\u001b[0m\u001b[0;34m)\u001b[0m\u001b[0;34m)\u001b[0m\u001b[0;34m)\u001b[0m\u001b[0;34m\u001b[0m\u001b[0;34m\u001b[0m\u001b[0m\n\u001b[0m",
      "\u001b[0;31mNameError\u001b[0m: name '_parse_group' is not defined"
     ]
    }
   ],
   "source": [
    "txt_doc = _parse_group(iter(raw_string.split(\"\\n\")))"
   ]
  },
  {
   "cell_type": "raw",
   "metadata": {},
   "source": []
  },
  {
   "cell_type": "code",
   "execution_count": 34,
   "metadata": {},
   "outputs": [
    {
     "data": {
      "text/plain": [
       "['algorithm_information',\n",
       " 'extent',\n",
       " 'format',\n",
       " 'grid_spatial',\n",
       " 'id',\n",
       " 'image',\n",
       " 'instrument',\n",
       " 'lineage',\n",
       " 'platform',\n",
       " 'processing_level',\n",
       " 'product_type',\n",
       " 'software_versions',\n",
       " 'system_information',\n",
       " 'tile_id']"
      ]
     },
     "execution_count": 34,
     "metadata": {},
     "output_type": "execute_result"
    }
   ],
   "source": [
    "\n",
    "list(doc)"
   ]
  },
  {
   "cell_type": "code",
   "execution_count": 36,
   "metadata": {},
   "outputs": [
    {
     "data": {
      "text/plain": [
       "-1"
      ]
     },
     "execution_count": 36,
     "metadata": {},
     "output_type": "execute_result"
    }
   ],
   "source": [
    "raw_string.find('provider')"
   ]
  },
  {
   "cell_type": "code",
   "execution_count": 37,
   "metadata": {},
   "outputs": [
    {
     "name": "stdout",
     "output_type": "stream",
     "text": [
      "algorithm_information:\n",
      "    algorithm_version: 2.0\n",
      "    arg25_doi: http://dx.doi.org/10.4225/25/5487CC0D4F40B\n",
      "    nbar_doi: http://dx.doi.org/10.1109/JSTARS.2010.2042281\n",
      "    nbar_terrain_corrected_doi: http://dx.doi.org/10.1016/j.rse.2012.06.018\n",
      "extent:\n",
      "    center_dt: '2019-04-15T00:06:10.484683Z'\n",
      "    coord:\n",
      "        ll:\n",
      "            lat: -34.40996085046521\n",
      "            lon: 150.8239553990498\n",
      "        lr:\n",
      "            lat: -34.42538215978734\n",
      "            lon: 152.01835521885826\n",
      "        ul:\n",
      "            lat: -33.42037795466939\n",
      "            lon: 150.8489762082609\n",
      "        ur:\n",
      "            lat: -33.435237691576745\n",
      "            lon: 152.02965096464447\n",
      "format:\n",
      "    name: GeoTiff\n",
      "grid_spatial:\n",
      "    projection:\n",
      "        geo_ref_points:\n",
      "            ll:\n",
      "                x: 300000\n",
      "                y: 6190240\n",
      "            lr:\n",
      "                x: 409800\n",
      "                y: 6190240\n",
      "            ul:\n",
      "                x: 300000\n",
      "                y: 6300040\n",
      "            ur:\n",
      "                x: 409800\n",
      "                y: 6300040\n",
      "        spatial_reference: PROJCS[\"WGS 84 / UTM zone 56S\",GEOGCS[\"WGS 84\",DATUM[\"WGS_1984\",SPHEROID[\"WGS\n",
      "            84\",6378137,298.257223563,AUTHORITY[\"EPSG\",\"7030\"]],AUTHORITY[\"EPSG\",\"6326\"]],PRIMEM[\"Greenwich\",0,AUTHORITY[\"EPSG\",\"8901\"]],UNIT[\"degree\",0.0174532925199433,AUTHORITY[\"EPSG\",\"9122\"]],AUTHORITY[\"EPSG\",\"4326\"]],PROJECTION[\"Transverse_Mercator\"],PARAMETER[\"latitude_of_origin\",0],PARAMETER[\"central_meridian\",153],PARAMETER[\"scale_factor\",0.9996],PARAMETER[\"false_easting\",500000],PARAMETER[\"false_northing\",10000000],UNIT[\"metre\",1,AUTHORITY[\"EPSG\",\"9001\"]],AXIS[\"Easting\",EAST],AXIS[\"Northing\",NORTH],AUTHORITY[\"EPSG\",\"32756\"]]\n",
      "        valid_data:\n",
      "            coordinates:\n",
      "            -   -   - 381359.38425086223\n",
      "                    - 6190240.0\n",
      "                -   - 404760.0\n",
      "                    - 6300040.0\n",
      "                -   - 300000.0\n",
      "                    - 6300040.0\n",
      "                -   - 300000.0\n",
      "                    - 6190240.0\n",
      "                -   - 381359.38425086223\n",
      "                    - 6190240.0\n",
      "            type: Polygon\n",
      "id: b1c440f7-64e8-4c06-a263-5fc6efb4dc1d\n",
      "image:\n",
      "    bands:\n",
      "        azimuthal_exiting:\n",
      "            layer: 1\n",
      "            path: SUPPLEMENTARY/S2A_OPER_MSI_ARD_TL_SGS__20190415T012404_A019904_T56HLH_N02.07_AZIMUTHAL_EXITING.TIF\n",
      "        azimuthal_incident:\n",
      "            layer: 1\n",
      "            path: SUPPLEMENTARY/S2A_OPER_MSI_ARD_TL_SGS__20190415T012404_A019904_T56HLH_N02.07_AZIMUTHAL_INCIDENT.TIF\n",
      "        exiting:\n",
      "            layer: 1\n",
      "            path: SUPPLEMENTARY/S2A_OPER_MSI_ARD_TL_SGS__20190415T012404_A019904_T56HLH_N02.07_EXITING.TIF\n",
      "        fmask:\n",
      "            layer: 1\n",
      "            path: QA/S2A_OPER_MSI_ARD_TL_SGS__20190415T012404_A019904_T56HLH_N02.07_FMASK.TIF\n",
      "        incident:\n",
      "            layer: 1\n",
      "            path: SUPPLEMENTARY/S2A_OPER_MSI_ARD_TL_SGS__20190415T012404_A019904_T56HLH_N02.07_INCIDENT.TIF\n",
      "        lambertian_blue:\n",
      "            layer: 1\n",
      "            path: LAMBERTIAN/LAMBERTIAN_B02.TIF\n",
      "        lambertian_coastal_aerosol:\n",
      "            layer: 1\n",
      "            path: LAMBERTIAN/LAMBERTIAN_B01.TIF\n",
      "        lambertian_contiguity:\n",
      "            layer: 1\n",
      "            path: QA/S2A_OPER_MSI_ARD_TL_SGS__20190415T012404_A019904_T56HLH_N02.07_LAMBERTIAN_CONTIGUITY.TIF\n",
      "        lambertian_green:\n",
      "            layer: 1\n",
      "            path: LAMBERTIAN/LAMBERTIAN_B03.TIF\n",
      "        lambertian_nir_1:\n",
      "            layer: 1\n",
      "            path: LAMBERTIAN/LAMBERTIAN_B08.TIF\n",
      "        lambertian_nir_2:\n",
      "            layer: 1\n",
      "            path: LAMBERTIAN/LAMBERTIAN_B8A.TIF\n",
      "        lambertian_red:\n",
      "            layer: 1\n",
      "            path: LAMBERTIAN/LAMBERTIAN_B04.TIF\n",
      "        lambertian_red_edge_1:\n",
      "            layer: 1\n",
      "            path: LAMBERTIAN/LAMBERTIAN_B05.TIF\n",
      "        lambertian_red_edge_2:\n",
      "            layer: 1\n",
      "            path: LAMBERTIAN/LAMBERTIAN_B06.TIF\n",
      "        lambertian_red_edge_3:\n",
      "            layer: 1\n",
      "            path: LAMBERTIAN/LAMBERTIAN_B07.TIF\n",
      "        lambertian_swir_2:\n",
      "            layer: 1\n",
      "            path: LAMBERTIAN/LAMBERTIAN_B11.TIF\n",
      "        lambertian_swir_3:\n",
      "            layer: 1\n",
      "            path: LAMBERTIAN/LAMBERTIAN_B12.TIF\n",
      "        nbar_blue:\n",
      "            layer: 1\n",
      "            path: NBAR/NBAR_B02.TIF\n",
      "        nbar_coastal_aerosol:\n",
      "            layer: 1\n",
      "            path: NBAR/NBAR_B01.TIF\n",
      "        nbar_contiguity:\n",
      "            layer: 1\n",
      "            path: QA/S2A_OPER_MSI_ARD_TL_SGS__20190415T012404_A019904_T56HLH_N02.07_NBAR_CONTIGUITY.TIF\n",
      "        nbar_green:\n",
      "            layer: 1\n",
      "            path: NBAR/NBAR_B03.TIF\n",
      "        nbar_nir_1:\n",
      "            layer: 1\n",
      "            path: NBAR/NBAR_B08.TIF\n",
      "        nbar_nir_2:\n",
      "            layer: 1\n",
      "            path: NBAR/NBAR_B8A.TIF\n",
      "        nbar_red:\n",
      "            layer: 1\n",
      "            path: NBAR/NBAR_B04.TIF\n",
      "        nbar_red_edge_1:\n",
      "            layer: 1\n",
      "            path: NBAR/NBAR_B05.TIF\n",
      "        nbar_red_edge_2:\n",
      "            layer: 1\n",
      "            path: NBAR/NBAR_B06.TIF\n",
      "        nbar_red_edge_3:\n",
      "            layer: 1\n",
      "            path: NBAR/NBAR_B07.TIF\n",
      "        nbar_swir_2:\n",
      "            layer: 1\n",
      "            path: NBAR/NBAR_B11.TIF\n",
      "        nbar_swir_3:\n",
      "            layer: 1\n",
      "            path: NBAR/NBAR_B12.TIF\n",
      "        nbart_blue:\n",
      "            layer: 1\n",
      "            path: NBART/NBART_B02.TIF\n",
      "        nbart_coastal_aerosol:\n",
      "            layer: 1\n",
      "            path: NBART/NBART_B01.TIF\n",
      "        nbart_contiguity:\n",
      "            layer: 1\n",
      "            path: QA/S2A_OPER_MSI_ARD_TL_SGS__20190415T012404_A019904_T56HLH_N02.07_NBART_CONTIGUITY.TIF\n",
      "        nbart_green:\n",
      "            layer: 1\n",
      "            path: NBART/NBART_B03.TIF\n",
      "        nbart_nir_1:\n",
      "            layer: 1\n",
      "            path: NBART/NBART_B08.TIF\n",
      "        nbart_nir_2:\n",
      "            layer: 1\n",
      "            path: NBART/NBART_B8A.TIF\n",
      "        nbart_red:\n",
      "            layer: 1\n",
      "            path: NBART/NBART_B04.TIF\n",
      "        nbart_red_edge_1:\n",
      "            layer: 1\n",
      "            path: NBART/NBART_B05.TIF\n",
      "        nbart_red_edge_2:\n",
      "            layer: 1\n",
      "            path: NBART/NBART_B06.TIF\n",
      "        nbart_red_edge_3:\n",
      "            layer: 1\n",
      "            path: NBART/NBART_B07.TIF\n",
      "        nbart_swir_2:\n",
      "            layer: 1\n",
      "            path: NBART/NBART_B11.TIF\n",
      "        nbart_swir_3:\n",
      "            layer: 1\n",
      "            path: NBART/NBART_B12.TIF\n",
      "        relative_azimuth:\n",
      "            layer: 1\n",
      "            path: SUPPLEMENTARY/S2A_OPER_MSI_ARD_TL_SGS__20190415T012404_A019904_T56HLH_N02.07_RELATIVE_AZIMUTH.TIF\n",
      "        relative_slope:\n",
      "            layer: 1\n",
      "            path: SUPPLEMENTARY/S2A_OPER_MSI_ARD_TL_SGS__20190415T012404_A019904_T56HLH_N02.07_RELATIVE_SLOPE.TIF\n",
      "        satellite_azimuth:\n",
      "            layer: 1\n",
      "            path: SUPPLEMENTARY/S2A_OPER_MSI_ARD_TL_SGS__20190415T012404_A019904_T56HLH_N02.07_SATELLITE_AZIMUTH.TIF\n",
      "        satellite_view:\n",
      "            layer: 1\n",
      "            path: SUPPLEMENTARY/S2A_OPER_MSI_ARD_TL_SGS__20190415T012404_A019904_T56HLH_N02.07_SATELLITE_VIEW.TIF\n",
      "        solar_azimuth:\n",
      "            layer: 1\n",
      "            path: SUPPLEMENTARY/S2A_OPER_MSI_ARD_TL_SGS__20190415T012404_A019904_T56HLH_N02.07_SOLAR_AZIMUTH.TIF\n",
      "        solar_zenith:\n",
      "            layer: 1\n",
      "            path: SUPPLEMENTARY/S2A_OPER_MSI_ARD_TL_SGS__20190415T012404_A019904_T56HLH_N02.07_SOLAR_ZENITH.TIF\n",
      "        terrain_shadow:\n",
      "            layer: 1\n",
      "            path: QA/S2A_OPER_MSI_ARD_TL_SGS__20190415T012404_A019904_T56HLH_N02.07_COMBINED_TERRAIN_SHADOW.TIF\n",
      "        timedelta:\n",
      "            layer: 1\n",
      "            path: SUPPLEMENTARY/S2A_OPER_MSI_ARD_TL_SGS__20190415T012404_A019904_T56HLH_N02.07_TIMEDELTA.TIF\n",
      "instrument:\n",
      "    name: MSI\n",
      "lineage:\n",
      "    ancillary:\n",
      "        aerosol:\n",
      "            atime: '2019-04-15T05:42:58.043499'\n",
      "            ctime: '2019-04-15T05:29:16.046526'\n",
      "            dataset_pathname: /cmp/aot_mean_Apr_All_Aerosols\n",
      "            extents: POLYGON ((150.8489762082608934 -33.4203779546693909, 152.0296509646444747\n",
      "                -33.4352376915767451, 152.0183552188582610 -34.4253821597873397, 150.8239553990497939\n",
      "                -34.4099608504652110, 150.8489762082608934 -33.4203779546693909))\n",
      "            mtime: '2017-05-31T06:31:42'\n",
      "            owner: ',,,'\n",
      "            url: file:///ancillary/aerosol/aerosol.h5\n",
      "            value: 0.042768352\n",
      "        brdf_geo_band_2:\n",
      "            atime: '2019-04-15T05:48:40.108324'\n",
      "            ctime: '2019-04-15T05:29:52.146526'\n",
      "            extents: POLYGON ((150.8489762082608934 -33.4203779546693909, 152.0183552188582610\n",
      "                -33.4203779546693909, 152.0183552188582610 -34.4253821597873397, 150.8489762082608934\n",
      "                -34.4253821597873397, 150.8489762082608934 -33.4203779546693909))\n",
      "            mtime: '2017-05-31T23:42:51'\n",
      "            owner: ',,,'\n",
      "            type: brdf_geo_band_2\n",
      "            url: file:///ancillary/brdf-jl/105/MCD43A1.JLWKAV.105.aust.005.b09.500m_0459_0479nm_brdf_par_fgeo.hdf\n",
      "            value: 0.0063476267043992805\n",
      "        brdf_geo_band_3:\n",
      "            atime: '2019-04-15T05:48:40.764292'\n",
      "            ctime: '2019-04-15T05:29:56.778526'\n",
      "            extents: POLYGON ((150.8489762082608934 -33.4203779546693909, 152.0183552188582610\n",
      "                -33.4203779546693909, 152.0183552188582610 -34.4253821597873397, 150.8489762082608934\n",
      "                -34.4253821597873397, 150.8489762082608934 -33.4203779546693909))\n",
      "            mtime: '2017-05-31T23:42:51'\n",
      "            owner: ',,,'\n",
      "            type: brdf_geo_band_3\n",
      "            url: file:///ancillary/brdf-jl/105/MCD43A1.JLWKAV.105.aust.005.b12.500m_0545_0565nm_brdf_par_fgeo.hdf\n",
      "            value: 0.013646777720607154\n",
      "        brdf_geo_band_4:\n",
      "            atime: '2019-04-15T05:48:41.460256'\n",
      "            ctime: '2019-04-15T05:29:47.146526'\n",
      "            extents: POLYGON ((150.8489762082608934 -33.4203779546693909, 152.0183552188582610\n",
      "                -33.4203779546693909, 152.0183552188582610 -34.4253821597873397, 150.8489762082608934\n",
      "                -34.4253821597873397, 150.8489762082608934 -33.4203779546693909))\n",
      "            mtime: '2017-05-31T23:42:51'\n",
      "            owner: ',,,'\n",
      "            type: brdf_geo_band_4\n",
      "            url: file:///ancillary/brdf-jl/105/MCD43A1.JLWKAV.105.aust.005.b03.500m_0620_0670nm_brdf_par_fgeo.hdf\n",
      "            value: 0.013027514792899408\n",
      "        brdf_geo_band_8:\n",
      "            atime: '2019-04-15T05:48:42.132222'\n",
      "            ctime: '2019-04-15T05:29:50.450526'\n",
      "            extents: POLYGON ((150.8489762082608934 -33.4203779546693909, 152.0183552188582610\n",
      "                -33.4203779546693909, 152.0183552188582610 -34.4253821597873397, 150.8489762082608934\n",
      "                -34.4253821597873397, 150.8489762082608934 -33.4203779546693909))\n",
      "            mtime: '2017-05-31T23:42:51'\n",
      "            owner: ',,,'\n",
      "            type: brdf_geo_band_8\n",
      "            url: file:///ancillary/brdf-jl/105/MCD43A1.JLWKAV.105.aust.005.b06.500m_0841_0876nm_brdf_par_fgeo.hdf\n",
      "            value: 0.0293708322613841\n",
      "        brdf_iso_band_2:\n",
      "            atime: '2019-04-15T05:42:58.567501'\n",
      "            ctime: '2019-04-15T05:29:50.202526'\n",
      "            extents: POLYGON ((150.8489762082608934 -33.4203779546693909, 152.0183552188582610\n",
      "                -33.4203779546693909, 152.0183552188582610 -34.4253821597873397, 150.8489762082608934\n",
      "                -34.4253821597873397, 150.8489762082608934 -33.4203779546693909))\n",
      "            mtime: '2017-05-31T23:42:51'\n",
      "            owner: ',,,'\n",
      "            type: brdf_iso_band_2\n",
      "            url: file:///ancillary/brdf-jl/105/MCD43A1.JLWKAV.105.aust.005.b07.500m_0459_0479nm_brdf_par_fiso.hdf\n",
      "            value: 0.0337008875739645\n",
      "        brdf_iso_band_3:\n",
      "            atime: '2019-04-15T05:48:40.340313'\n",
      "            ctime: '2019-04-15T05:29:53.030526'\n",
      "            extents: POLYGON ((150.8489762082608934 -33.4203779546693909, 152.0183552188582610\n",
      "                -33.4203779546693909, 152.0183552188582610 -34.4253821597873397, 150.8489762082608934\n",
      "                -34.4253821597873397, 150.8489762082608934 -33.4203779546693909))\n",
      "            mtime: '2017-05-31T23:42:51'\n",
      "            owner: ',,,'\n",
      "            type: brdf_iso_band_3\n",
      "            url: file:///ancillary/brdf-jl/105/MCD43A1.JLWKAV.105.aust.005.b10.500m_0545_0565nm_brdf_par_fiso.hdf\n",
      "            value: 0.06666072163622332\n",
      "        brdf_iso_band_4:\n",
      "            atime: '2019-04-15T05:48:41.016279'\n",
      "            ctime: '2019-04-15T05:29:46.126526'\n",
      "            extents: POLYGON ((150.8489762082608934 -33.4203779546693909, 152.0183552188582610\n",
      "                -33.4203779546693909, 152.0183552188582610 -34.4253821597873397, 150.8489762082608934\n",
      "                -34.4253821597873397, 150.8489762082608934 -33.4203779546693909))\n",
      "            mtime: '2017-05-31T23:42:51'\n",
      "            owner: ',,,'\n",
      "            type: brdf_iso_band_4\n",
      "            url: file:///ancillary/brdf-jl/105/MCD43A1.JLWKAV.105.aust.005.b01.500m_0620_0670nm_brdf_par_fiso.hdf\n",
      "            value: 0.06382143040905583\n",
      "        brdf_iso_band_8:\n",
      "            atime: '2019-04-15T05:48:41.708244'\n",
      "            ctime: '2019-04-15T05:29:47.522526'\n",
      "            extents: POLYGON ((150.8489762082608934 -33.4203779546693909, 152.0183552188582610\n",
      "                -33.4203779546693909, 152.0183552188582610 -34.4253821597873397, 150.8489762082608934\n",
      "                -34.4253821597873397, 150.8489762082608934 -33.4203779546693909))\n",
      "            mtime: '2017-05-31T23:42:51'\n",
      "            owner: ',,,'\n",
      "            type: brdf_iso_band_8\n",
      "            url: file:///ancillary/brdf-jl/105/MCD43A1.JLWKAV.105.aust.005.b04.500m_0841_0876nm_brdf_par_fiso.hdf\n",
      "            value: 0.24684176099819913\n",
      "        brdf_vol_band_2:\n",
      "            atime: '2019-04-15T05:48:39.872335'\n",
      "            ctime: '2019-04-15T05:29:50.666526'\n",
      "            extents: POLYGON ((150.8489762082608934 -33.4203779546693909, 152.0183552188582610\n",
      "                -33.4203779546693909, 152.0183552188582610 -34.4253821597873397, 150.8489762082608934\n",
      "                -34.4253821597873397, 150.8489762082608934 -33.4203779546693909))\n",
      "            mtime: '2017-05-31T23:42:51'\n",
      "            owner: ',,,'\n",
      "            type: brdf_vol_band_2\n",
      "            url: file:///ancillary/brdf-jl/105/MCD43A1.JLWKAV.105.aust.005.b08.500m_0459_0479nm_brdf_par_fvol.hdf\n",
      "            value: 0.009761840751222023\n",
      "        brdf_vol_band_3:\n",
      "            atime: '2019-04-15T05:48:40.548302'\n",
      "            ctime: '2019-04-15T05:29:56.218526'\n",
      "            extents: POLYGON ((150.8489762082608934 -33.4203779546693909, 152.0183552188582610\n",
      "                -33.4203779546693909, 152.0183552188582610 -34.4253821597873397, 150.8489762082608934\n",
      "                -34.4253821597873397, 150.8489762082608934 -33.4203779546693909))\n",
      "            mtime: '2017-05-31T23:42:51'\n",
      "            owner: ',,,'\n",
      "            type: brdf_vol_band_3\n",
      "            url: file:///ancillary/brdf-jl/105/MCD43A1.JLWKAV.105.aust.005.b11.500m_0545_0565nm_brdf_par_fvol.hdf\n",
      "            value: 0.023096507589400565\n",
      "        brdf_vol_band_4:\n",
      "            atime: '2019-04-15T05:48:41.224268'\n",
      "            ctime: '2019-04-15T05:29:46.458526'\n",
      "            extents: POLYGON ((150.8489762082608934 -33.4203779546693909, 152.0183552188582610\n",
      "                -33.4203779546693909, 152.0183552188582610 -34.4253821597873397, 150.8489762082608934\n",
      "                -34.4253821597873397, 150.8489762082608934 -33.4203779546693909))\n",
      "            mtime: '2017-05-31T23:42:51'\n",
      "            owner: ',,,'\n",
      "            type: brdf_vol_band_4\n",
      "            url: file:///ancillary/brdf-jl/105/MCD43A1.JLWKAV.105.aust.005.b02.500m_0620_0670nm_brdf_par_fvol.hdf\n",
      "            value: 0.01945924234628248\n",
      "        brdf_vol_band_8:\n",
      "            atime: '2019-04-15T05:48:41.916233'\n",
      "            ctime: '2019-04-15T05:29:47.746526'\n",
      "            extents: POLYGON ((150.8489762082608934 -33.4203779546693909, 152.0183552188582610\n",
      "                -33.4203779546693909, 152.0183552188582610 -34.4253821597873397, 150.8489762082608934\n",
      "                -34.4253821597873397, 150.8489762082608934 -33.4203779546693909))\n",
      "            mtime: '2017-05-31T23:42:51'\n",
      "            owner: ',,,'\n",
      "            type: brdf_vol_band_8\n",
      "            url: file:///ancillary/brdf-jl/105/MCD43A1.JLWKAV.105.aust.005.b05.500m_0841_0876nm_brdf_par_fvol.hdf\n",
      "            value: 0.14333935554412144\n",
      "        elevation:\n",
      "            atime: '2019-04-15T05:42:58.555501'\n",
      "            ctime: '2019-04-15T05:29:16.046526'\n",
      "            mtime: '2017-05-31T08:03:53'\n",
      "            owner: ',,,'\n",
      "            url: file:///ancillary/elevation/world_1deg/DEM_one_deg.tif\n",
      "            value: 0.232\n",
      "        ozone:\n",
      "            atime: '2019-04-15T05:42:58.483500'\n",
      "            ctime: '2019-04-15T05:29:16.046526'\n",
      "            mtime: '2017-05-31T06:32:41'\n",
      "            owner: ',,,'\n",
      "            url: file:///ancillary/ozone/apr.tif\n",
      "            value: 0.273\n",
      "        water_vapour:\n",
      "            atime: '2019-04-15T05:42:58.415500'\n",
      "            ctime: '2019-04-15T05:30:03.418526'\n",
      "            mtime: '2019-04-15T03:46:01'\n",
      "            owner: ',,,'\n",
      "            url: file:///ancillary/water_vapour/pr_wtr.eatm.2019.tif\n",
      "            value: 1.8\n",
      "    source_datasets:\n",
      "        level1:\n",
      "            acquisition:\n",
      "                groundstation:\n",
      "                    code: SGS_\n",
      "            archiving_time: '2019-04-15T01:46:56.921105Z'\n",
      "            checksum_sha1: f468353bdec41e53eaac9237118c53eee96f9572\n",
      "            datastrip_id: S2A_OPER_MSI_L1C_DS_SGS__20190415T012404_S20190415T000242_N02.07\n",
      "            datastrip_metadata: http://sentinel-s2-l1c.s3-website.eu-central-1.amazonaws.com/#products/2019/4/15/S2A_MSIL1C_20190415T000241_N0207_R030_T56HLH_20190415T012404/datastrip/0\n",
      "            datatake_id:\n",
      "                datatakeIdentifier: GS2A_20190415T000241_019904_N02.07\n",
      "                metadataLevel: Brief\n",
      "            datatake_sensing_start: '2019-04-15T00:02:41.024Z'\n",
      "            datatake_type: INS-NOBS\n",
      "            downlink_priority: NOMINAL\n",
      "            extent:\n",
      "                center_dt: '2019-04-15T00:06:10.484683Z'\n",
      "                coord:\n",
      "                    ll:\n",
      "                        lat: -34.40996085046521\n",
      "                        lon: 150.8239553990498\n",
      "                    lr:\n",
      "                        lat: -34.42538215978734\n",
      "                        lon: 152.01835521885826\n",
      "                    ul:\n",
      "                        lat: -33.42037795466939\n",
      "                        lon: 150.8489762082609\n",
      "                    ur:\n",
      "                        lat: -33.435237691576745\n",
      "                        lon: 152.02965096464447\n",
      "            format:\n",
      "                name: JPEG2000\n",
      "            grid_spatial:\n",
      "                projection:\n",
      "                    geo_ref_points:\n",
      "                        ll:\n",
      "                            x: 300000\n",
      "                            y: 6190240\n",
      "                        lr:\n",
      "                            x: 409800\n",
      "                            y: 6190240\n",
      "                        ul:\n",
      "                            x: 300000\n",
      "                            y: 6300040\n",
      "                        ur:\n",
      "                            x: 409800\n",
      "                            y: 6300040\n",
      "                    spatial_reference: PROJCS[\"WGS 84 / UTM zone 56S\",GEOGCS[\"WGS\n",
      "                        84\",DATUM[\"WGS_1984\",SPHEROID[\"WGS 84\",6378137,298.257223563,AUTHORITY[\"EPSG\",\"7030\"]],AUTHORITY[\"EPSG\",\"6326\"]],PRIMEM[\"Greenwich\",0,AUTHORITY[\"EPSG\",\"8901\"]],UNIT[\"degree\",0.0174532925199433,AUTHORITY[\"EPSG\",\"9122\"]],AUTHORITY[\"EPSG\",\"4326\"]],PROJECTION[\"Transverse_Mercator\"],PARAMETER[\"latitude_of_origin\",0],PARAMETER[\"central_meridian\",153],PARAMETER[\"scale_factor\",0.9996],PARAMETER[\"false_easting\",500000],PARAMETER[\"false_northing\",10000000],UNIT[\"metre\",1,AUTHORITY[\"EPSG\",\"9001\"]],AXIS[\"Easting\",EAST],AXIS[\"Northing\",NORTH],AUTHORITY[\"EPSG\",\"32756\"]]\n",
      "                    valid_data:\n",
      "                        coordinates:\n",
      "                        -   -   - 381359.38425086223\n",
      "                                - 6190240.0\n",
      "                            -   - 404760.0\n",
      "                                - 6300040.0\n",
      "                            -   - 300000.0\n",
      "                                - 6300040.0\n",
      "                            -   - 300000.0\n",
      "                                - 6190240.0\n",
      "                            -   - 381359.38425086223\n",
      "                                - 6190240.0\n",
      "                        type: Polygon\n",
      "            id: c2a274a1-e00a-5d85-8912-ff5bc27ba62e\n",
      "            image:\n",
      "                bands:\n",
      "                    B01:\n",
      "                        layer: 1\n",
      "                        path: s3://sentinel-s2-l1c/tiles/56/H/LH/2019/4/15/0/B01.jp2\n",
      "                    B02:\n",
      "                        layer: 1\n",
      "                        path: s3://sentinel-s2-l1c/tiles/56/H/LH/2019/4/15/0/B02.jp2\n",
      "                    B03:\n",
      "                        layer: 1\n",
      "                        path: s3://sentinel-s2-l1c/tiles/56/H/LH/2019/4/15/0/B03.jp2\n",
      "                    B04:\n",
      "                        layer: 1\n",
      "                        path: s3://sentinel-s2-l1c/tiles/56/H/LH/2019/4/15/0/B04.jp2\n",
      "                    B05:\n",
      "                        layer: 1\n",
      "                        path: s3://sentinel-s2-l1c/tiles/56/H/LH/2019/4/15/0/B05.jp2\n",
      "                    B06:\n",
      "                        layer: 1\n",
      "                        path: s3://sentinel-s2-l1c/tiles/56/H/LH/2019/4/15/0/B06.jp2\n",
      "                    B07:\n",
      "                        layer: 1\n",
      "                        path: s3://sentinel-s2-l1c/tiles/56/H/LH/2019/4/15/0/B07.jp2\n",
      "                    B08:\n",
      "                        layer: 1\n",
      "                        path: s3://sentinel-s2-l1c/tiles/56/H/LH/2019/4/15/0/B08.jp2\n",
      "                    B09:\n",
      "                        layer: 1\n",
      "                        path: s3://sentinel-s2-l1c/tiles/56/H/LH/2019/4/15/0/B09.jp2\n",
      "                    B10:\n",
      "                        layer: 1\n",
      "                        path: s3://sentinel-s2-l1c/tiles/56/H/LH/2019/4/15/0/B10.jp2\n",
      "                    B11:\n",
      "                        layer: 1\n",
      "                        path: s3://sentinel-s2-l1c/tiles/56/H/LH/2019/4/15/0/B11.jp2\n",
      "                    B12:\n",
      "                        layer: 1\n",
      "                        path: s3://sentinel-s2-l1c/tiles/56/H/LH/2019/4/15/0/B12.jp2\n",
      "                    B8A:\n",
      "                        layer: 1\n",
      "                        path: s3://sentinel-s2-l1c/tiles/56/H/LH/2019/4/15/0/B8A.jp2\n",
      "                cloud_cover_percentage: '12.1824'\n",
      "                degraded_anc_data_percentage: '0'\n",
      "                degraded_msi_data_percentage: '0'\n",
      "                format_quality_flag: PASSED\n",
      "                general_quality_flag: PASSED\n",
      "                geometric_quality_flag: PASSED\n",
      "                radiometric_quality_flag: PASSED\n",
      "                reflectance_conversion: '0.996348504604265'\n",
      "                sensor_quality_flag: PASSED\n",
      "                solar_irradiance: []\n",
      "                sun_azimuth: '35.5469461956487'\n",
      "                sun_elevation: '50.5436051260325'\n",
      "                tile_reference: T56HLH\n",
      "                viewing_angles:\n",
      "                -   bandId: '0'\n",
      "                    measurement:\n",
      "                        azimith:\n",
      "                            value: '285.792165607725'\n",
      "                        zenith:\n",
      "                            value: '8.40436569213192'\n",
      "                    unit: degree\n",
      "                -   bandId: '9'\n",
      "                    measurement:\n",
      "                        azimith:\n",
      "                            value: '285.829026098453'\n",
      "                        zenith:\n",
      "                            value: '8.4477766783706'\n",
      "                    unit: degree\n",
      "                -   bandId: '10'\n",
      "                    measurement:\n",
      "                        azimith:\n",
      "                            value: '285.67580104313'\n",
      "                        zenith:\n",
      "                            value: '8.26085995228217'\n",
      "                    unit: degree\n",
      "                -   bandId: '1'\n",
      "                    measurement:\n",
      "                        azimith:\n",
      "                            value: '285.750400917056'\n",
      "                        zenith:\n",
      "                            value: '8.20318932669775'\n",
      "                    unit: degree\n",
      "                -   bandId: '2'\n",
      "                    measurement:\n",
      "                        azimith:\n",
      "                            value: '285.777702438786'\n",
      "                        zenith:\n",
      "                            value: '8.22928761259388'\n",
      "                    unit: degree\n",
      "                -   bandId: '3'\n",
      "                    measurement:\n",
      "                        azimith:\n",
      "                            value: '285.799111385389'\n",
      "                        zenith:\n",
      "                            value: '8.26299432823228'\n",
      "                    unit: degree\n",
      "                -   bandId: '4'\n",
      "                    measurement:\n",
      "                        azimith:\n",
      "                            value: '285.775881828151'\n",
      "                        zenith:\n",
      "                            value: '8.28982556872161'\n",
      "                    unit: degree\n",
      "                -   bandId: '5'\n",
      "                    measurement:\n",
      "                        azimith:\n",
      "                            value: '285.792625234437'\n",
      "                        zenith:\n",
      "                            value: '8.31437375884656'\n",
      "                    unit: degree\n",
      "                -   bandId: '6'\n",
      "                    measurement:\n",
      "                        azimith:\n",
      "                            value: '285.796826266657'\n",
      "                        zenith:\n",
      "                            value: '8.34138556258184'\n",
      "                    unit: degree\n",
      "                -   bandId: '7'\n",
      "                    measurement:\n",
      "                        azimith:\n",
      "                            value: '285.757761823039'\n",
      "                        zenith:\n",
      "                            value: '8.21517544423599'\n",
      "                    unit: degree\n",
      "                -   bandId: '8'\n",
      "                    measurement:\n",
      "                        azimith:\n",
      "                            value: '285.831429692362'\n",
      "                        zenith:\n",
      "                            value: '8.37899129748345'\n",
      "                    unit: degree\n",
      "                -   bandId: '11'\n",
      "                    measurement:\n",
      "                        azimith:\n",
      "                            value: '285.688840843483'\n",
      "                        zenith:\n",
      "                            value: '8.31334080439139'\n",
      "                    unit: degree\n",
      "                -   bandId: '12'\n",
      "                    measurement:\n",
      "                        azimith:\n",
      "                            value: '285.728815221532'\n",
      "                        zenith:\n",
      "                            value: '8.38038973536379'\n",
      "                    unit: degree\n",
      "            instrument:\n",
      "                name: MSI\n",
      "            lineage:\n",
      "                source_datasets: {}\n",
      "            orbit: '30'\n",
      "            orbit_direction: DESCENDING\n",
      "            platform:\n",
      "                code: SENTINEL_2A\n",
      "            processing_level: Level-1C\n",
      "            product_format:\n",
      "                name: s2_aws_pds\n",
      "            product_type: level1\n",
      "            size_bytes: 631698050\n",
      "            tile_id: S2A_OPER_MSI_L1C_TL_SGS__20190415T012404_A019904_T56HLH_N02.07\n",
      "platform:\n",
      "    code: SENTINEL_2A\n",
      "processing_level: Level-2\n",
      "product_type: ard\n",
      "software_versions:\n",
      "    modtran:\n",
      "        repo_url: http://www.ontar.com/software/productdetails.aspx?item=modtran\n",
      "        version: 5.2.1\n",
      "    wagl:\n",
      "        repo_url: https://github.com/GeoscienceAustralia/wagl.git\n",
      "        version: 5.0.5+33.g94f1105.dirty\n",
      "system_information:\n",
      "    hostname: ip-10-0-12-32.ap-southeast-2.compute.internal\n",
      "    runtime_id: 39d0bd0a-5f48-11e9-8f03-0af9131e3ae6\n",
      "    time_processed: '2019-04-15T06:32:22.377650'\n",
      "    uname: 'Linux ip-10-0-12-32 4.9.85-38.58.amzn1.x86_64 #1 SMP Wed Mar 14 01:17:26\n",
      "        UTC 2018 x86_64'\n",
      "tile_id: S2A_OPER_MSI_L1C_TL_SGS__20190415T012404_A019904_T56HLH_N02.07\n",
      "\n"
     ]
    }
   ],
   "source": [
    "print(raw_string)"
   ]
  },
  {
   "cell_type": "code",
   "execution_count": 38,
   "metadata": {},
   "outputs": [
    {
     "data": {
      "text/plain": [
       "2239"
      ]
     },
     "execution_count": 38,
     "metadata": {},
     "output_type": "execute_result"
    }
   ],
   "source": [
    "raw_string.find('56HLH')"
   ]
  },
  {
   "cell_type": "code",
   "execution_count": 39,
   "metadata": {},
   "outputs": [
    {
     "data": {
      "text/plain": [
       "'I_ARD_TL_SGS__20190415T012404_A019904_T56HLH_N02.07_AZIMUTHAL_EXITING.TIF\\n        azimuthal_incident:\\n            layer: 1\\n            path: SUPPLEMENTARY/S2A_OPER_MSI_ARD_TL_SGS__20190415T012404_A019904_T56HLH_N02.07_AZIMUTHAL_INCIDENT.TIF\\n        exiting:\\n            layer: 1\\n            path: SUPPLEMENTARY/S2A_OPER_MSI_ARD_TL_SGS__20190415T012404_A019904_T56HLH_N02.07_EXITING.TIF\\n        fmask:\\n            layer: 1\\n            path: QA/S2A_OPER_MSI_ARD_TL_SGS__20190415T012404_A019904_T56HLH_N02.07_FMASK.TIF\\n        incident:\\n            layer: 1\\n            path: SUPPLEMENTARY/S2A_OPER_MSI_ARD_TL_SGS__20190415T012404_A019904_T56HLH_N02.07_INCIDENT.TIF\\n        lambertian_blue:\\n            layer: 1\\n            path: LAMBERTIAN/LAMBERTIAN_B02.TIF\\n        lambertian_coastal_aerosol:\\n            layer: 1\\n            path: LAMBERTIAN/LAMBERTIAN_B01.TIF\\n        lambertian_contiguity:\\n            layer: 1\\n            path: QA/S2A_OPER_MSI_ARD_TL_SGS__20190415T012404_A019904_T56HLH_N02.07_LAMBERTIAN_CONTIGUITY.TIF\\n        lambertian_green:\\n            layer: 1\\n            path: LAMBERTIAN/LAMBERTIAN_B03.TIF\\n        lambertian_nir_1:\\n            layer: 1\\n            path: LAMBERTIAN/LAMBERTIAN_B08.TIF\\n        lambertian_nir_2:\\n            layer: 1\\n            path: LAMBERTIAN/LAMBERTIAN_B8A.TIF\\n        lambertian_red:\\n            layer: 1\\n            path: LAMBERTIAN/LAMBERTIAN_B04.TIF\\n        lambertian_red_edge_1:\\n            layer: 1\\n            path: LAMBERTIAN/LAMBERTIAN_B05.TIF\\n        lambertian_red_edge_2:\\n            layer: 1\\n            path: LAMBERTIAN/LAMBERTIAN_B06.TIF\\n        lambertian_red_edge_3:\\n            layer: 1\\n            path: LAMBERTIAN/LAMBERTIAN_B07.TIF\\n        lambertian_swir_2:\\n            layer: 1\\n            path: LAMBERTIAN/LAMBERTIAN_B11.TIF\\n        lambertian_swir_3:\\n            layer: 1\\n            path: LAMBERTIAN/LAMBERTIAN_B12.TIF\\n        nbar_blue:\\n            layer: 1\\n            path: NBAR/NBAR_B02.TIF\\n        nbar_coastal_aerosol:\\n            layer: 1\\n            path: NBAR/NBAR_B01.TIF\\n        nbar_contiguity:\\n            layer: 1\\n            path: QA/S2A_OPER_MSI_ARD_TL_SGS__20190415T012404_A019904_T56HLH_N02.07_NBAR_CONTIGUITY.TIF\\n        nbar_green:\\n            layer: 1\\n            path: NBAR/NBAR_B03.TIF\\n        nbar_nir_1:\\n            layer: 1\\n            path: NBAR/NBAR_B08.TIF\\n        nbar_nir_2:\\n            layer: 1\\n            path: NBAR/NBAR_B8A.TIF\\n        nbar_red:\\n            layer: 1\\n            path: NBAR/NBAR_B04.TIF\\n        nbar_red_edge_1:\\n            layer: 1\\n            path: NBAR/NBAR_B05.TIF\\n        nbar_red_edge_2:\\n            layer: 1\\n            path: NBAR/NBAR_B06.TIF\\n        nbar_red_edge_3:\\n            layer: 1\\n            path: NBAR/NBAR_B07.TIF\\n        nbar_swir_2:\\n            layer: 1\\n            path: NBAR/NBAR_B11.TIF\\n        nbar_swir_3:\\n            layer: 1\\n            path: NBAR/NBAR_B12.TIF\\n        nbart_blue:\\n            layer: 1\\n            path: NBART/NBART_B02.TIF\\n        nbart_coastal_aerosol:\\n            layer: 1\\n            path: NBART/NBART_B01.TIF\\n        nbart_contiguity:\\n            layer: 1\\n            path: QA/S2A_OPER_MSI_ARD_TL_SGS__20190415T012404_A019904_T56HLH_N02.07_NBART_CONTIGUITY.TIF\\n        nbart_green:\\n            layer: 1\\n            path: NBART/NBART_B03.TIF\\n        nbart_nir_1:\\n            layer: 1\\n            path: NBART/NBART_B08.TIF\\n        nbart_nir_2:\\n            layer: 1\\n            path: NBART/NBART_B8A.TIF\\n        nbart_red:\\n            layer: 1\\n            path: NBART/NBART_B04.TIF\\n        nbart_red_edge_1:\\n            layer: 1\\n            path: NBART/NBART_B05.TIF\\n        nbart_red_edge_2:\\n            layer: 1\\n            path: NBART/NBART_B06.TIF\\n        nbart_red_edge_3:\\n            layer: 1\\n            path: NBART/NBART_B07.TIF\\n        nbart_swir_2:\\n            layer: 1\\n            path: NBART/NBART_B11.TIF\\n        nbart_swir_3:\\n            layer: 1\\n            path: NBART/NBART_B12.TIF\\n        relative_azimuth:\\n            layer: 1\\n            path: SUPPLEMENTARY/S2A_OPER_MSI_ARD_TL_SGS__20190415T012404_A019904_T56HLH_N02.07_RELATIVE_AZIMUTH.TIF\\n        relative_slope:\\n            layer: 1\\n            path: SUPPLEMENTARY/S2A_OPER_MSI_ARD_TL_SGS__20190415T012404_A019904_T56HLH_N02.07_RELATIVE_SLOPE.TIF\\n        satellite_azimuth:\\n            layer: 1\\n            path: SUPPLEMENTARY/S2A_OPER_MSI_ARD_TL_SGS__20190415T012404_A019904_T56HLH_N02.07_SATELLITE_AZIMUTH.TIF\\n        satellite_view:\\n            layer: 1\\n            path: SUPPLEMENTARY/S2A_OPER_MSI_ARD_TL_SGS__20190415T012404_A019904_T56HLH_N02.07_SATELLITE_VIEW.TIF\\n        solar_azimuth:\\n            layer: 1\\n            path: SUPPLEMENTARY/S2A_OPER_MSI_ARD_TL_SGS__20190415T012404_A019904_T56HLH_N02.07_SOLAR_AZIMUTH.TIF\\n        solar_zenith:\\n            layer: 1\\n            path: SUPPLEMENTARY/S2A_OPER_MSI_ARD_TL_SGS__20190415T012404_A019904_T56HLH_N02.07_SOLAR_ZENITH.TIF\\n        terrain_shadow:\\n            layer: 1\\n            path: QA/S2A_OPER_MSI_ARD_TL_SGS__20190415T012404_A019904_T56HLH_N02.07_COMBINED_TERRAIN_SHADOW.TIF\\n        timedelta:\\n            layer: 1\\n            path: SUPPLEMENTARY/S2A_OPER_MSI_ARD_TL_SGS__20190415T012404_A019904_T56HLH_N02.07_TIMEDELTA.TIF\\ninstrument:\\n    name: MSI\\nlineage:\\n    ancillary:\\n        aerosol:\\n            atime: \\'2019-04-15T05:42:58.043499\\'\\n            ctime: \\'2019-04-15T05:29:16.046526\\'\\n            dataset_pathname: /cmp/aot_mean_Apr_All_Aerosols\\n            extents: POLYGON ((150.8489762082608934 -33.4203779546693909, 152.0296509646444747\\n                -33.4352376915767451, 152.0183552188582610 -34.4253821597873397, 150.8239553990497939\\n                -34.4099608504652110, 150.8489762082608934 -33.4203779546693909))\\n            mtime: \\'2017-05-31T06:31:42\\'\\n            owner: \\',,,\\'\\n            url: file:///ancillary/aerosol/aerosol.h5\\n            value: 0.042768352\\n        brdf_geo_band_2:\\n            atime: \\'2019-04-15T05:48:40.108324\\'\\n            ctime: \\'2019-04-15T05:29:52.146526\\'\\n            extents: POLYGON ((150.8489762082608934 -33.4203779546693909, 152.0183552188582610\\n                -33.4203779546693909, 152.0183552188582610 -34.4253821597873397, 150.8489762082608934\\n                -34.4253821597873397, 150.8489762082608934 -33.4203779546693909))\\n            mtime: \\'2017-05-31T23:42:51\\'\\n            owner: \\',,,\\'\\n            type: brdf_geo_band_2\\n            url: file:///ancillary/brdf-jl/105/MCD43A1.JLWKAV.105.aust.005.b09.500m_0459_0479nm_brdf_par_fgeo.hdf\\n            value: 0.0063476267043992805\\n        brdf_geo_band_3:\\n            atime: \\'2019-04-15T05:48:40.764292\\'\\n            ctime: \\'2019-04-15T05:29:56.778526\\'\\n            extents: POLYGON ((150.8489762082608934 -33.4203779546693909, 152.0183552188582610\\n                -33.4203779546693909, 152.0183552188582610 -34.4253821597873397, 150.8489762082608934\\n                -34.4253821597873397, 150.8489762082608934 -33.4203779546693909))\\n            mtime: \\'2017-05-31T23:42:51\\'\\n            owner: \\',,,\\'\\n            type: brdf_geo_band_3\\n            url: file:///ancillary/brdf-jl/105/MCD43A1.JLWKAV.105.aust.005.b12.500m_0545_0565nm_brdf_par_fgeo.hdf\\n            value: 0.013646777720607154\\n        brdf_geo_band_4:\\n            atime: \\'2019-04-15T05:48:41.460256\\'\\n            ctime: \\'2019-04-15T05:29:47.146526\\'\\n            extents: POLYGON ((150.8489762082608934 -33.4203779546693909, 152.0183552188582610\\n                -33.4203779546693909, 152.0183552188582610 -34.4253821597873397, 150.8489762082608934\\n                -34.4253821597873397, 150.8489762082608934 -33.4203779546693909))\\n            mtime: \\'2017-05-31T23:42:51\\'\\n            owner: \\',,,\\'\\n            type: brdf_geo_band_4\\n            url: file:///ancillary/brdf-jl/105/MCD43A1.JLWKAV.105.aust.005.b03.500m_0620_0670nm_brdf_par_fgeo.hdf\\n            value: 0.013027514792899408\\n        brdf_geo_band_8:\\n            atime: \\'2019-04-15T05:48:42.132222\\'\\n            ctime: \\'2019-04-15T05:29:50.450526\\'\\n            extents: POLYGON ((150.8489762082608934 -33.4203779546693909, 152.0183552188582610\\n                -33.4203779546693909, 152.0183552188582610 -34.4253821597873397, 150.8489762082608934\\n                -34.4253821597873397, 150.8489762082608934 -33.4203779546693909))\\n            mtime: \\'2017-05-31T23:42:51\\'\\n            owner: \\',,,\\'\\n            type: brdf_geo_band_8\\n            url: file:///ancillary/brdf-jl/105/MCD43A1.JLWKAV.105.aust.005.b06.500m_0841_0876nm_brdf_par_fgeo.hdf\\n            value: 0.0293708322613841\\n        brdf_iso_band_2:\\n            atime: \\'2019-04-15T05:42:58.567501\\'\\n            ctime: \\'2019-04-15T05:29:50.202526\\'\\n            extents: POLYGON ((150.8489762082608934 -33.4203779546693909, 152.0183552188582610\\n                -33.4203779546693909, 152.0183552188582610 -34.4253821597873397, 150.8489762082608934\\n                -34.4253821597873397, 150.8489762082608934 -33.4203779546693909))\\n            mtime: \\'2017-05-31T23:42:51\\'\\n            owner: \\',,,\\'\\n            type: brdf_iso_band_2\\n            url: file:///ancillary/brdf-jl/105/MCD43A1.JLWKAV.105.aust.005.b07.500m_0459_0479nm_brdf_par_fiso.hdf\\n            value: 0.0337008875739645\\n        brdf_iso_band_3:\\n            atime: \\'2019-04-15T05:48:40.340313\\'\\n            ctime: \\'2019-04-15T05:29:53.030526\\'\\n            extents: POLYGON ((150.8489762082608934 -33.4203779546693909, 152.0183552188582610\\n                -33.4203779546693909, 152.0183552188582610 -34.4253821597873397, 150.8489762082608934\\n                -34.4253821597873397, 150.8489762082608934 -33.4203779546693909))\\n            mtime: \\'2017-05-31T23:42:51\\'\\n            owner: \\',,,\\'\\n            type: brdf_iso_band_3\\n            url: file:///ancillary/brdf-jl/105/MCD43A1.JLWKAV.105.aust.005.b10.500m_0545_0565nm_brdf_par_fiso.hdf\\n            value: 0.06666072163622332\\n        brdf_iso_band_4:\\n            atime: \\'2019-04-15T05:48:41.016279\\'\\n            ctime: \\'2019-04-15T05:29:46.126526\\'\\n            extents: POLYGON ((150.8489762082608934 -33.4203779546693909, 152.0183552188582610\\n                -33.4203779546693909, 152.0183552188582610 -34.4253821597873397, 150.8489762082608934\\n                -34.4253821597873397, 150.8489762082608934 -33.4203779546693909))\\n            mtime: \\'2017-05-31T23:42:51\\'\\n            owner: \\',,,\\'\\n            type: brdf_iso_band_4\\n            url: file:///ancillary/brdf-jl/105/MCD43A1.JLWKAV.105.aust.005.b01.500m_0620_0670nm_brdf_par_fiso.hdf\\n            value: 0.06382143040905583\\n        brdf_iso_band_8:\\n            atime: \\'2019-04-15T05:48:41.708244\\'\\n            ctime: \\'2019-04-15T05:29:47.522526\\'\\n            extents: POLYGON ((150.8489762082608934 -33.4203779546693909, 152.0183552188582610\\n                -33.4203779546693909, 152.0183552188582610 -34.4253821597873397, 150.8489762082608934\\n                -34.4253821597873397, 150.8489762082608934 -33.4203779546693909))\\n            mtime: \\'2017-05-31T23:42:51\\'\\n            owner: \\',,,\\'\\n            type: brdf_iso_band_8\\n            url: file:///ancillary/brdf-jl/105/MCD43A1.JLWKAV.105.aust.005.b04.500m_0841_0876nm_brdf_par_fiso.hdf\\n            value: 0.24684176099819913\\n        brdf_vol_band_2:\\n            atime: \\'2019-04-15T05:48:39.872335\\'\\n            ctime: \\'2019-04-15T05:29:50.666526\\'\\n            extents: POLYGON ((150.8489762082608934 -33.4203779546693909, 152.0183552188582610\\n                -33.4203779546693909, 152.0183552188582610 -34.4253821597873397, 150.8489762082608934\\n                -34.4253821597873397, 150.8489762082608934 -33.4203779546693909))\\n            mtime: \\'2017-05-31T23:42:51\\'\\n            owner: \\',,,\\'\\n            type: brdf_vol_band_2\\n            url: file:///ancillary/brdf-jl/105/MCD43A1.JLWKAV.105.aust.005.b08.500m_0459_0479nm_brdf_par_fvol.hdf\\n            value: 0.009761840751222023\\n        brdf_vol_band_3:\\n            atime: \\'2019-04-15T05:48:40.548302\\'\\n            ctime: \\'2019-04-15T05:29:56.218526\\'\\n            extents: POLYGON ((150.8489762082608934 -33.4203779546693909, 152.0183552188582610\\n                -33.4203779546693909, 152.0183552188582610 -34.4253821597873397, 150.8489762082608934\\n                -34.4253821597873397, 150.8489762082608934 -33.4203779546693909))\\n            mtime: \\'2017-05-31T23:42:51\\'\\n            owner: \\',,,\\'\\n            type: brdf_vol_band_3\\n            url: file:///ancillary/brdf-jl/105/MCD43A1.JLWKAV.105.aust.005.b11.500m_0545_0565nm_brdf_par_fvol.hdf\\n            value: 0.023096507589400565\\n        brdf_vol_band_4:\\n            atime: \\'2019-04-15T05:48:41.224268\\'\\n            ctime: \\'2019-04-15T05:29:46.458526\\'\\n            extents: POLYGON ((150.8489762082608934 -33.4203779546693909, 152.0183552188582610\\n                -33.4203779546693909, 152.0183552188582610 -34.4253821597873397, 150.8489762082608934\\n                -34.4253821597873397, 150.8489762082608934 -33.4203779546693909))\\n            mtime: \\'2017-05-31T23:42:51\\'\\n            owner: \\',,,\\'\\n            type: brdf_vol_band_4\\n            url: file:///ancillary/brdf-jl/105/MCD43A1.JLWKAV.105.aust.005.b02.500m_0620_0670nm_brdf_par_fvol.hdf\\n            value: 0.01945924234628248\\n        brdf_vol_band_8:\\n            atime: \\'2019-04-15T05:48:41.916233\\'\\n            ctime: \\'2019-04-15T05:29:47.746526\\'\\n            extents: POLYGON ((150.8489762082608934 -33.4203779546693909, 152.0183552188582610\\n                -33.4203779546693909, 152.0183552188582610 -34.4253821597873397, 150.8489762082608934\\n                -34.4253821597873397, 150.8489762082608934 -33.4203779546693909))\\n            mtime: \\'2017-05-31T23:42:51\\'\\n            owner: \\',,,\\'\\n            type: brdf_vol_band_8\\n            url: file:///ancillary/brdf-jl/105/MCD43A1.JLWKAV.105.aust.005.b05.500m_0841_0876nm_brdf_par_fvol.hdf\\n            value: 0.14333935554412144\\n        elevation:\\n            atime: \\'2019-04-15T05:42:58.555501\\'\\n            ctime: \\'2019-04-15T05:29:16.046526\\'\\n            mtime: \\'2017-05-31T08:03:53\\'\\n            owner: \\',,,\\'\\n            url: file:///ancillary/elevation/world_1deg/DEM_one_deg.tif\\n            value: 0.232\\n        ozone:\\n            atime: \\'2019-04-15T05:42:58.483500\\'\\n            ctime: \\'2019-04-15T05:29:16.046526\\'\\n            mtime: \\'2017-05-31T06:32:41\\'\\n            owner: \\',,,\\'\\n            url: file:///ancillary/ozone/apr.tif\\n            value: 0.273\\n        water_vapour:\\n            atime: \\'2019-04-15T05:42:58.415500\\'\\n            ctime: \\'2019-04-15T05:30:03.418526\\'\\n            mtime: \\'2019-04-15T03:46:01\\'\\n            owner: \\',,,\\'\\n            url: file:///ancillary/water_vapour/pr_wtr.eatm.2019.tif\\n            value: 1.8\\n    source_datasets:\\n        level1:\\n            acquisition:\\n                groundstation:\\n                    code: SGS_\\n            archiving_time: \\'2019-04-15T01:46:56.921105Z\\'\\n            checksum_sha1: f468353bdec41e53eaac9237118c53eee96f9572\\n            datastrip_id: S2A_OPER_MSI_L1C_DS_SGS__20190415T012404_S20190415T000242_N02.07\\n            datastrip_metadata: http://sentinel-s2-l1c.s3-website.eu-central-1.amazonaws.com/#products/2019/4/15/S2A_MSIL1C_20190415T000241_N0207_R030_T56HLH_20190415T012404/datastrip/0\\n            datatake_id:\\n                datatakeIdentifier: GS2A_20190415T000241_019904_N02.07\\n                metadataLevel: Brief\\n            datatake_sensing_start: \\'2019-04-15T00:02:41.024Z\\'\\n            datatake_type: INS-NOBS\\n            downlink_priority: NOMINAL\\n            extent:\\n                center_dt: \\'2019-04-15T00:06:10.484683Z\\'\\n                coord:\\n                    ll:\\n                        lat: -34.40996085046521\\n                        lon: 150.8239553990498\\n                    lr:\\n                        lat: -34.42538215978734\\n                        lon: 152.01835521885826\\n                    ul:\\n                        lat: -33.42037795466939\\n                        lon: 150.8489762082609\\n                    ur:\\n                        lat: -33.435237691576745\\n                        lon: 152.02965096464447\\n            format:\\n                name: JPEG2000\\n            grid_spatial:\\n                projection:\\n                    geo_ref_points:\\n                        ll:\\n                            x: 300000\\n                            y: 6190240\\n                        lr:\\n                            x: 409800\\n                            y: 6190240\\n                        ul:\\n                            x: 300000\\n                            y: 6300040\\n                        ur:\\n                            x: 409800\\n                            y: 6300040\\n                    spatial_reference: PROJCS[\"WGS 84 / UTM zone 56S\",GEOGCS[\"WGS\\n                        84\",DATUM[\"WGS_1984\",SPHEROID[\"WGS 84\",6378137,298.257223563,AUTHORITY[\"EPSG\",\"7030\"]],AUTHORITY[\"EPSG\",\"6326\"]],PRIMEM[\"Greenwich\",0,AUTHORITY[\"EPSG\",\"8901\"]],UNIT[\"degree\",0.0174532925199433,AUTHORITY[\"EPSG\",\"9122\"]],AUTHORITY[\"EPSG\",\"4326\"]],PROJECTION[\"Transverse_Mercator\"],PARAMETER[\"latitude_of_origin\",0],PARAMETER[\"central_meridian\",153],PARAMETER[\"scale_factor\",0.9996],PARAMETER[\"false_easting\",500000],PARAMETER[\"false_northing\",10000000],UNIT[\"metre\",1,AUTHORITY[\"EPSG\",\"9001\"]],AXIS[\"Easting\",EAST],AXIS[\"Northing\",NORTH],AUTHORITY[\"EPSG\",\"32756\"]]\\n                    valid_data:\\n                        coordinates:\\n                        -   -   - 381359.38425086223\\n                                - 6190240.0\\n                            -   - 404760.0\\n                                - 6300040.0\\n                            -   - 300000.0\\n                                - 6300040.0\\n                            -   - 300000.0\\n                                - 6190240.0\\n                            -   - 381359.38425086223\\n                                - 6190240.0\\n                        type: Polygon\\n            id: c2a274a1-e00a-5d85-8912-ff5bc27ba62e\\n            image:\\n                bands:\\n                    B01:\\n                        layer: 1\\n                        path: s3://sentinel-s2-l1c/tiles/56/H/LH/2019/4/15/0/B01.jp2\\n                    B02:\\n                        layer: 1\\n                        path: s3://sentinel-s2-l1c/tiles/56/H/LH/2019/4/15/0/B02.jp2\\n                    B03:\\n                        layer: 1\\n                        path: s3://sentinel-s2-l1c/tiles/56/H/LH/2019/4/15/0/B03.jp2\\n                    B04:\\n                        layer: 1\\n                        path: s3://sentinel-s2-l1c/tiles/56/H/LH/2019/4/15/0/B04.jp2\\n                    B05:\\n                        layer: 1\\n                        path: s3://sentinel-s2-l1c/tiles/56/H/LH/2019/4/15/0/B05.jp2\\n                    B06:\\n                        layer: 1\\n                        path: s3://sentinel-s2-l1c/tiles/56/H/LH/2019/4/15/0/B06.jp2\\n                    B07:\\n                        layer: 1\\n                        path: s3://sentinel-s2-l1c/tiles/56/H/LH/2019/4/15/0/B07.jp2\\n                    B08:\\n                        layer: 1\\n                        path: s3://sentinel-s2-l1c/tiles/56/H/LH/2019/4/15/0/B08.jp2\\n                    B09:\\n                        layer: 1\\n                        path: s3://sentinel-s2-l1c/tiles/56/H/LH/2019/4/15/0/B09.jp2\\n                    B10:\\n                        layer: 1\\n                        path: s3://sentinel-s2-l1c/tiles/56/H/LH/2019/4/15/0/B10.jp2\\n                    B11:\\n                        layer: 1\\n                        path: s3://sentinel-s2-l1c/tiles/56/H/LH/2019/4/15/0/B11.jp2\\n                    B12:\\n                        layer: 1\\n                        path: s3://sentinel-s2-l1c/tiles/56/H/LH/2019/4/15/0/B12.jp2\\n                    B8A:\\n                        layer: 1\\n                        path: s3://sentinel-s2-l1c/tiles/56/H/LH/2019/4/15/0/B8A.jp2\\n                cloud_cover_percentage: \\'12.1824\\'\\n                degraded_anc_data_percentage: \\'0\\'\\n                degraded_msi_data_percentage: \\'0\\'\\n                format_quality_flag: PASSED\\n                general_quality_flag: PASSED\\n                geometric_quality_flag: PASSED\\n                radiometric_quality_flag: PASSED\\n                reflectance_conversion: \\'0.996348504604265\\'\\n                sensor_quality_flag: PASSED\\n                solar_irradiance: []\\n                sun_azimuth: \\'35.5469461956487\\'\\n                sun_elevation: \\'50.5436051260325\\'\\n                tile_reference: T56HLH\\n                viewing_angles:\\n                -   bandId: \\'0\\'\\n                    measurement:\\n                        azimith:\\n                            value: \\'285.792165607725\\'\\n                        zenith:\\n                            value: \\'8.40436569213192\\'\\n                    unit: degree\\n                -   bandId: \\'9\\'\\n                    measurement:\\n                        azimith:\\n                            value: \\'285.829026098453\\'\\n                        zenith:\\n                            value: \\'8.4477766783706\\'\\n                    unit: degree\\n                -   bandId: \\'10\\'\\n                    measurement:\\n                        azimith:\\n                            value: \\'285.67580104313\\'\\n                        zenith:\\n                            value: \\'8.26085995228217\\'\\n                    unit: degree\\n                -   bandId: \\'1\\'\\n                    measurement:\\n                        azimith:\\n                            value: \\'285.750400917056\\'\\n                        zenith:\\n                            value: \\'8.20318932669775\\'\\n                    unit: degree\\n                -   bandId: \\'2\\'\\n                    measurement:\\n                        azimith:\\n                            value: \\'285.777702438786\\'\\n                        zenith:\\n                            value: \\'8.22928761259388\\'\\n                    unit: degree\\n                -   bandId: \\'3\\'\\n                    measurement:\\n                        azimith:\\n                            value: \\'285.799111385389\\'\\n                        zenith:\\n                            value: \\'8.26299432823228\\'\\n                    unit: degree\\n                -   bandId: \\'4\\'\\n                    measurement:\\n                        azimith:\\n                            value: \\'285.775881828151\\'\\n                        zenith:\\n                            value: \\'8.28982556872161\\'\\n                    unit: degree\\n                -   bandId: \\'5\\'\\n                    measurement:\\n                        azimith:\\n                            value: \\'285.792625234437\\'\\n                        zenith:\\n                            value: \\'8.31437375884656\\'\\n                    unit: degree\\n                -   bandId: \\'6\\'\\n                    measurement:\\n                        azimith:\\n                            value: \\'285.796826266657\\'\\n                        zenith:\\n                            value: \\'8.34138556258184\\'\\n                    unit: degree\\n                -   bandId: \\'7\\'\\n                    measurement:\\n                        azimith:\\n                            value: \\'285.757761823039\\'\\n                        zenith:\\n                            value: \\'8.21517544423599\\'\\n                    unit: degree\\n                -   bandId: \\'8\\'\\n                    measurement:\\n                        azimith:\\n                            value: \\'285.831429692362\\'\\n                        zenith:\\n                            value: \\'8.37899129748345\\'\\n                    unit: degree\\n                -   bandId: \\'11\\'\\n                    measurement:\\n                        azimith:\\n                            value: \\'285.688840843483\\'\\n                        zenith:\\n                            value: \\'8.31334080439139\\'\\n                    unit: degree\\n                -   bandId: \\'12\\'\\n                    measurement:\\n                        azimith:\\n                            value: \\'285.728815221532\\'\\n                        zenith:\\n                            value: \\'8.38038973536379\\'\\n                    unit: degree\\n            instrument:\\n                name: MSI\\n            lineage:\\n                source_datasets: {}\\n            orbit: \\'30\\'\\n            orbit_direction: DESCENDING\\n            platform:\\n                code: SENTINEL_2A\\n            processing_level: Level-1C\\n            product_format:\\n                name: s2_aws_pds\\n            product_type: level1\\n            size_bytes: 631698050\\n            tile_id: S2A_OPER_MSI_L1C_TL_SGS__20190415T012404_A019904_T56HLH_N02.07\\nplatform:\\n    code: SENTINEL_2A\\nprocessing_level: Level-2\\nproduct_type: ard\\nsoftware_versions:\\n    modtran:\\n        repo_url: http://www.ontar.com/software/productdetails.aspx?item=modtran\\n        version: 5.2.1\\n    wagl:\\n        repo_url: https://github.com/GeoscienceAustralia/wagl.git\\n        version: 5.0.5+33.g94f1105.dirty\\nsystem_information:\\n    hostname: ip-10-0-12-32.ap-southeast-2.compute.internal\\n    runtime_id: 39d0bd0a-5f48-11e9-8f03-0af9131e3ae6\\n    time_processed: \\'2019-04-15T06:32:22.377650\\'\\n    uname: \\'Linux ip-10-0-12-32 4.9.85-38.58.amzn1.x86_64 #1 SMP Wed Mar 14 01:17:26\\n        UTC 2018 x86_64\\'\\ntile_id: S2A_OPER_MSI_L1C_TL_SGS__20190415T012404_A019904_T56HLH_N02.07\\n'"
      ]
     },
     "execution_count": 39,
     "metadata": {},
     "output_type": "execute_result"
    }
   ],
   "source": [
    "raw_string[2200:]"
   ]
  },
  {
   "cell_type": "code",
   "execution_count": 9,
   "metadata": {},
   "outputs": [
    {
     "ename": "NameError",
     "evalue": "name 'doc' is not defined",
     "output_type": "error",
     "traceback": [
      "\u001b[0;31m---------------------------------------------------------------------------\u001b[0m",
      "\u001b[0;31mNameError\u001b[0m                                 Traceback (most recent call last)",
      "\u001b[0;32m<ipython-input-9-5a077f60d768>\u001b[0m in \u001b[0;36m<module>\u001b[0;34m\u001b[0m\n\u001b[0;32m----> 1\u001b[0;31m \u001b[0mdoc\u001b[0m\u001b[0;34m[\u001b[0m\u001b[0;34m'tile_id'\u001b[0m\u001b[0;34m]\u001b[0m\u001b[0;34m.\u001b[0m\u001b[0msplit\u001b[0m\u001b[0;34m(\u001b[0m\u001b[0;34m'_'\u001b[0m\u001b[0;34m)\u001b[0m\u001b[0;34m[\u001b[0m\u001b[0;34m-\u001b[0m\u001b[0;36m2\u001b[0m\u001b[0;34m]\u001b[0m\u001b[0;34m[\u001b[0m\u001b[0;36m1\u001b[0m\u001b[0;34m:\u001b[0m\u001b[0;34m]\u001b[0m\u001b[0;34m\u001b[0m\u001b[0;34m\u001b[0m\u001b[0m\n\u001b[0m",
      "\u001b[0;31mNameError\u001b[0m: name 'doc' is not defined"
     ]
    }
   ],
   "source": [
    "doc['tile_id'].split('_')[-2][1:]"
   ]
  },
  {
   "cell_type": "code",
   "execution_count": 3,
   "metadata": {},
   "outputs": [],
   "source": [
    "import fiona"
   ]
  },
  {
   "cell_type": "code",
   "execution_count": 4,
   "metadata": {},
   "outputs": [
    {
     "ename": "DriverError",
     "evalue": "unsupported driver: 'LIBKML'",
     "output_type": "error",
     "traceback": [
      "\u001b[0;31m---------------------------------------------------------------------------\u001b[0m",
      "\u001b[0;31mDriverError\u001b[0m                               Traceback (most recent call last)",
      "\u001b[0;32m<ipython-input-4-274ca8e07b74>\u001b[0m in \u001b[0;36m<module>\u001b[0;34m\u001b[0m\n\u001b[0;32m----> 1\u001b[0;31m \u001b[0mfiona\u001b[0m\u001b[0;34m.\u001b[0m\u001b[0mopen\u001b[0m\u001b[0;34m(\u001b[0m\u001b[0;34m\"S2A_OPER_GIP_TILPAR_MPC__20151209T095117_V20150622T000000_21000101T000000_B00.kml\"\u001b[0m\u001b[0;34m)\u001b[0m\u001b[0;34m\u001b[0m\u001b[0;34m\u001b[0m\u001b[0m\n\u001b[0m",
      "\u001b[0;32m~/miniconda3/envs/maps/lib/python3.7/site-packages/fiona/env.py\u001b[0m in \u001b[0;36mwrapper\u001b[0;34m(*args, **kwargs)\u001b[0m\n\u001b[1;32m    404\u001b[0m             \u001b[0;32mwith\u001b[0m \u001b[0mEnv\u001b[0m\u001b[0;34m.\u001b[0m\u001b[0mfrom_defaults\u001b[0m\u001b[0;34m(\u001b[0m\u001b[0msession\u001b[0m\u001b[0;34m=\u001b[0m\u001b[0msession\u001b[0m\u001b[0;34m)\u001b[0m\u001b[0;34m:\u001b[0m\u001b[0;34m\u001b[0m\u001b[0;34m\u001b[0m\u001b[0m\n\u001b[1;32m    405\u001b[0m                 \u001b[0mlog\u001b[0m\u001b[0;34m.\u001b[0m\u001b[0mdebug\u001b[0m\u001b[0;34m(\u001b[0m\u001b[0;34m\"Credentialized: {!r}\"\u001b[0m\u001b[0;34m.\u001b[0m\u001b[0mformat\u001b[0m\u001b[0;34m(\u001b[0m\u001b[0mgetenv\u001b[0m\u001b[0;34m(\u001b[0m\u001b[0;34m)\u001b[0m\u001b[0;34m)\u001b[0m\u001b[0;34m)\u001b[0m\u001b[0;34m\u001b[0m\u001b[0;34m\u001b[0m\u001b[0m\n\u001b[0;32m--> 406\u001b[0;31m                 \u001b[0;32mreturn\u001b[0m \u001b[0mf\u001b[0m\u001b[0;34m(\u001b[0m\u001b[0;34m*\u001b[0m\u001b[0margs\u001b[0m\u001b[0;34m,\u001b[0m \u001b[0;34m**\u001b[0m\u001b[0mkwargs\u001b[0m\u001b[0;34m)\u001b[0m\u001b[0;34m\u001b[0m\u001b[0;34m\u001b[0m\u001b[0m\n\u001b[0m\u001b[1;32m    407\u001b[0m     \u001b[0;32mreturn\u001b[0m \u001b[0mwrapper\u001b[0m\u001b[0;34m\u001b[0m\u001b[0;34m\u001b[0m\u001b[0m\n\u001b[1;32m    408\u001b[0m \u001b[0;34m\u001b[0m\u001b[0m\n",
      "\u001b[0;32m~/miniconda3/envs/maps/lib/python3.7/site-packages/fiona/__init__.py\u001b[0m in \u001b[0;36mopen\u001b[0;34m(fp, mode, driver, schema, crs, encoding, layer, vfs, enabled_drivers, crs_wkt, **kwargs)\u001b[0m\n\u001b[1;32m    251\u001b[0m         \u001b[0;32mif\u001b[0m \u001b[0mmode\u001b[0m \u001b[0;32min\u001b[0m \u001b[0;34m(\u001b[0m\u001b[0;34m'a'\u001b[0m\u001b[0;34m,\u001b[0m \u001b[0;34m'r'\u001b[0m\u001b[0;34m)\u001b[0m\u001b[0;34m:\u001b[0m\u001b[0;34m\u001b[0m\u001b[0;34m\u001b[0m\u001b[0m\n\u001b[1;32m    252\u001b[0m             c = Collection(path, mode, driver=driver, encoding=encoding,\n\u001b[0;32m--> 253\u001b[0;31m                            layer=layer, enabled_drivers=enabled_drivers, **kwargs)\n\u001b[0m\u001b[1;32m    254\u001b[0m         \u001b[0;32melif\u001b[0m \u001b[0mmode\u001b[0m \u001b[0;34m==\u001b[0m \u001b[0;34m'w'\u001b[0m\u001b[0;34m:\u001b[0m\u001b[0;34m\u001b[0m\u001b[0;34m\u001b[0m\u001b[0m\n\u001b[1;32m    255\u001b[0m             \u001b[0;32mif\u001b[0m \u001b[0mschema\u001b[0m\u001b[0;34m:\u001b[0m\u001b[0;34m\u001b[0m\u001b[0;34m\u001b[0m\u001b[0m\n",
      "\u001b[0;32m~/miniconda3/envs/maps/lib/python3.7/site-packages/fiona/collection.py\u001b[0m in \u001b[0;36m__init__\u001b[0;34m(self, path, mode, driver, schema, crs, encoding, layer, vsi, archive, enabled_drivers, crs_wkt, ignore_fields, ignore_geometry, **kwargs)\u001b[0m\n\u001b[1;32m    166\u001b[0m \u001b[0;34m\u001b[0m\u001b[0m\n\u001b[1;32m    167\u001b[0m         \u001b[0;32mif\u001b[0m \u001b[0mself\u001b[0m\u001b[0;34m.\u001b[0m\u001b[0msession\u001b[0m \u001b[0;32mis\u001b[0m \u001b[0;32mnot\u001b[0m \u001b[0;32mNone\u001b[0m\u001b[0;34m:\u001b[0m\u001b[0;34m\u001b[0m\u001b[0;34m\u001b[0m\u001b[0m\n\u001b[0;32m--> 168\u001b[0;31m             \u001b[0mself\u001b[0m\u001b[0;34m.\u001b[0m\u001b[0mguard_driver_mode\u001b[0m\u001b[0;34m(\u001b[0m\u001b[0;34m)\u001b[0m\u001b[0;34m\u001b[0m\u001b[0;34m\u001b[0m\u001b[0m\n\u001b[0m\u001b[1;32m    169\u001b[0m \u001b[0;34m\u001b[0m\u001b[0m\n\u001b[1;32m    170\u001b[0m         \u001b[0;32mif\u001b[0m \u001b[0mself\u001b[0m\u001b[0;34m.\u001b[0m\u001b[0mmode\u001b[0m \u001b[0;32min\u001b[0m \u001b[0;34m(\u001b[0m\u001b[0;34m\"a\"\u001b[0m\u001b[0;34m,\u001b[0m \u001b[0;34m\"w\"\u001b[0m\u001b[0;34m)\u001b[0m\u001b[0;34m:\u001b[0m\u001b[0;34m\u001b[0m\u001b[0;34m\u001b[0m\u001b[0m\n",
      "\u001b[0;32m~/miniconda3/envs/maps/lib/python3.7/site-packages/fiona/collection.py\u001b[0m in \u001b[0;36mguard_driver_mode\u001b[0;34m(self)\u001b[0m\n\u001b[1;32m    183\u001b[0m         \u001b[0mdriver\u001b[0m \u001b[0;34m=\u001b[0m \u001b[0mself\u001b[0m\u001b[0;34m.\u001b[0m\u001b[0msession\u001b[0m\u001b[0;34m.\u001b[0m\u001b[0mget_driver\u001b[0m\u001b[0;34m(\u001b[0m\u001b[0;34m)\u001b[0m\u001b[0;34m\u001b[0m\u001b[0;34m\u001b[0m\u001b[0m\n\u001b[1;32m    184\u001b[0m         \u001b[0;32mif\u001b[0m \u001b[0mdriver\u001b[0m \u001b[0;32mnot\u001b[0m \u001b[0;32min\u001b[0m \u001b[0msupported_drivers\u001b[0m\u001b[0;34m:\u001b[0m\u001b[0;34m\u001b[0m\u001b[0;34m\u001b[0m\u001b[0m\n\u001b[0;32m--> 185\u001b[0;31m             \u001b[0;32mraise\u001b[0m \u001b[0mDriverError\u001b[0m\u001b[0;34m(\u001b[0m\u001b[0;34m\"unsupported driver: %r\"\u001b[0m \u001b[0;34m%\u001b[0m \u001b[0mdriver\u001b[0m\u001b[0;34m)\u001b[0m\u001b[0;34m\u001b[0m\u001b[0;34m\u001b[0m\u001b[0m\n\u001b[0m\u001b[1;32m    186\u001b[0m         \u001b[0;32mif\u001b[0m \u001b[0mself\u001b[0m\u001b[0;34m.\u001b[0m\u001b[0mmode\u001b[0m \u001b[0;32mnot\u001b[0m \u001b[0;32min\u001b[0m \u001b[0msupported_drivers\u001b[0m\u001b[0;34m[\u001b[0m\u001b[0mdriver\u001b[0m\u001b[0;34m]\u001b[0m\u001b[0;34m:\u001b[0m\u001b[0;34m\u001b[0m\u001b[0;34m\u001b[0m\u001b[0m\n\u001b[1;32m    187\u001b[0m             \u001b[0;32mraise\u001b[0m \u001b[0mDriverError\u001b[0m\u001b[0;34m(\u001b[0m\u001b[0;34m\"unsupported mode: %r\"\u001b[0m \u001b[0;34m%\u001b[0m \u001b[0mself\u001b[0m\u001b[0;34m.\u001b[0m\u001b[0mmode\u001b[0m\u001b[0;34m)\u001b[0m\u001b[0;34m\u001b[0m\u001b[0;34m\u001b[0m\u001b[0m\n",
      "\u001b[0;31mDriverError\u001b[0m: unsupported driver: 'LIBKML'"
     ]
    }
   ],
   "source": [
    "fiona.open(\"S2A_OPER_GIP_TILPAR_MPC__20151209T095117_V20150622T000000_21000101T000000_B00.kml\")"
   ]
  },
  {
   "cell_type": "code",
   "execution_count": 1,
   "metadata": {},
   "outputs": [],
   "source": [
    "import geopandas"
   ]
  },
  {
   "cell_type": "code",
   "execution_count": 2,
   "metadata": {},
   "outputs": [
    {
     "ename": "DriverError",
     "evalue": "unsupported driver: 'LIBKML'",
     "output_type": "error",
     "traceback": [
      "\u001b[0;31m---------------------------------------------------------------------------\u001b[0m",
      "\u001b[0;31mDriverError\u001b[0m                               Traceback (most recent call last)",
      "\u001b[0;32m<ipython-input-2-baaa985d07f9>\u001b[0m in \u001b[0;36m<module>\u001b[0;34m\u001b[0m\n\u001b[1;32m      4\u001b[0m \u001b[0mfiona\u001b[0m\u001b[0;34m.\u001b[0m\u001b[0mdrvsupport\u001b[0m\u001b[0;34m.\u001b[0m\u001b[0msupported_drivers\u001b[0m\u001b[0;34m[\u001b[0m\u001b[0;34m'KML'\u001b[0m\u001b[0;34m]\u001b[0m \u001b[0;34m=\u001b[0m \u001b[0;34m'rw'\u001b[0m \u001b[0;31m# enable KML support which is disabled by default\u001b[0m\u001b[0;34m\u001b[0m\u001b[0;34m\u001b[0m\u001b[0m\n\u001b[1;32m      5\u001b[0m \u001b[0;34m\u001b[0m\u001b[0m\n\u001b[0;32m----> 6\u001b[0;31m \u001b[0mgpd\u001b[0m\u001b[0;34m.\u001b[0m\u001b[0mread_file\u001b[0m\u001b[0;34m(\u001b[0m\u001b[0;34m\"S2A_OPER_GIP_TILPAR_MPC__20151209T095117_V20150622T000000_21000101T000000_B00.kml\"\u001b[0m\u001b[0;34m)\u001b[0m\u001b[0;34m\u001b[0m\u001b[0;34m\u001b[0m\u001b[0m\n\u001b[0m",
      "\u001b[0;32m~/miniconda3/envs/maps/lib/python3.7/site-packages/geopandas/io/file.py\u001b[0m in \u001b[0;36mread_file\u001b[0;34m(filename, bbox, **kwargs)\u001b[0m\n\u001b[1;32m     75\u001b[0m \u001b[0;34m\u001b[0m\u001b[0m\n\u001b[1;32m     76\u001b[0m     \u001b[0;32mwith\u001b[0m \u001b[0mfiona_env\u001b[0m\u001b[0;34m(\u001b[0m\u001b[0;34m)\u001b[0m\u001b[0;34m:\u001b[0m\u001b[0;34m\u001b[0m\u001b[0;34m\u001b[0m\u001b[0m\n\u001b[0;32m---> 77\u001b[0;31m         \u001b[0;32mwith\u001b[0m \u001b[0mreader\u001b[0m\u001b[0;34m(\u001b[0m\u001b[0mpath_or_bytes\u001b[0m\u001b[0;34m,\u001b[0m \u001b[0;34m**\u001b[0m\u001b[0mkwargs\u001b[0m\u001b[0;34m)\u001b[0m \u001b[0;32mas\u001b[0m \u001b[0mfeatures\u001b[0m\u001b[0;34m:\u001b[0m\u001b[0;34m\u001b[0m\u001b[0;34m\u001b[0m\u001b[0m\n\u001b[0m\u001b[1;32m     78\u001b[0m \u001b[0;34m\u001b[0m\u001b[0m\n\u001b[1;32m     79\u001b[0m             \u001b[0;31m# In a future Fiona release the crs attribute of features will\u001b[0m\u001b[0;34m\u001b[0m\u001b[0;34m\u001b[0m\u001b[0;34m\u001b[0m\u001b[0m\n",
      "\u001b[0;32m~/miniconda3/envs/maps/lib/python3.7/site-packages/fiona/env.py\u001b[0m in \u001b[0;36mwrapper\u001b[0;34m(*args, **kwargs)\u001b[0m\n\u001b[1;32m    395\u001b[0m     \u001b[0;32mdef\u001b[0m \u001b[0mwrapper\u001b[0m\u001b[0;34m(\u001b[0m\u001b[0;34m*\u001b[0m\u001b[0margs\u001b[0m\u001b[0;34m,\u001b[0m \u001b[0;34m**\u001b[0m\u001b[0mkwargs\u001b[0m\u001b[0;34m)\u001b[0m\u001b[0;34m:\u001b[0m\u001b[0;34m\u001b[0m\u001b[0;34m\u001b[0m\u001b[0m\n\u001b[1;32m    396\u001b[0m         \u001b[0;32mif\u001b[0m \u001b[0mlocal\u001b[0m\u001b[0;34m.\u001b[0m\u001b[0m_env\u001b[0m\u001b[0;34m:\u001b[0m\u001b[0;34m\u001b[0m\u001b[0;34m\u001b[0m\u001b[0m\n\u001b[0;32m--> 397\u001b[0;31m             \u001b[0;32mreturn\u001b[0m \u001b[0mf\u001b[0m\u001b[0;34m(\u001b[0m\u001b[0;34m*\u001b[0m\u001b[0margs\u001b[0m\u001b[0;34m,\u001b[0m \u001b[0;34m**\u001b[0m\u001b[0mkwargs\u001b[0m\u001b[0;34m)\u001b[0m\u001b[0;34m\u001b[0m\u001b[0;34m\u001b[0m\u001b[0m\n\u001b[0m\u001b[1;32m    398\u001b[0m         \u001b[0;32melse\u001b[0m\u001b[0;34m:\u001b[0m\u001b[0;34m\u001b[0m\u001b[0;34m\u001b[0m\u001b[0m\n\u001b[1;32m    399\u001b[0m             \u001b[0;32mif\u001b[0m \u001b[0misinstance\u001b[0m\u001b[0;34m(\u001b[0m\u001b[0margs\u001b[0m\u001b[0;34m[\u001b[0m\u001b[0;36m0\u001b[0m\u001b[0;34m]\u001b[0m\u001b[0;34m,\u001b[0m \u001b[0mstr\u001b[0m\u001b[0;34m)\u001b[0m\u001b[0;34m:\u001b[0m\u001b[0;34m\u001b[0m\u001b[0;34m\u001b[0m\u001b[0m\n",
      "\u001b[0;32m~/miniconda3/envs/maps/lib/python3.7/site-packages/fiona/__init__.py\u001b[0m in \u001b[0;36mopen\u001b[0;34m(fp, mode, driver, schema, crs, encoding, layer, vfs, enabled_drivers, crs_wkt, **kwargs)\u001b[0m\n\u001b[1;32m    251\u001b[0m         \u001b[0;32mif\u001b[0m \u001b[0mmode\u001b[0m \u001b[0;32min\u001b[0m \u001b[0;34m(\u001b[0m\u001b[0;34m'a'\u001b[0m\u001b[0;34m,\u001b[0m \u001b[0;34m'r'\u001b[0m\u001b[0;34m)\u001b[0m\u001b[0;34m:\u001b[0m\u001b[0;34m\u001b[0m\u001b[0;34m\u001b[0m\u001b[0m\n\u001b[1;32m    252\u001b[0m             c = Collection(path, mode, driver=driver, encoding=encoding,\n\u001b[0;32m--> 253\u001b[0;31m                            layer=layer, enabled_drivers=enabled_drivers, **kwargs)\n\u001b[0m\u001b[1;32m    254\u001b[0m         \u001b[0;32melif\u001b[0m \u001b[0mmode\u001b[0m \u001b[0;34m==\u001b[0m \u001b[0;34m'w'\u001b[0m\u001b[0;34m:\u001b[0m\u001b[0;34m\u001b[0m\u001b[0;34m\u001b[0m\u001b[0m\n\u001b[1;32m    255\u001b[0m             \u001b[0;32mif\u001b[0m \u001b[0mschema\u001b[0m\u001b[0;34m:\u001b[0m\u001b[0;34m\u001b[0m\u001b[0;34m\u001b[0m\u001b[0m\n",
      "\u001b[0;32m~/miniconda3/envs/maps/lib/python3.7/site-packages/fiona/collection.py\u001b[0m in \u001b[0;36m__init__\u001b[0;34m(self, path, mode, driver, schema, crs, encoding, layer, vsi, archive, enabled_drivers, crs_wkt, ignore_fields, ignore_geometry, **kwargs)\u001b[0m\n\u001b[1;32m    166\u001b[0m \u001b[0;34m\u001b[0m\u001b[0m\n\u001b[1;32m    167\u001b[0m         \u001b[0;32mif\u001b[0m \u001b[0mself\u001b[0m\u001b[0;34m.\u001b[0m\u001b[0msession\u001b[0m \u001b[0;32mis\u001b[0m \u001b[0;32mnot\u001b[0m \u001b[0;32mNone\u001b[0m\u001b[0;34m:\u001b[0m\u001b[0;34m\u001b[0m\u001b[0;34m\u001b[0m\u001b[0m\n\u001b[0;32m--> 168\u001b[0;31m             \u001b[0mself\u001b[0m\u001b[0;34m.\u001b[0m\u001b[0mguard_driver_mode\u001b[0m\u001b[0;34m(\u001b[0m\u001b[0;34m)\u001b[0m\u001b[0;34m\u001b[0m\u001b[0;34m\u001b[0m\u001b[0m\n\u001b[0m\u001b[1;32m    169\u001b[0m \u001b[0;34m\u001b[0m\u001b[0m\n\u001b[1;32m    170\u001b[0m         \u001b[0;32mif\u001b[0m \u001b[0mself\u001b[0m\u001b[0;34m.\u001b[0m\u001b[0mmode\u001b[0m \u001b[0;32min\u001b[0m \u001b[0;34m(\u001b[0m\u001b[0;34m\"a\"\u001b[0m\u001b[0;34m,\u001b[0m \u001b[0;34m\"w\"\u001b[0m\u001b[0;34m)\u001b[0m\u001b[0;34m:\u001b[0m\u001b[0;34m\u001b[0m\u001b[0;34m\u001b[0m\u001b[0m\n",
      "\u001b[0;32m~/miniconda3/envs/maps/lib/python3.7/site-packages/fiona/collection.py\u001b[0m in \u001b[0;36mguard_driver_mode\u001b[0;34m(self)\u001b[0m\n\u001b[1;32m    183\u001b[0m         \u001b[0mdriver\u001b[0m \u001b[0;34m=\u001b[0m \u001b[0mself\u001b[0m\u001b[0;34m.\u001b[0m\u001b[0msession\u001b[0m\u001b[0;34m.\u001b[0m\u001b[0mget_driver\u001b[0m\u001b[0;34m(\u001b[0m\u001b[0;34m)\u001b[0m\u001b[0;34m\u001b[0m\u001b[0;34m\u001b[0m\u001b[0m\n\u001b[1;32m    184\u001b[0m         \u001b[0;32mif\u001b[0m \u001b[0mdriver\u001b[0m \u001b[0;32mnot\u001b[0m \u001b[0;32min\u001b[0m \u001b[0msupported_drivers\u001b[0m\u001b[0;34m:\u001b[0m\u001b[0;34m\u001b[0m\u001b[0;34m\u001b[0m\u001b[0m\n\u001b[0;32m--> 185\u001b[0;31m             \u001b[0;32mraise\u001b[0m \u001b[0mDriverError\u001b[0m\u001b[0;34m(\u001b[0m\u001b[0;34m\"unsupported driver: %r\"\u001b[0m \u001b[0;34m%\u001b[0m \u001b[0mdriver\u001b[0m\u001b[0;34m)\u001b[0m\u001b[0;34m\u001b[0m\u001b[0;34m\u001b[0m\u001b[0m\n\u001b[0m\u001b[1;32m    186\u001b[0m         \u001b[0;32mif\u001b[0m \u001b[0mself\u001b[0m\u001b[0;34m.\u001b[0m\u001b[0mmode\u001b[0m \u001b[0;32mnot\u001b[0m \u001b[0;32min\u001b[0m \u001b[0msupported_drivers\u001b[0m\u001b[0;34m[\u001b[0m\u001b[0mdriver\u001b[0m\u001b[0;34m]\u001b[0m\u001b[0;34m:\u001b[0m\u001b[0;34m\u001b[0m\u001b[0;34m\u001b[0m\u001b[0m\n\u001b[1;32m    187\u001b[0m             \u001b[0;32mraise\u001b[0m \u001b[0mDriverError\u001b[0m\u001b[0;34m(\u001b[0m\u001b[0;34m\"unsupported mode: %r\"\u001b[0m \u001b[0;34m%\u001b[0m \u001b[0mself\u001b[0m\u001b[0;34m.\u001b[0m\u001b[0mmode\u001b[0m\u001b[0;34m)\u001b[0m\u001b[0;34m\u001b[0m\u001b[0;34m\u001b[0m\u001b[0m\n",
      "\u001b[0;31mDriverError\u001b[0m: unsupported driver: 'LIBKML'"
     ]
    }
   ],
   "source": [
    "import geopandas as gpd\n",
    "import fiona\n",
    "fiona.drvsupport.supported_drivers['kml'] = 'rw' # enable KML support which is disabled by default\n",
    "fiona.drvsupport.supported_drivers['KML'] = 'rw' # enable KML support which is disabled by default\n",
    "\n",
    "gpd.read_file(\"S2A_OPER_GIP_TILPAR_MPC__20151209T095117_V20150622T000000_21000101T000000_B00.kml\")"
   ]
  },
  {
   "cell_type": "code",
   "execution_count": 3,
   "metadata": {},
   "outputs": [
    {
     "ename": "ModuleNotFoundError",
     "evalue": "No module named 'pyKML'",
     "output_type": "error",
     "traceback": [
      "\u001b[0;31m---------------------------------------------------------------------------\u001b[0m",
      "\u001b[0;31mModuleNotFoundError\u001b[0m                       Traceback (most recent call last)",
      "\u001b[0;32m<ipython-input-3-8e739d3cc76f>\u001b[0m in \u001b[0;36m<module>\u001b[0;34m\u001b[0m\n\u001b[0;32m----> 1\u001b[0;31m \u001b[0;32mimport\u001b[0m \u001b[0mpyKML\u001b[0m\u001b[0;34m\u001b[0m\u001b[0;34m\u001b[0m\u001b[0m\n\u001b[0m",
      "\u001b[0;31mModuleNotFoundError\u001b[0m: No module named 'pyKML'"
     ]
    }
   ],
   "source": [
    "import pyKM"
   ]
  },
  {
   "cell_type": "code",
   "execution_count": 5,
   "metadata": {},
   "outputs": [],
   "source": [
    "grid = fiona.open('australia-mgrs-grid.geojson')"
   ]
  },
  {
   "cell_type": "code",
   "execution_count": 7,
   "metadata": {},
   "outputs": [],
   "source": [
    "x = next(iter(grid))"
   ]
  },
  {
   "cell_type": "code",
   "execution_count": 8,
   "metadata": {},
   "outputs": [
    {
     "data": {
      "text/plain": [
       "{'type': 'Feature',\n",
       " 'id': '0',\n",
       " 'properties': OrderedDict([('id', '0'),\n",
       "              ('EASTING', '200000mE'),\n",
       "              ('NORTHING', '5500000mN'),\n",
       "              ('100kmSQ_ID', 'KR'),\n",
       "              ('GZD', '53G'),\n",
       "              ('MGRS', '53GKR'),\n",
       "              ('E3', None),\n",
       "              ('E4', None),\n",
       "              ('N4', None),\n",
       "              ('FID_GZD_55', None),\n",
       "              ('CM', None),\n",
       "              ('WEST_LONG', None),\n",
       "              ('SOUTH_LAT', None)]),\n",
       " 'geometry': {'type': 'Polygon',\n",
       "  'coordinates': [[(132.63531921298156, -40.62663972682733),\n",
       "    (132.00000012033843, -40.611873730597075),\n",
       "    (132.00000011998938, -40.611329009999956),\n",
       "    (132.00000011998938, -40.60937501999997),\n",
       "    (132.00000011998935, -40.60742201999994),\n",
       "    (132.00000011998938, -40.605469019999944),\n",
       "    (132.00000011998938, -40.60351601999996),\n",
       "    (132.00000011998938, -40.60156301999997),\n",
       "    (132.00000011998935, -40.599610019999965),\n",
       "    (132.00000011998938, -40.59765701999996),\n",
       "    (132.00000011998935, -40.59570401999995),\n",
       "    (132.00000011998935, -40.59375002999998),\n",
       "    (132.00000011998935, -40.59179702999997),\n",
       "    (132.00000011998935, -40.589844029999966),\n",
       "    (132.00000011998932, -40.58789102999998),\n",
       "    (132.00000011998932, -40.58593802999994),\n",
       "    (132.00000011998935, -40.58398502999996),\n",
       "    (132.00000011998932, -40.58203202999998),\n",
       "    (132.00000011998932, -40.580079029999965),\n",
       "    (132.00000011998932, -40.57812503999999),\n",
       "    (132.00000011998932, -40.57617203999994),\n",
       "    (132.00000011998935, -40.574219039999946),\n",
       "    (132.00000011998932, -40.57226603999995),\n",
       "    (132.00000011998932, -40.57031303999998),\n",
       "    (132.00000011998935, -40.568360039999966),\n",
       "    (132.00000011998932, -40.56640703999997),\n",
       "    (132.00000011998932, -40.56445403999997),\n",
       "    (132.00000011998932, -40.56249995999995),\n",
       "    (132.00000011998932, -40.56054695999998),\n",
       "    (132.00000011998932, -40.55859395999999),\n",
       "    (132.0000001199893, -40.55664095999997),\n",
       "    (132.00000011998932, -40.55468795999995),\n",
       "    (132.0000001199893, -40.552734959999974),\n",
       "    (132.0000001199893, -40.550781959999966),\n",
       "    (132.0000001199893, -40.548828959999966),\n",
       "    (132.0000001199893, -40.54687496999996),\n",
       "    (132.00000011998932, -40.54492196999994),\n",
       "    (132.0000001199893, -40.542968969999976),\n",
       "    (132.0000001199893, -40.54101596999995),\n",
       "    (132.0000001199893, -40.53906296999998),\n",
       "    (132.0000001199893, -40.537109969999975),\n",
       "    (132.0000001199893, -40.535156969999946),\n",
       "    (132.0000001199893, -40.53320396999997),\n",
       "    (132.0000001199893, -40.531249979999956),\n",
       "    (132.0000001199893, -40.52929697999997),\n",
       "    (132.0000001199893, -40.527343979999934),\n",
       "    (132.0000001199893, -40.525390979999926),\n",
       "    (132.0000001199893, -40.52343797999996),\n",
       "    (132.0000001199893, -40.52148497999997),\n",
       "    (132.0000001199893, -40.519531979999975),\n",
       "    (132.0000001199893, -40.51757897999995),\n",
       "    (132.0000001199893, -40.51562498999996),\n",
       "    (132.0000001199893, -40.513671989999956),\n",
       "    (132.0000001199893, -40.511718989999935),\n",
       "    (132.0000001199893, -40.50976598999996),\n",
       "    (132.0000001199893, -40.50781298999998),\n",
       "    (132.00000011998927, -40.505859989999976),\n",
       "    (132.00000011998927, -40.503906989999976),\n",
       "    (132.0000001199893, -40.50195398999996),\n",
       "    (132.0000001199893, -40.49999999999998),\n",
       "    (132.00000011998927, -40.49804699999998),\n",
       "    (132.0000001199893, -40.49609399999994),\n",
       "    (132.00000011998927, -40.494140999999985),\n",
       "    (132.0000001199893, -40.49218799999997),\n",
       "    (132.00000011998927, -40.49023499999997),\n",
       "    (132.00000011998927, -40.488281999999934),\n",
       "    (132.00000011998927, -40.48632899999999),\n",
       "    (132.00000011998927, -40.48437500999995),\n",
       "    (132.00000011998927, -40.482422009999944),\n",
       "    (132.00000011998924, -40.480469009999965),\n",
       "    (132.00000011998927, -40.47851600999997),\n",
       "    (132.00000011998927, -40.47656300999997),\n",
       "    (132.00000011998924, -40.47461000999997),\n",
       "    (132.00000011998924, -40.472657009999956),\n",
       "    (132.00000011998924, -40.47070400999996),\n",
       "    (132.00000011998927, -40.46875001999995),\n",
       "    (132.00000011998924, -40.46679701999997),\n",
       "    (132.00000011998924, -40.46484401999994),\n",
       "    (132.00000011998924, -40.46289101999995),\n",
       "    (132.00000011998924, -40.46093801999995),\n",
       "    (132.00000011998924, -40.45898501999996),\n",
       "    (132.00000011998924, -40.45703201999993),\n",
       "    (132.00000011998924, -40.455079019999985),\n",
       "    (132.00000011998924, -40.45312502999997),\n",
       "    (132.00000011998924, -40.451172029999974),\n",
       "    (132.0000001199892, -40.44921902999996),\n",
       "    (132.00000011998924, -40.447266029999966),\n",
       "    (132.00000011998924, -40.44531302999999),\n",
       "    (132.00000011998924, -40.44336002999999),\n",
       "    (132.0000001199892, -40.44140702999995),\n",
       "    (132.00000011998924, -40.43945402999995),\n",
       "    (132.0000001199892, -40.437500039999954),\n",
       "    (132.0000001199892, -40.43554703999996),\n",
       "    (132.0000001199892, -40.433594039999946),\n",
       "    (132.0000001199892, -40.43164103999993),\n",
       "    (132.0000001199892, -40.429688039999974),\n",
       "    (132.00000011998918, -40.42773503999995),\n",
       "    (132.0000001199892, -40.42578203999993),\n",
       "    (132.0000001199892, -40.42382903999997),\n",
       "    (132.0000001199892, -40.421874959999926),\n",
       "    (132.00000011998918, -40.419921959999975),\n",
       "    (132.00000011998918, -40.41796895999995),\n",
       "    (132.0000001199892, -40.416015959999946),\n",
       "    (132.00000011998918, -40.41406295999997),\n",
       "    (132.00000011998918, -40.41210995999995),\n",
       "    (132.00000011998918, -40.41015695999997),\n",
       "    (132.00000011998918, -40.408203959999966),\n",
       "    (132.00000011998918, -40.406249969999934),\n",
       "    (132.00000011998915, -40.40429696999994),\n",
       "    (132.00000011998915, -40.402343969999954),\n",
       "    (132.00000011998918, -40.40039096999996),\n",
       "    (132.00000011998918, -40.398437969999954),\n",
       "    (132.00000011998918, -40.39648496999997),\n",
       "    (132.00000011998915, -40.39453196999997),\n",
       "    (132.00000011998918, -40.39257896999997),\n",
       "    (132.00000011998915, -40.390624979999934),\n",
       "    (132.00000011998918, -40.38867197999998),\n",
       "    (132.00000011998915, -40.386718979999955),\n",
       "    (132.00000011998918, -40.38476597999995),\n",
       "    (132.00000011998915, -40.38281297999997),\n",
       "    (132.00000011998915, -40.38085997999996),\n",
       "    (132.00000011998915, -40.378906979999954),\n",
       "    (132.00000011998915, -40.37695397999996),\n",
       "    (132.00000011998915, -40.37499998999997),\n",
       "    (132.00000011998912, -40.373046989999956),\n",
       "    (132.00000011998915, -40.371093989999956),\n",
       "    (132.00000011998912, -40.36914098999996),\n",
       "    (132.00000011998915, -40.36718798999995),\n",
       "    (132.00000011998912, -40.36523498999996),\n",
       "    (132.00000011998915, -40.36328198999995),\n",
       "    (132.00000011998912, -40.36132898999994),\n",
       "    (132.00000011998912, -40.35937499999998),\n",
       "    (132.00000011998912, -40.357421999999964),\n",
       "    (132.00000011998912, -40.355468999999935),\n",
       "    (132.00000011998912, -40.35351599999994),\n",
       "    (132.00000011998912, -40.35156299999996),\n",
       "    (132.00000011998912, -40.349609999999956),\n",
       "    (132.00000011998912, -40.34765699999998),\n",
       "    (132.00000011998912, -40.34570399999997),\n",
       "    (132.00000011998912, -40.34375000999996),\n",
       "    (132.00000011998912, -40.341797009999944),\n",
       "    (132.00000011998912, -40.33984400999995),\n",
       "    (132.0000001199891, -40.33789100999996),\n",
       "    (132.00000011998912, -40.33593800999993),\n",
       "    (132.0000001199891, -40.333985009999935),\n",
       "    (132.00000011998912, -40.332032009999935),\n",
       "    (132.0000001199891, -40.33007900999996),\n",
       "    (132.0000001199891, -40.32812501999995),\n",
       "    (132.0000001199891, -40.326172019999966),\n",
       "    (132.0000001199891, -40.32421901999995),\n",
       "    (132.00000011998907, -40.32226601999996),\n",
       "    (132.00000011998907, -40.32031301999997),\n",
       "    (132.00000011998907, -40.318360019999965),\n",
       "    (132.0000001199891, -40.31640701999997),\n",
       "    (132.0000001199891, -40.31445401999998),\n",
       "    (132.0000001199891, -40.31250002999997),\n",
       "    (132.00000011998907, -40.31054702999995),\n",
       "    (132.0000001199891, -40.30859402999993),\n",
       "    (132.0000001199891, -40.30664102999993),\n",
       "    (132.00000011998907, -40.304688029999966),\n",
       "    (132.00000011998907, -40.302735029999965),\n",
       "    (132.00000011998907, -40.300782029999965),\n",
       "    (132.00000011998907, -40.29882902999994),\n",
       "    (132.00000011998907, -40.296875039999975),\n",
       "    (132.00000011998907, -40.29492203999996),\n",
       "    (132.00000011998907, -40.29296903999996),\n",
       "    (132.00000011998907, -40.29101603999996),\n",
       "    (132.00000011998907, -40.28906303999997),\n",
       "    (132.00000011998907, -40.28711003999994),\n",
       "    (132.00000011998907, -40.28515703999994),\n",
       "    (132.00000011998907, -40.28320403999995),\n",
       "    (132.00000011998907, -40.281249959999954),\n",
       "    (132.00000011998907, -40.27929695999996),\n",
       "    (132.00000011998907, -40.27734395999997),\n",
       "    (132.00000011998907, -40.27539095999996),\n",
       "    (132.00000011998907, -40.27343795999995),\n",
       "    (132.00000011998907, -40.27148495999996),\n",
       "    (132.00000011998907, -40.269531959999924),\n",
       "    (132.00000011998907, -40.26757895999994),\n",
       "    (132.00000011998907, -40.265624969999934),\n",
       "    (132.00000011998907, -40.263671969999926),\n",
       "    (132.00000011998907, -40.261718969999976),\n",
       "    (132.00000011998907, -40.25976596999996),\n",
       "    (132.00000011998904, -40.257812969999954),\n",
       "    (132.00000011998907, -40.25585996999997),\n",
       "    (132.00000011998904, -40.25390696999995),\n",
       "    (132.00000011998904, -40.251953969999946),\n",
       "    (132.00000011998904, -40.24999997999993),\n",
       "    (132.00000011998904, -40.24804697999996),\n",
       "    (132.00000011998904, -40.246093979999976),\n",
       "    (132.00000011998904, -40.24414097999996),\n",
       "    (132.00000011998904, -40.242187979999926),\n",
       "    (132.000000119989, -40.24023497999996),\n",
       "    (132.000000119989, -40.238281979999954),\n",
       "    (132.00000011998904, -40.23632897999996),\n",
       "    (132.00000011998904, -40.234374989999964),\n",
       "    (132.000000119989, -40.232421989999956),\n",
       "    (132.000000119989, -40.23046898999998),\n",
       "    (132.00000011998904, -40.22851598999996),\n",
       "    (132.000000119989, -40.22656298999998),\n",
       "    (132.000000119989, -40.22460998999999),\n",
       "    (132.000000119989, -40.22265698999996),\n",
       "    (132.000000119989, -40.22070398999993),\n",
       "    (132.000000119989, -40.218749999999936),\n",
       "    (132.000000119989, -40.21679699999997),\n",
       "    (132.000000119989, -40.214843999999935),\n",
       "    (132.000000119989, -40.21289099999998),\n",
       "    (132.000000119989, -40.210937999999935),\n",
       "    (132.00000011998898, -40.20898499999998),\n",
       "    (132.00000011998898, -40.20703199999996),\n",
       "    (132.00000011998898, -40.20507899999998),\n",
       "    (132.00000011998898, -40.203125009999944),\n",
       "    (132.000000119989, -40.201172009999965),\n",
       "    (132.00000011998898, -40.199219009999965),\n",
       "    (132.00000011998898, -40.197266009999964),\n",
       "    (132.00000011998898, -40.19531300999996),\n",
       "    (132.00000011998898, -40.19336000999996),\n",
       "    (132.00000011998898, -40.19140700999996),\n",
       "    (132.00000011998898, -40.189454009999956),\n",
       "    (132.00000011998898, -40.18750001999996),\n",
       "    (132.00000011998895, -40.18554701999994),\n",
       "    (132.00000011998898, -40.18359401999994),\n",
       "    (132.00000011998898, -40.18164101999995),\n",
       "    (132.00000011998898, -40.17968801999994),\n",
       "    (132.00000011998895, -40.17773501999995),\n",
       "    (132.00000011998898, -40.175782019999936),\n",
       "    (132.00000011998895, -40.17382901999996),\n",
       "    (132.00000011998895, -40.17187502999994),\n",
       "    (132.00000011998898, -40.16992202999995),\n",
       "    (132.00000011998895, -40.16796902999996),\n",
       "    (132.00000011998895, -40.16601602999996),\n",
       "    (132.00000011998895, -40.16406302999998),\n",
       "    (132.00000011998895, -40.162110029999944),\n",
       "    (132.00000011998895, -40.16015702999997),\n",
       "    (132.00000011998895, -40.158204029999965),\n",
       "    (132.00000011998895, -40.15625003999995),\n",
       "    (132.00000011998895, -40.15429703999996),\n",
       "    (132.00000011998893, -40.15234403999996),\n",
       "    (132.00000011998895, -40.15039103999995),\n",
       "    (132.00000011998895, -40.14843803999997),\n",
       "    (132.00000011998893, -40.14648503999993),\n",
       "    (132.00000011998893, -40.14453203999996),\n",
       "    (132.00000011998893, -40.14257903999996),\n",
       "    (132.00000011998895, -40.14062495999993),\n",
       "    (132.00000011998893, -40.138671959999925),\n",
       "    (132.00000011998893, -40.13671895999994),\n",
       "    (132.0000001199889, -40.134765959999946),\n",
       "    (132.00000011998893, -40.132812959999924),\n",
       "    (132.00000011998893, -40.13085995999994),\n",
       "    (132.0000001199889, -40.12890695999995),\n",
       "    (132.00000011998893, -40.12695395999993),\n",
       "    (132.0000001199889, -40.124999969999934),\n",
       "    (132.00000011998893, -40.123046969999955),\n",
       "    (132.00000011998893, -40.121093969999926),\n",
       "    (132.0000001199889, -40.119140969999954),\n",
       "    (132.0000001199889, -40.11718796999996),\n",
       "    (132.0000001199889, -40.115234969999946),\n",
       "    (132.0000001199889, -40.11328196999994),\n",
       "    (132.0000001199889, -40.111328969999946),\n",
       "    (132.0000001199889, -40.10937497999997),\n",
       "    (132.0000001199889, -40.10742197999996),\n",
       "    (132.0000001199889, -40.10546897999995),\n",
       "    (132.00000011998887, -40.10351597999996),\n",
       "    (132.0000001199889, -40.10156297999996),\n",
       "    (132.0000001199889, -40.09960997999995),\n",
       "    (132.0000001199889, -40.097656979999954),\n",
       "    (132.0000001199889, -40.095703979999946),\n",
       "    (132.0000001199889, -40.09374998999995),\n",
       "    (132.0000001199889, -40.09179698999998),\n",
       "    (132.00000011998887, -40.089843989999935),\n",
       "    (132.00000011998887, -40.08789098999994),\n",
       "    (132.0000001199889, -40.08593798999994),\n",
       "    (132.00000011998887, -40.083984989999955),\n",
       "    (132.00000011998887, -40.082031989999955),\n",
       "    (132.00000011998887, -40.08007898999997),\n",
       "    (132.00000011998887, -40.07812499999994),\n",
       "    (132.00000011998887, -40.07617199999997),\n",
       "    (132.00000011998887, -40.07421899999996),\n",
       "    (132.00000011998887, -40.072265999999935),\n",
       "    (132.00000011998884, -40.070312999999956),\n",
       "    (132.00000011998884, -40.06835999999994),\n",
       "    (132.00000011998884, -40.06640699999997),\n",
       "    (132.00000011998884, -40.06445399999994),\n",
       "    (132.00000011998884, -40.062500009999965),\n",
       "    (132.00000011998884, -40.06054700999993),\n",
       "    (132.00000011998884, -40.05859400999995),\n",
       "    (132.00000011998884, -40.05664100999996),\n",
       "    (132.0000001199888, -40.05468800999996),\n",
       "    (132.00000011998884, -40.052735009999964),\n",
       "    (132.00000011998884, -40.050782009999956),\n",
       "    (132.00000011998884, -40.04882900999995),\n",
       "    (132.00000011998884, -40.04687501999993),\n",
       "    (132.00000011998884, -40.04492201999995),\n",
       "    (132.0000001199888, -40.042969019999944),\n",
       "    (132.00000011998884, -40.041016019999944),\n",
       "    (132.0000001199888, -40.03906301999996),\n",
       "    (132.0000001199888, -40.03711001999995),\n",
       "    (132.0000001199888, -40.035157019999964),\n",
       "    (132.0000001199888, -40.03320401999997),\n",
       "    (132.0000001199888, -40.03125002999995),\n",
       "    (132.0000001199888, -40.02929702999994),\n",
       "    (132.0000001199888, -40.02734402999992),\n",
       "    (132.0000001199888, -40.02539102999995),\n",
       "    (132.0000001199888, -40.02343802999992),\n",
       "    (132.0000001199888, -40.02148502999995),\n",
       "    (132.0000001199888, -40.01953202999992),\n",
       "    (132.0000001199888, -40.01757902999996),\n",
       "    (132.0000001199888, -40.01562503999993),\n",
       "    (132.0000001199888, -40.01367203999994),\n",
       "    (132.0000001199888, -40.01171903999996),\n",
       "    (132.0000001199888, -40.00976603999996),\n",
       "    (132.0000001199888, -40.00781303999991),\n",
       "    (132.0000001199888, -40.005860039999924),\n",
       "    (132.0000001199888, -40.003907039999945),\n",
       "    (132.0000001199888, -40.00195403999995),\n",
       "    (132.0000001199888, -39.99999995999991),\n",
       "    (132.00293015998886, -39.99999995999995),\n",
       "    (132.00585911998897, -39.99999995999993),\n",
       "    (132.00878915998902, -39.999999959999954),\n",
       "    (132.0117188399891, -39.99999995999995),\n",
       "    (132.01464887998915, -39.99999995999996),\n",
       "    (132.01757891998923, -39.99999995999995),\n",
       "    (132.02050895998934, -39.99999995999996),\n",
       "    (132.02343791998942, -39.99999995999995),\n",
       "    (132.02636687998944, -39.999999959999954),\n",
       "    (132.02929691998952, -39.99999995999997),\n",
       "    (132.03222695998963, -39.99999995999996),\n",
       "    (132.03515699998968, -39.999999959999954),\n",
       "    (132.03808703998976, -39.99999995999995),\n",
       "    (132.0410159999898, -39.99999995999996),\n",
       "    (132.04394603998992, -39.99999995999997),\n",
       "    (132.04687499999, -39.99999995999996),\n",
       "    (132.04980503999005, -39.999999959999954),\n",
       "    (132.0527339999901, -39.99999995999995),\n",
       "    (132.0556640399902, -39.99999995999993),\n",
       "    (132.0585940799902, -39.99999995999996),\n",
       "    (132.06152411999034, -39.99999995999996),\n",
       "    (132.06445415999042, -39.999999959999954),\n",
       "    (132.06738383999047, -39.99999995999995),\n",
       "    (132.07031315999052, -39.99999995999993),\n",
       "    (132.0732421199906, -39.99999995999993),\n",
       "    (132.07617215999065, -39.99999995999996),\n",
       "    (132.0791018399907, -39.999999959999975),\n",
       "    (132.08203187999078, -39.999999959999926),\n",
       "    (132.08496191999086, -39.99999995999995),\n",
       "    (132.0878908799909, -39.99999995999993),\n",
       "    (132.090820919991, -39.99999995999995),\n",
       "    (132.09374987999104, -39.99999995999996),\n",
       "    (132.09667991999112, -39.999999959999954),\n",
       "    (132.09960887999114, -39.99999995999995),\n",
       "    (132.10253891999125, -39.99999995999996),\n",
       "    (132.1054689599913, -39.99999995999997),\n",
       "    (132.10839899999135, -39.999999959999975),\n",
       "    (132.11132903999143, -39.99999995999994),\n",
       "    (132.11425907999148, -39.99999995999997),\n",
       "    (132.11718803999153, -39.99999995999997),\n",
       "    (132.1201169999916, -39.99999995999996),\n",
       "    (132.12304703999166, -39.99999995999997),\n",
       "    (132.1259770799917, -39.999999959999975),\n",
       "    (132.12890711999177, -39.99999995999995),\n",
       "    (132.13183715999187, -39.99999995999996),\n",
       "    (132.13476611999192, -39.99999995999995),\n",
       "    (132.13769615999195, -39.99999995999996),\n",
       "    (132.140625119992, -39.99999995999995),\n",
       "    (132.14355515999205, -39.99999995999995),\n",
       "    (132.14648411999215, -39.99999995999993),\n",
       "    (132.14941415999218, -39.99999995999997),\n",
       "    (132.15234383999223, -39.99999995999996),\n",
       "    (132.15527387999228, -39.999999959999975),\n",
       "    (132.15820391999233, -39.999999959999926),\n",
       "    (132.16113395999238, -39.999999959999954),\n",
       "    (132.16406291999246, -39.99999995999996),\n",
       "    (132.16699187999248, -39.99999995999997),\n",
       "    (132.16992191999256, -39.99999995999993),\n",
       "    (132.1728519599926, -39.99999995999994),\n",
       "    (132.1757819999927, -39.999999959999975),\n",
       "    (132.17871203999272, -39.999999959999975),\n",
       "    (132.18164099999277, -39.999999959999975),\n",
       "    (132.18457103999285, -39.999999959999975),\n",
       "    (132.1874999999929, -39.99999995999997),\n",
       "    (132.19043003999292, -39.999999959999926),\n",
       "    (132.193358999993, -39.99999995999997),\n",
       "    (132.19628903999302, -39.999999959999954),\n",
       "    (132.19921907999307, -39.999999959999975),\n",
       "    (132.20214911999315, -39.99999995999995),\n",
       "    (132.20507915999318, -39.999999959999975),\n",
       "    (132.20800883999325, -39.999999959999975),\n",
       "    (132.21093815999328, -39.99999995999997),\n",
       "    (132.21386711999335, -39.99999995999996),\n",
       "    (132.21679715999338, -39.99999995999993),\n",
       "    (132.21972683999346, -39.99999995999996),\n",
       "    (132.22265687999345, -39.99999995999996),\n",
       "    (132.22558691999353, -39.99999995999995),\n",
       "    (132.2285158799936, -39.99999995999996),\n",
       "    (132.23144591999363, -39.999999959999975),\n",
       "    (132.23437487999368, -39.99999995999993),\n",
       "    (132.23730491999373, -39.999999959999954),\n",
       "    (132.24023387999375, -39.99999995999994),\n",
       "    (132.2431639199938, -39.999999959999975),\n",
       "    (132.24609395999386, -39.99999995999995),\n",
       "    (132.2490239999939, -39.99999995999998),\n",
       "    (132.25195403999396, -39.999999959999954),\n",
       "    (132.25488407999396, -39.99999995999997),\n",
       "    (132.25781303999403, -39.999999959999954),\n",
       "    (132.26074199999408, -39.99999995999996),\n",
       "    (132.26367203999413, -39.999999959999954),\n",
       "    (132.26660207999416, -39.99999995999997),\n",
       "    (132.2695321199942, -39.999999959999975),\n",
       "    (132.27246215999426, -39.99999995999995),\n",
       "    (132.2753911199943, -39.999999959999954),\n",
       "    (132.27832115999433, -39.99999995999995),\n",
       "    (132.28125011999438, -39.99999995999995),\n",
       "    (132.28418015999443, -39.99999995999995),\n",
       "    (132.28710911999448, -39.999999959999954),\n",
       "    (132.29003915999448, -39.999999959999975),\n",
       "    (132.29296883999453, -39.99999995999997),\n",
       "    (132.2958988799946, -39.99999995999997),\n",
       "    (132.2988289199946, -39.999999959999975),\n",
       "    (132.3017589599947, -39.99999995999996),\n",
       "    (132.30468791999473, -39.999999959999975),\n",
       "    (132.30761687999478, -39.99999995999996),\n",
       "    (132.31054691999478, -39.999999959999975),\n",
       "    (132.31347695999486, -39.99999995999995),\n",
       "    (132.31640699999488, -39.99999995999996),\n",
       "    (132.31933703999493, -39.99999995999998),\n",
       "    (132.32226599999495, -39.99999995999995),\n",
       "    (132.32519603999498, -39.99999995999995),\n",
       "    (132.32812499999505, -39.99999995999995),\n",
       "    (132.33105503999508, -39.99999995999995),\n",
       "    (132.3339839999951, -39.999999959999975),\n",
       "    (132.33691403999515, -39.999999959999975),\n",
       "    (132.33984407999517, -39.99999995999996),\n",
       "    (132.34277411999523, -39.99999995999996),\n",
       "    (132.34570415999525, -39.99999995999996),\n",
       "    (132.34863383999527, -39.99999995999998),\n",
       "    (132.3515631599953, -39.99999995999996),\n",
       "    (132.35449211999537, -39.99999995999995),\n",
       "    (132.3574221599954, -39.99999995999997),\n",
       "    (132.36035183999545, -39.99999995999999),\n",
       "    (132.36328187999547, -39.99999995999995),\n",
       "    (132.36621191999552, -39.99999995999995),\n",
       "    (132.36914087999557, -39.999999959999975),\n",
       "    (132.3720709199956, -39.999999959999954),\n",
       "    (132.37499987999558, -39.999999959999975),\n",
       "    (132.37792991999564, -39.99999995999995),\n",
       "    (132.38085887999569, -39.99999995999998),\n",
       "    (132.3837889199957, -39.99999995999999),\n",
       "    (132.3867189599958, -39.99999995999999),\n",
       "    (132.38964899999579, -39.99999995999998),\n",
       "    (132.3925790399958, -39.999999959999954),\n",
       "    (132.39550907999583, -39.999999959999975),\n",
       "    (132.39843803999588, -39.99999995999995),\n",
       "    (132.4013669999959, -39.99999995999995),\n",
       "    (132.40429703999592, -39.99999995999996),\n",
       "    (132.40722707999598, -39.99999995999995),\n",
       "    (132.410157119996, -39.999999959999975),\n",
       "    (132.41308715999608, -39.99999995999999),\n",
       "    (132.41601611999607, -39.999999959999975),\n",
       "    (132.41894615999612, -39.99999995999994),\n",
       "    (132.42187511999612, -39.99999995999999),\n",
       "    (132.42480515999617, -39.99999995999996),\n",
       "    (132.4277341199962, -39.99999995999997),\n",
       "    (132.43066415999624, -39.99999995999996),\n",
       "    (132.43359383999623, -39.99999995999996),\n",
       "    (132.4365238799963, -39.999999959999975),\n",
       "    (132.43945391999628, -39.99999995999995),\n",
       "    (132.44238395999636, -39.999999959999975),\n",
       "    (132.44531291999638, -39.99999995999998),\n",
       "    (132.4482418799964, -39.99999995999999),\n",
       "    (132.45117191999643, -39.999999959999975),\n",
       "    (132.45410195999648, -39.99999995999998),\n",
       "    (132.45703199999647, -39.99999995999998),\n",
       "    (132.4599620399965, -39.999999959999975),\n",
       "    (132.46289099999655, -39.99999995999999),\n",
       "    (132.46582103999654, -39.99999995999997),\n",
       "    (132.46874999999662, -39.999999959999975),\n",
       "    (132.47168003999664, -39.999999959999954),\n",
       "    (132.47460899999663, -39.99999995999999),\n",
       "    (132.47753903999669, -39.99999996),\n",
       "    (132.4804690799967, -39.99999995999996),\n",
       "    (132.48339911999673, -39.99999995999996),\n",
       "    (132.48632915999679, -39.999999959999954),\n",
       "    (132.48925883999678, -39.99999995999997),\n",
       "    (132.4921881599968, -39.999999959999975),\n",
       "    (132.49511711999685, -39.999999959999975),\n",
       "    (132.49804715999687, -39.999999959999954),\n",
       "    (132.5009768399969, -39.999999959999975),\n",
       "    (132.50390687999692, -39.99999995999997),\n",
       "    (132.5068369199969, -39.99999995999999),\n",
       "    (132.509765879997, -39.99999995999998),\n",
       "    (132.512695919997, -39.999999959999975),\n",
       "    (132.515624879997, -39.99999995999999),\n",
       "    (132.51855491999703, -39.99999995999998),\n",
       "    (132.52148387999705, -39.999999959999975),\n",
       "    (132.5244139199971, -39.99999995999998),\n",
       "    (132.5273439599971, -39.99999995999997),\n",
       "    (132.53027399999715, -39.999999959999975),\n",
       "    (132.53320403999714, -39.999999959999975),\n",
       "    (132.53613407999717, -39.99999995999996),\n",
       "    (132.53906303999722, -39.99999995999996),\n",
       "    (132.54199199999724, -39.99999995999995),\n",
       "    (132.54492203999726, -39.99999995999999),\n",
       "    (132.54785207999728, -39.99999995999996),\n",
       "    (132.55078211999728, -39.99999996),\n",
       "    (132.55371215999733, -39.99999995999996),\n",
       "    (132.55664111999735, -39.999999959999954),\n",
       "    (132.55957115999738, -39.99999995999996),\n",
       "    (132.56250011999734, -39.99999995999996),\n",
       "    (132.5654301599974, -39.99999995999997),\n",
       "    (132.56835911999747, -39.999999959999954),\n",
       "    (132.57128915999746, -39.99999995999999),\n",
       "    (132.57421883999749, -39.99999995999995),\n",
       "    (132.57714887999748, -39.99999995999996),\n",
       "    (132.5800789199975, -39.99999995999998),\n",
       "    (132.58300895999753, -39.99999995999996),\n",
       "    (132.58593791999755, -39.99999995999999),\n",
       "    (132.58886687999757, -39.999999959999975),\n",
       "    (132.5917969199976, -39.99999995999999),\n",
       "    (132.59472695999764, -39.999999959999975),\n",
       "    (132.59765699999764, -39.999999959999975),\n",
       "    (132.60058703999766, -39.99999996),\n",
       "    (132.60351599999765, -39.99999996),\n",
       "    (132.6064460399977, -39.99999995999996),\n",
       "    (132.60937499999773, -39.999999959999954),\n",
       "    (132.61230503999778, -39.99999995999997),\n",
       "    (132.61523399999774, -39.999999959999975),\n",
       "    (132.6181640399978, -39.99999995999998),\n",
       "    (132.62109407999776, -39.99999995999999),\n",
       "    (132.62402411999784, -39.999999959999975),\n",
       "    (132.62695415999784, -39.999999959999975),\n",
       "    (132.62988383999786, -39.999999959999975),\n",
       "    (132.63281315999788, -39.99999995999999),\n",
       "    (132.6357421199979, -39.99999995999999),\n",
       "    (132.63867215999795, -39.99999995999998),\n",
       "    (132.64160183999795, -39.999999959999975),\n",
       "    (132.64453187999794, -39.99999995999999),\n",
       "    (132.64746191999794, -39.99999995999999),\n",
       "    (132.65039087999799, -39.999999959999975),\n",
       "    (132.65332091999804, -39.99999995999999),\n",
       "    (132.65624987999803, -39.99999995999995),\n",
       "    (132.6570887030978, -39.99999996757498),\n",
       "    (132.63531921298156, -40.62663972682733)]]}}"
      ]
     },
     "execution_count": 8,
     "metadata": {},
     "output_type": "execute_result"
    }
   ],
   "source": [
    "x"
   ]
  },
  {
   "cell_type": "code",
   "execution_count": null,
   "metadata": {},
   "outputs": [],
   "source": []
  }
 ],
 "metadata": {
  "kernelspec": {
   "display_name": "Python 3",
   "language": "python",
   "name": "python3"
  },
  "language_info": {
   "codemirror_mode": {
    "name": "ipython",
    "version": 3
   },
   "file_extension": ".py",
   "mimetype": "text/x-python",
   "name": "python",
   "nbconvert_exporter": "python",
   "pygments_lexer": "ipython3",
   "version": "3.7.3"
  }
 },
 "nbformat": 4,
 "nbformat_minor": 4
}
