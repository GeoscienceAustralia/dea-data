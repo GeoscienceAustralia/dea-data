{
 "cells": [
  {
   "cell_type": "code",
   "execution_count": 1,
   "metadata": {},
   "outputs": [],
   "source": [
    "from pathlib import Path\n",
    "import csv\n",
    "from collections import defaultdict\n",
    "import os.path\n",
    "from statistics import mean \n",
    "import pandas as pd\n",
    "import altair as alt\n",
    "import fiona\n",
    "import geopandas as gpd\n",
    "import gpdvega\n",
    "import json\n",
    "\n",
    "from matplotlib import cm\n",
    "from matplotlib.colors import to_hex\n",
    "\n",
    "colormap = cm.spring"
   ]
  },
  {
   "cell_type": "code",
   "execution_count": 2,
   "metadata": {},
   "outputs": [
    {
     "data": {
      "text/plain": [
       "DataTransformerRegistry.enable('gpd_to_values')"
      ]
     },
     "execution_count": 2,
     "metadata": {},
     "output_type": "execute_result"
    }
   ],
   "source": [
    "alt.renderers.enable('notebook')\n",
    "alt.themes.enable('opaque')\n",
    "alt.data_transformers.enable('gpd_to_values')"
   ]
  },
  {
   "cell_type": "code",
   "execution_count": null,
   "metadata": {},
   "outputs": [],
   "source": [
    "def read_csv(filename):\n",
    "    with open(filename, newline='') as File:  \n",
    "        reader = csv.reader(File)\n",
    "        header1 = next(reader)\n",
    "        header2 = next(reader)\n",
    "        results = []\n",
    "        for row in reader:\n",
    "            folder = Path(row[0].strip(\"'\"))\n",
    "            parts = folder.parts\n",
    "            if len(parts) > 2 and parts[-1].lower().endswith('.tif'):\n",
    "                results.append({\"folder\": str(folder.parent), \"hits\": int(row[1]), \"bytes\": int(row[2]), \"cost\": float(row[3])})\n",
    "        return results"
   ]
  },
  {
   "cell_type": "code",
   "execution_count": 42,
   "metadata": {},
   "outputs": [],
   "source": [
    "def read_json(filename):\n",
    "    with open(filename, encoding='utf-8') as File:  \n",
    "        reader = json.loads(File.read())\n",
    "\n",
    "        return reader['Files']\n",
    "    "
   ]
  },
  {
   "cell_type": "code",
   "execution_count": 43,
   "metadata": {},
   "outputs": [],
   "source": [
    "all_data = read_json(\"20190618.json\")"
   ]
  },
  {
   "cell_type": "code",
   "execution_count": 44,
   "metadata": {},
   "outputs": [
    {
     "data": {
      "text/plain": [
       "{'-': [143670, 3661732291],\n",
       " 'L2/sentinel-2-nrt/S2MSIARD/2019-06-17/S2A_OPER_MSI_ARD_TL_SGS__20190617T013457_A020805_T55JGG_N02.07/NBART/NBART_B04.TIF': [1204,\n",
       "  914835073],\n",
       " 'L2/sentinel-2-nrt/S2MSIARD/2019-06-17/S2A_OPER_MSI_ARD_TL_SGS__20190617T013457_A020805_T55JGG_N02.07/NBART/NBART_B03.TIF': [1204,\n",
       "  866243692],\n",
       " 'L2/sentinel-2-nrt/S2MSIARD/2019-06-17/S2A_OPER_MSI_ARD_TL_SGS__20190617T013457_A020805_T55JGG_N02.07/NBART/NBART_B02.TIF': [1198,\n",
       "  831809260],\n",
       " 'L2/sentinel-2-nrt/S2MSIARD/2019-06-17/S2A_OPER_MSI_ARD_TL_SGS__20190617T013457_A020805_T55HFE_N02.07/NBART/NBART_B03.TIF': [1219,\n",
       "  795846580],\n",
       " 'L2/sentinel-2-nrt/S2MSIARD/2019-05-17/S2B_OPER_MSI_ARD_TL_SGS__20190517T025326_A011454_T52KHG_N02.07/NBART/NBART_B12.TIF': [1393,\n",
       "  720086891],\n",
       " 'L2/sentinel-2-nrt/S2MSIARD/2019-06-06/S2B_OPER_MSI_ARD_TL_SGS__20190606T025353_A011740_T52KHG_N02.07/NBART/NBART_B12.TIF': [1341,\n",
       "  719639371],\n",
       " 'L2/sentinel-2-nrt/S2MSIARD/2019-05-27/S2B_OPER_MSI_ARD_TL_SGS__20190527T025321_A011597_T52KHG_N02.07/NBART/NBART_B12.TIF': [1378,\n",
       "  718470624],\n",
       " 'L2/sentinel-2-nrt/S2MSIARD/2019-05-17/S2B_OPER_MSI_ARD_TL_SGS__20190517T025326_A011454_T52KHG_N02.07/NBART/NBART_B11.TIF': [1393,\n",
       "  717175665],\n",
       " 'L2/sentinel-2-nrt/S2MSIARD/2019-05-22/S2A_OPER_MSI_ARD_TL_EPAE_20190522T030306_A020434_T52KHG_N02.07/NBART/NBART_B12.TIF': [1388,\n",
       "  717130607],\n",
       " 'L2/sentinel-2-nrt/S2MSIARD/2019-05-07/S2B_OPER_MSI_ARD_TL_SGS__20190507T025341_A011311_T52KHG_N02.07/NBART/NBART_B12.TIF': [1355,\n",
       "  716810483],\n",
       " 'L2/sentinel-2-nrt/S2MSIARD/2019-06-01/S2A_OPER_MSI_ARD_TL_SGS__20190601T043621_A020577_T52KHG_N02.07/NBART/NBART_B12.TIF': [1342,\n",
       "  716580944],\n",
       " 'L2/sentinel-2-nrt/S2MSIARD/2019-06-06/S2B_OPER_MSI_ARD_TL_SGS__20190606T025353_A011740_T52KHG_N02.07/NBART/NBART_B11.TIF': [1341,\n",
       "  710369080],\n",
       " 'L2/sentinel-2-nrt/S2MSIARD/2019-05-12/S2A_OPER_MSI_ARD_TL_EPAE_20190512T025757_A020291_T52KHG_N02.07/NBART/NBART_B12.TIF': [1361,\n",
       "  710071094],\n",
       " 'L2/sentinel-2-nrt/S2MSIARD/2019-04-22/S2A_OPER_MSI_ARD_TL_EPAE_20190422T030250_A020005_T52KHG_N02.07/NBART/NBART_B12.TIF': [1383,\n",
       "  708886921],\n",
       " 'L2/sentinel-2-nrt/S2MSIARD/2019-05-27/S2B_OPER_MSI_ARD_TL_SGS__20190527T025321_A011597_T52KHG_N02.07/NBART/NBART_B11.TIF': [1369,\n",
       "  708165469],\n",
       " 'L2/sentinel-2-nrt/S2MSIARD/2019-04-12/S2A_OPER_MSI_ARD_TL_EPAE_20190412T025505_A019862_T52KHG_N02.07/NBART/NBART_B12.TIF': [1357,\n",
       "  708141617],\n",
       " 'L2/sentinel-2-nrt/S2MSIARD/2019-06-01/S2A_OPER_MSI_ARD_TL_SGS__20190601T043621_A020577_T52KHG_N02.07/NBART/NBART_B11.TIF': [1342,\n",
       "  707826234],\n",
       " 'L2/sentinel-2-nrt/S2MSIARD/2019-05-17/S2B_OPER_MSI_ARD_TL_SGS__20190517T025326_A011454_T52KHG_N02.07/NBART/NBART_B8A.TIF': [1393,\n",
       "  707192650],\n",
       " 'L2/sentinel-2-nrt/S2MSIARD/2019-04-17/S2B_OPER_MSI_ARD_TL_SGS__20190417T025331_A011025_T52KHG_N02.07/NBART/NBART_B12.TIF': [1342,\n",
       "  707358492],\n",
       " 'L2/sentinel-2-nrt/S2MSIARD/2019-05-22/S2A_OPER_MSI_ARD_TL_EPAE_20190522T030306_A020434_T52KHG_N02.07/NBART/NBART_B11.TIF': [1388,\n",
       "  706713883],\n",
       " 'L2/sentinel-2-nrt/S2MSIARD/2019-05-12/S2A_OPER_MSI_ARD_TL_EPAE_20190512T025757_A020291_T52KHG_N02.07/NBART/NBART_B11.TIF': [1365,\n",
       "  704978667],\n",
       " 'L2/sentinel-2-nrt/S2MSIARD/2019-05-07/S2B_OPER_MSI_ARD_TL_SGS__20190507T025341_A011311_T52KHG_N02.07/NBART/NBART_B11.TIF': [1354,\n",
       "  704895265],\n",
       " 'L2/sentinel-2-nrt/S2MSIARD/2019-05-17/S2B_OPER_MSI_ARD_TL_SGS__20190517T025326_A011454_T52KHG_N02.07/NBART/NBART_B07.TIF': [1393,\n",
       "  703702691],\n",
       " 'L2/sentinel-2-nrt/S2MSIARD/2019-05-02/S2A_OPER_MSI_ARD_TL_EPAE_20190502T030006_A020148_T52KHG_N02.07/NBART/NBART_B12.TIF': [1343,\n",
       "  703537675],\n",
       " 'L2/sentinel-2-nrt/S2MSIARD/2019-04-22/S2A_OPER_MSI_ARD_TL_EPAE_20190422T030250_A020005_T52KHG_N02.07/NBART/NBART_B11.TIF': [1382,\n",
       "  701813411],\n",
       " 'L2/sentinel-2-nrt/S2MSIARD/2019-05-17/S2B_OPER_MSI_ARD_TL_SGS__20190517T025326_A011454_T52KHG_N02.07/NBART/NBART_B05.TIF': [1390,\n",
       "  701612826],\n",
       " 'L2/sentinel-2-nrt/S2MSIARD/2019-05-17/S2B_OPER_MSI_ARD_TL_SGS__20190517T025326_A011454_T52KHG_N02.07/NBART/NBART_B06.TIF': [1393,\n",
       "  701398142],\n",
       " 'L2/sentinel-2-nrt/S2MSIARD/2019-06-06/S2B_OPER_MSI_ARD_TL_SGS__20190606T025353_A011740_T52KGG_N02.07/NBART/NBART_B12.TIF': [1357,\n",
       "  700744008],\n",
       " 'L2/sentinel-2-nrt/S2MSIARD/2019-05-22/S2A_OPER_MSI_ARD_TL_EPAE_20190522T030306_A020434_T52KHG_N02.07/NBART/NBART_B08.TIF': [820,\n",
       "  706072892],\n",
       " 'L2/sentinel-2-nrt/S2MSIARD/2019-06-06/S2B_OPER_MSI_ARD_TL_SGS__20190606T025353_A011740_T52KGG_N02.07/NBART/NBART_B11.TIF': [1357,\n",
       "  700499048],\n",
       " 'L2/sentinel-2-nrt/S2MSIARD/2019-05-17/S2B_OPER_MSI_ARD_TL_SGS__20190517T025326_A011454_T52KGG_N02.07/NBART/NBART_B11.TIF': [1361,\n",
       "  699859586],\n",
       " 'L2/sentinel-2-nrt/S2MSIARD/2019-05-07/S2B_OPER_MSI_ARD_TL_SGS__20190507T025341_A011311_T52KGG_N02.07/NBART/NBART_B12.TIF': [1354,\n",
       "  699269817],\n",
       " 'L2/sentinel-2-nrt/S2MSIARD/2019-04-17/S2B_OPER_MSI_ARD_TL_SGS__20190417T025331_A011025_T52KHG_N02.07/NBART/NBART_B11.TIF': [1342,\n",
       "  699375014],\n",
       " 'L2/sentinel-2-nrt/S2MSIARD/2019-06-06/S2B_OPER_MSI_ARD_TL_SGS__20190606T025353_A011740_T52KHG_N02.07/NBART/NBART_B08.TIF': [773,\n",
       "  704819284],\n",
       " 'L2/sentinel-2-nrt/S2MSIARD/2019-05-27/S2B_OPER_MSI_ARD_TL_SGS__20190527T025321_A011597_T52KGG_N02.07/NBART/NBART_B12.TIF': [1343,\n",
       "  699042805],\n",
       " 'L2/sentinel-2-nrt/S2MSIARD/2019-06-01/S2A_OPER_MSI_ARD_TL_SGS__20190601T043621_A020577_T52KHG_N02.07/NBART/NBART_B08.TIF': [774,\n",
       "  704620596],\n",
       " 'L2/sentinel-2-nrt/S2MSIARD/2019-05-27/S2B_OPER_MSI_ARD_TL_SGS__20190527T025321_A011597_T52KGG_N02.07/NBART/NBART_B11.TIF': [1342,\n",
       "  698891264],\n",
       " 'L2/sentinel-2-nrt/S2MSIARD/2019-04-12/S2A_OPER_MSI_ARD_TL_EPAE_20190412T025505_A019862_T52KHG_N02.07/NBART/NBART_B11.TIF': [1357,\n",
       "  698230034],\n",
       " 'L2/sentinel-2-nrt/S2MSIARD/2019-05-27/S2B_OPER_MSI_ARD_TL_SGS__20190527T025321_A011597_T52KHG_N02.07/NBART/NBART_B08.TIF': [801,\n",
       "  703694680],\n",
       " 'L2/sentinel-2-nrt/S2MSIARD/2019-05-07/S2B_OPER_MSI_ARD_TL_SGS__20190507T025341_A011311_T52KGG_N02.07/NBART/NBART_B11.TIF': [1354,\n",
       "  697889209],\n",
       " 'L2/sentinel-2-nrt/S2MSIARD/2019-05-02/S2A_OPER_MSI_ARD_TL_EPAE_20190502T030006_A020148_T52KHG_N02.07/NBART/NBART_B11.TIF': [1342,\n",
       "  697500462],\n",
       " 'L2/sentinel-2-nrt/S2MSIARD/2019-05-22/S2A_OPER_MSI_ARD_TL_EPAE_20190522T030306_A020434_T52KGG_N02.07/NBART/NBART_B12.TIF': [1380,\n",
       "  696995300],\n",
       " 'L2/sentinel-2-nrt/S2MSIARD/2019-06-01/S2A_OPER_MSI_ARD_TL_SGS__20190601T043621_A020577_T52KGG_N02.07/NBART/NBART_B12.TIF': [1382,\n",
       "  696404742],\n",
       " 'L2/sentinel-2-nrt/S2MSIARD/2019-05-22/S2A_OPER_MSI_ARD_TL_EPAE_20190522T030306_A020434_T52KHG_N02.07/NBART/NBART_B05.TIF': [1388,\n",
       "  696201451],\n",
       " 'L2/sentinel-2-nrt/S2MSIARD/2019-05-17/S2B_OPER_MSI_ARD_TL_SGS__20190517T025326_A011454_T52KHG_N02.07/NBART/NBART_B08.TIF': [825,\n",
       "  701732308],\n",
       " 'L2/sentinel-2-nrt/S2MSIARD/2019-05-07/S2B_OPER_MSI_ARD_TL_SGS__20190507T025341_A011311_T52KHG_N02.07/NBART/NBART_B08.TIF': [786,\n",
       "  701939160],\n",
       " 'L2/sentinel-2-nrt/S2MSIARD/2019-06-06/S2B_OPER_MSI_ARD_TL_SGS__20190606T025353_A011740_T52KHG_N02.07/NBART/NBART_B04.TIF': [789,\n",
       "  701220232],\n",
       " 'L2/sentinel-2-nrt/S2MSIARD/2019-06-01/S2A_OPER_MSI_ARD_TL_SGS__20190601T043621_A020577_T52KHG_N02.07/NBART/NBART_B8A.TIF': [1342,\n",
       "  695453855],\n",
       " 'L2/sentinel-2-nrt/S2MSIARD/2019-05-22/S2A_OPER_MSI_ARD_TL_EPAE_20190522T030306_A020434_T52KHG_N02.07/NBART/NBART_B8A.TIF': [1388,\n",
       "  694828236],\n",
       " 'L2/sentinel-2-nrt/S2MSIARD/2019-06-06/S2B_OPER_MSI_ARD_TL_SGS__20190606T025353_A011740_T52KHG_N02.07/NBART/NBART_B05.TIF': [1357,\n",
       "  695019493],\n",
       " 'L2/sentinel-2-nrt/S2MSIARD/2019-05-22/S2A_OPER_MSI_ARD_TL_EPAE_20190522T030306_A020434_T52KHG_N02.07/NBART/NBART_B04.TIF': [820,\n",
       "  700294468],\n",
       " 'L2/sentinel-2-nrt/S2MSIARD/2019-06-01/S2A_OPER_MSI_ARD_TL_SGS__20190601T043621_A020577_T52KGG_N02.07/NBART/NBART_B11.TIF': [1380,\n",
       "  694656625],\n",
       " 'L2/sentinel-2-nrt/S2MSIARD/2019-06-01/S2A_OPER_MSI_ARD_TL_SGS__20190601T043621_A020577_T52KHG_N02.07/NBART/NBART_B04.TIF': [774,\n",
       "  700339220],\n",
       " 'L2/sentinel-2-nrt/S2MSIARD/2019-05-22/S2A_OPER_MSI_ARD_TL_EPAE_20190522T030306_A020434_T52KGG_N02.07/NBART/NBART_B11.TIF': [1380,\n",
       "  693771796],\n",
       " 'L2/sentinel-2-nrt/S2MSIARD/2019-06-06/S2B_OPER_MSI_ARD_TL_SGS__20190606T025353_A011740_T52KHG_N02.07/NBART/NBART_B8A.TIF': [1342,\n",
       "  693869222],\n",
       " 'L2/sentinel-2-nrt/S2MSIARD/2019-04-17/S2B_OPER_MSI_ARD_TL_SGS__20190417T025331_A011025_T52KGG_N02.07/NBART/NBART_B11.TIF': [1341,\n",
       "  693736924],\n",
       " 'L2/sentinel-2-nrt/S2MSIARD/2019-05-27/S2B_OPER_MSI_ARD_TL_SGS__20190527T025321_A011597_T52KHG_N02.07/NBART/NBART_B8A.TIF': [1388,\n",
       "  693255096],\n",
       " 'L2/sentinel-2-nrt/S2MSIARD/2019-06-01/S2A_OPER_MSI_ARD_TL_SGS__20190601T043621_A020577_T52KHG_N02.07/NBART/NBART_B05.TIF': [1342,\n",
       "  693625921],\n",
       " 'L2/sentinel-2-nrt/S2MSIARD/2019-05-27/S2B_OPER_MSI_ARD_TL_SGS__20190527T025321_A011597_T52KHG_N02.07/NBART/NBART_B05.TIF': [1358,\n",
       "  693404078],\n",
       " 'L2/sentinel-2-nrt/S2MSIARD/2019-05-17/S2B_OPER_MSI_ARD_TL_SGS__20190517T025326_A011454_T52KGG_N02.07/NBART/NBART_B12.TIF': [1369,\n",
       "  693180990],\n",
       " 'L2/sentinel-2-nrt/S2MSIARD/2019-05-27/S2B_OPER_MSI_ARD_TL_SGS__20190527T025321_A011597_T52KHG_N02.07/NBART/NBART_B04.TIF': [790,\n",
       "  698862792],\n",
       " 'L2/sentinel-2-nrt/S2MSIARD/2019-05-22/S2A_OPER_MSI_ARD_TL_EPAE_20190522T030306_A020434_T52KHG_N02.07/NBART/NBART_B07.TIF': [1388,\n",
       "  692789913],\n",
       " 'L2/sentinel-2-nrt/S2MSIARD/2019-05-17/S2B_OPER_MSI_ARD_TL_SGS__20190517T025326_A011454_T52KHG_N02.07/NBART/NBART_B04.TIF': [822,\n",
       "  698432584],\n",
       " 'L2/sentinel-2-nrt/S2MSIARD/2019-05-22/S2A_OPER_MSI_ARD_TL_EPAE_20190522T030306_A020434_T52KHG_N02.07/NBART/NBART_B06.TIF': [1388,\n",
       "  692315450],\n",
       " 'L2/sentinel-2-nrt/S2MSIARD/2019-06-01/S2A_OPER_MSI_ARD_TL_SGS__20190601T043621_A020577_T52KHG_N02.07/NBART/NBART_B07.TIF': [1342,\n",
       "  692731398],\n",
       " 'L2/sentinel-2-nrt/S2MSIARD/2019-06-06/S2B_OPER_MSI_ARD_TL_SGS__20190606T025353_A011740_T52KHG_N02.07/NBART/NBART_B06.TIF': [1354,\n",
       "  692433395],\n",
       " 'L2/sentinel-2-nrt/S2MSIARD/2019-05-12/S2A_OPER_MSI_ARD_TL_EPAE_20190512T025757_A020291_T52KHG_N02.07/NBART/NBART_B04.TIF': [825,\n",
       "  697640160],\n",
       " 'L2/sentinel-2-nrt/S2MSIARD/2019-05-12/S2A_OPER_MSI_ARD_TL_EPAE_20190512T025757_A020291_T52KHG_N02.07/NBART/NBART_B8A.TIF': [1357,\n",
       "  692245653],\n",
       " 'L2/sentinel-2-nrt/S2MSIARD/2019-05-07/S2B_OPER_MSI_ARD_TL_SGS__20190507T025341_A011311_T52KHG_N02.07/NBART/NBART_B05.TIF': [1354,\n",
       "  691809702],\n",
       " 'L2/sentinel-2-nrt/S2MSIARD/2019-06-01/S2A_OPER_MSI_ARD_TL_SGS__20190601T043621_A020577_T52KHG_N02.07/NBART/NBART_B06.TIF': [1342,\n",
       "  691766496],\n",
       " 'L2/sentinel-2-nrt/S2MSIARD/2019-04-22/S2A_OPER_MSI_ARD_TL_EPAE_20190422T030250_A020005_T52KHG_N02.07/NBART/NBART_B08.TIF': [814,\n",
       "  696916772],\n",
       " 'L2/sentinel-2-nrt/S2MSIARD/2019-06-06/S2B_OPER_MSI_ARD_TL_SGS__20190606T025353_A011740_T52KHG_N02.07/NBART/NBART_B07.TIF': [1343,\n",
       "  691525217],\n",
       " 'L2/sentinel-2-nrt/S2MSIARD/2019-04-12/S2A_OPER_MSI_ARD_TL_EPAE_20190412T025505_A019862_T52KHG_N02.07/NBART/NBART_B08.TIF': [789,\n",
       "  696922172],\n",
       " 'L2/sentinel-2-nrt/S2MSIARD/2019-05-12/S2A_OPER_MSI_ARD_TL_EPAE_20190512T025757_A020291_T52KHG_N02.07/NBART/NBART_B08.TIF': [797,\n",
       "  696823836],\n",
       " 'L2/sentinel-2-nrt/S2MSIARD/2019-04-22/S2A_OPER_MSI_ARD_TL_EPAE_20190422T030250_A020005_T52KHG_N02.07/NBART/NBART_B8A.TIF': [1387,\n",
       "  690881285],\n",
       " 'L2/sentinel-2-nrt/S2MSIARD/2019-05-12/S2A_OPER_MSI_ARD_TL_EPAE_20190512T025757_A020291_T52KGG_N02.07/NBART/NBART_B11.TIF': [1342,\n",
       "  690710389],\n",
       " 'L2/sentinel-2-nrt/S2MSIARD/2019-05-27/S2B_OPER_MSI_ARD_TL_SGS__20190527T025321_A011597_T52KHG_N02.07/NBART/NBART_B07.TIF': [1362,\n",
       "  690059183],\n",
       " 'L2/sentinel-2-nrt/S2MSIARD/2019-05-27/S2B_OPER_MSI_ARD_TL_SGS__20190527T025321_A011597_T52KHG_N02.07/NBART/NBART_B06.TIF': [1358,\n",
       "  690075812],\n",
       " 'L2/sentinel-2-nrt/S2MSIARD/2019-05-12/S2A_OPER_MSI_ARD_TL_EPAE_20190512T025757_A020291_T52KHG_N02.07/NBART/NBART_B07.TIF': [1376,\n",
       "  689667906],\n",
       " 'L2/sentinel-2-nrt/S2MSIARD/2019-05-07/S2B_OPER_MSI_ARD_TL_SGS__20190507T025341_A011311_T52KHG_N02.07/NBART/NBART_B8A.TIF': [1356,\n",
       "  689821878],\n",
       " 'L2/sentinel-2-nrt/S2MSIARD/2019-05-07/S2B_OPER_MSI_ARD_TL_SGS__20190507T025341_A011311_T52KHG_N02.07/NBART/NBART_B04.TIF': [786,\n",
       "  695420684],\n",
       " 'L2/sentinel-2-nrt/S2MSIARD/2019-04-17/S2B_OPER_MSI_ARD_TL_SGS__20190417T025331_A011025_T52KGG_N02.07/NBART/NBART_B12.TIF': [1341,\n",
       "  689511729],\n",
       " 'L2/sentinel-2-nrt/S2MSIARD/2019-05-02/S2A_OPER_MSI_ARD_TL_EPAE_20190502T030006_A020148_T52KHG_N02.07/NBART/NBART_B08.TIF': [774,\n",
       "  695147056],\n",
       " 'L2/sentinel-2-nrt/S2MSIARD/2019-04-22/S2A_OPER_MSI_ARD_TL_EPAE_20190422T030250_A020005_T52KHG_N02.07/NBART/NBART_B04.TIF': [816,\n",
       "  694015980],\n",
       " 'L2/sentinel-2-nrt/S2MSIARD/2019-04-22/S2A_OPER_MSI_ARD_TL_EPAE_20190422T030250_A020005_T52KHG_N02.07/NBART/NBART_B07.TIF': [1380,\n",
       "  688112640],\n",
       " 'L2/sentinel-2-nrt/S2MSIARD/2019-05-12/S2A_OPER_MSI_ARD_TL_EPAE_20190512T025757_A020291_T52KGG_N02.07/NBART/NBART_B12.TIF': [1342,\n",
       "  688453838],\n",
       " 'L2/sentinel-2-nrt/S2MSIARD/2019-05-02/S2A_OPER_MSI_ARD_TL_EPAE_20190502T030006_A020148_T52KHG_N02.07/NBART/NBART_B8A.TIF': [1349,\n",
       "  688277796],\n",
       " 'L2/sentinel-2-nrt/S2MSIARD/2019-04-22/S2A_OPER_MSI_ARD_TL_EPAE_20190422T030250_A020005_T52KHG_N02.07/NBART/NBART_B05.TIF': [1384,\n",
       "  687926251],\n",
       " 'L2/sentinel-2-nrt/S2MSIARD/2019-04-12/S2A_OPER_MSI_ARD_TL_EPAE_20190412T025505_A019862_T52KGG_N02.07/NBART/NBART_B12.TIF': [1356,\n",
       "  688175200],\n",
       " 'L2/sentinel-2-nrt/S2MSIARD/2019-05-02/S2A_OPER_MSI_ARD_TL_EPAE_20190502T030006_A020148_T52KGG_N02.07/NBART/NBART_B11.TIF': [1341,\n",
       "  688313423],\n",
       " 'L2/sentinel-2-nrt/S2MSIARD/2019-05-07/S2B_OPER_MSI_ARD_TL_SGS__20190507T025341_A011311_T52KHG_N02.07/NBART/NBART_B06.TIF': [1354,\n",
       "  688077410],\n",
       " 'L2/sentinel-2-nrt/S2MSIARD/2019-05-12/S2A_OPER_MSI_ARD_TL_EPAE_20190512T025757_A020291_T52KHG_N02.07/NBART/NBART_B05.TIF': [1393,\n",
       "  687605864],\n",
       " 'L2/sentinel-2-nrt/S2MSIARD/2019-05-07/S2B_OPER_MSI_ARD_TL_SGS__20190507T025341_A011311_T52KHG_N02.07/NBART/NBART_B07.TIF': [1354,\n",
       "  687799297],\n",
       " 'L2/sentinel-2-nrt/S2MSIARD/2019-04-17/S2B_OPER_MSI_ARD_TL_SGS__20190417T025331_A011025_T52KHG_N02.07/NBART/NBART_B08.TIF': [774,\n",
       "  693204588],\n",
       " 'L2/sentinel-2-nrt/S2MSIARD/2019-06-01/S2A_OPER_MSI_ARD_TL_SGS__20190601T043621_A020577_T52KGG_N02.07/NBART/NBART_B8A.TIF': [1384,\n",
       "  686944377],\n",
       " 'L2/sentinel-2-nrt/S2MSIARD/2019-04-12/S2A_OPER_MSI_ARD_TL_EPAE_20190412T025505_A019862_T52KHG_N02.07/NBART/NBART_B05.TIF': [1357,\n",
       "  687165016],\n",
       " 'L2/sentinel-2-nrt/S2MSIARD/2019-05-17/S2B_OPER_MSI_ARD_TL_SGS__20190517T025326_A011454_T52KGG_N02.07/NBART/NBART_B8A.TIF': [1376,\n",
       "  686792365],\n",
       " 'L2/sentinel-2-nrt/S2MSIARD/2019-04-12/S2A_OPER_MSI_ARD_TL_EPAE_20190412T025505_A019862_T52KHG_N02.07/NBART/NBART_B8A.TIF': [1357,\n",
       "  686858258],\n",
       " 'L2/sentinel-2-nrt/S2MSIARD/2019-04-12/S2A_OPER_MSI_ARD_TL_EPAE_20190412T025505_A019862_T52KGG_N02.07/NBART/NBART_B11.TIF': [1362,\n",
       "  686701503]}"
      ]
     },
     "execution_count": 44,
     "metadata": {},
     "output_type": "execute_result"
    }
   ],
   "source": [
    "all_data"
   ]
  },
  {
   "cell_type": "code",
   "execution_count": 59,
   "metadata": {},
   "outputs": [
    {
     "name": "stdout",
     "output_type": "stream",
     "text": [
      "L2/sentinel-2-nrt/S2MSIARD/2019-06-17/S2A_OPER_MSI_ARD_TL_SGS__20190617T013457_A020805_T55JGG_N02.07/NBART/NBART_B04.TIF\n",
      "1204\n",
      "L2/sentinel-2-nrt/S2MSIARD/2019-06-17/S2A_OPER_MSI_ARD_TL_SGS__20190617T013457_A020805_T55JGG_N02.07/NBART/NBART_B03.TIF\n",
      "1204\n",
      "L2/sentinel-2-nrt/S2MSIARD/2019-06-17/S2A_OPER_MSI_ARD_TL_SGS__20190617T013457_A020805_T55JGG_N02.07/NBART/NBART_B02.TIF\n",
      "1198\n",
      "L2/sentinel-2-nrt/S2MSIARD/2019-06-17/S2A_OPER_MSI_ARD_TL_SGS__20190617T013457_A020805_T55HFE_N02.07/NBART/NBART_B03.TIF\n",
      "1219\n",
      "L2/sentinel-2-nrt/S2MSIARD/2019-05-17/S2B_OPER_MSI_ARD_TL_SGS__20190517T025326_A011454_T52KHG_N02.07/NBART/NBART_B12.TIF\n",
      "1393\n",
      "L2/sentinel-2-nrt/S2MSIARD/2019-06-06/S2B_OPER_MSI_ARD_TL_SGS__20190606T025353_A011740_T52KHG_N02.07/NBART/NBART_B12.TIF\n",
      "1341\n",
      "L2/sentinel-2-nrt/S2MSIARD/2019-05-27/S2B_OPER_MSI_ARD_TL_SGS__20190527T025321_A011597_T52KHG_N02.07/NBART/NBART_B12.TIF\n",
      "1378\n",
      "L2/sentinel-2-nrt/S2MSIARD/2019-05-17/S2B_OPER_MSI_ARD_TL_SGS__20190517T025326_A011454_T52KHG_N02.07/NBART/NBART_B11.TIF\n",
      "1393\n",
      "L2/sentinel-2-nrt/S2MSIARD/2019-05-22/S2A_OPER_MSI_ARD_TL_EPAE_20190522T030306_A020434_T52KHG_N02.07/NBART/NBART_B12.TIF\n",
      "1388\n",
      "L2/sentinel-2-nrt/S2MSIARD/2019-05-07/S2B_OPER_MSI_ARD_TL_SGS__20190507T025341_A011311_T52KHG_N02.07/NBART/NBART_B12.TIF\n",
      "1355\n",
      "L2/sentinel-2-nrt/S2MSIARD/2019-06-01/S2A_OPER_MSI_ARD_TL_SGS__20190601T043621_A020577_T52KHG_N02.07/NBART/NBART_B12.TIF\n",
      "1342\n",
      "L2/sentinel-2-nrt/S2MSIARD/2019-06-06/S2B_OPER_MSI_ARD_TL_SGS__20190606T025353_A011740_T52KHG_N02.07/NBART/NBART_B11.TIF\n",
      "1341\n",
      "L2/sentinel-2-nrt/S2MSIARD/2019-05-12/S2A_OPER_MSI_ARD_TL_EPAE_20190512T025757_A020291_T52KHG_N02.07/NBART/NBART_B12.TIF\n",
      "1361\n",
      "L2/sentinel-2-nrt/S2MSIARD/2019-04-22/S2A_OPER_MSI_ARD_TL_EPAE_20190422T030250_A020005_T52KHG_N02.07/NBART/NBART_B12.TIF\n",
      "1383\n",
      "L2/sentinel-2-nrt/S2MSIARD/2019-05-27/S2B_OPER_MSI_ARD_TL_SGS__20190527T025321_A011597_T52KHG_N02.07/NBART/NBART_B11.TIF\n",
      "1369\n",
      "L2/sentinel-2-nrt/S2MSIARD/2019-04-12/S2A_OPER_MSI_ARD_TL_EPAE_20190412T025505_A019862_T52KHG_N02.07/NBART/NBART_B12.TIF\n",
      "1357\n",
      "L2/sentinel-2-nrt/S2MSIARD/2019-06-01/S2A_OPER_MSI_ARD_TL_SGS__20190601T043621_A020577_T52KHG_N02.07/NBART/NBART_B11.TIF\n",
      "1342\n",
      "L2/sentinel-2-nrt/S2MSIARD/2019-05-17/S2B_OPER_MSI_ARD_TL_SGS__20190517T025326_A011454_T52KHG_N02.07/NBART/NBART_B8A.TIF\n",
      "1393\n",
      "L2/sentinel-2-nrt/S2MSIARD/2019-04-17/S2B_OPER_MSI_ARD_TL_SGS__20190417T025331_A011025_T52KHG_N02.07/NBART/NBART_B12.TIF\n",
      "1342\n",
      "L2/sentinel-2-nrt/S2MSIARD/2019-05-22/S2A_OPER_MSI_ARD_TL_EPAE_20190522T030306_A020434_T52KHG_N02.07/NBART/NBART_B11.TIF\n",
      "1388\n",
      "L2/sentinel-2-nrt/S2MSIARD/2019-05-12/S2A_OPER_MSI_ARD_TL_EPAE_20190512T025757_A020291_T52KHG_N02.07/NBART/NBART_B11.TIF\n",
      "1365\n",
      "L2/sentinel-2-nrt/S2MSIARD/2019-05-07/S2B_OPER_MSI_ARD_TL_SGS__20190507T025341_A011311_T52KHG_N02.07/NBART/NBART_B11.TIF\n",
      "1354\n",
      "L2/sentinel-2-nrt/S2MSIARD/2019-05-17/S2B_OPER_MSI_ARD_TL_SGS__20190517T025326_A011454_T52KHG_N02.07/NBART/NBART_B07.TIF\n",
      "1393\n",
      "L2/sentinel-2-nrt/S2MSIARD/2019-05-02/S2A_OPER_MSI_ARD_TL_EPAE_20190502T030006_A020148_T52KHG_N02.07/NBART/NBART_B12.TIF\n",
      "1343\n",
      "L2/sentinel-2-nrt/S2MSIARD/2019-04-22/S2A_OPER_MSI_ARD_TL_EPAE_20190422T030250_A020005_T52KHG_N02.07/NBART/NBART_B11.TIF\n",
      "1382\n",
      "L2/sentinel-2-nrt/S2MSIARD/2019-05-17/S2B_OPER_MSI_ARD_TL_SGS__20190517T025326_A011454_T52KHG_N02.07/NBART/NBART_B05.TIF\n",
      "1390\n",
      "L2/sentinel-2-nrt/S2MSIARD/2019-05-17/S2B_OPER_MSI_ARD_TL_SGS__20190517T025326_A011454_T52KHG_N02.07/NBART/NBART_B06.TIF\n",
      "1393\n",
      "L2/sentinel-2-nrt/S2MSIARD/2019-06-06/S2B_OPER_MSI_ARD_TL_SGS__20190606T025353_A011740_T52KGG_N02.07/NBART/NBART_B12.TIF\n",
      "1357\n",
      "L2/sentinel-2-nrt/S2MSIARD/2019-05-22/S2A_OPER_MSI_ARD_TL_EPAE_20190522T030306_A020434_T52KHG_N02.07/NBART/NBART_B08.TIF\n",
      "820\n",
      "L2/sentinel-2-nrt/S2MSIARD/2019-06-06/S2B_OPER_MSI_ARD_TL_SGS__20190606T025353_A011740_T52KGG_N02.07/NBART/NBART_B11.TIF\n",
      "1357\n",
      "L2/sentinel-2-nrt/S2MSIARD/2019-05-17/S2B_OPER_MSI_ARD_TL_SGS__20190517T025326_A011454_T52KGG_N02.07/NBART/NBART_B11.TIF\n",
      "1361\n",
      "L2/sentinel-2-nrt/S2MSIARD/2019-05-07/S2B_OPER_MSI_ARD_TL_SGS__20190507T025341_A011311_T52KGG_N02.07/NBART/NBART_B12.TIF\n",
      "1354\n",
      "L2/sentinel-2-nrt/S2MSIARD/2019-04-17/S2B_OPER_MSI_ARD_TL_SGS__20190417T025331_A011025_T52KHG_N02.07/NBART/NBART_B11.TIF\n",
      "1342\n",
      "L2/sentinel-2-nrt/S2MSIARD/2019-06-06/S2B_OPER_MSI_ARD_TL_SGS__20190606T025353_A011740_T52KHG_N02.07/NBART/NBART_B08.TIF\n",
      "773\n",
      "L2/sentinel-2-nrt/S2MSIARD/2019-05-27/S2B_OPER_MSI_ARD_TL_SGS__20190527T025321_A011597_T52KGG_N02.07/NBART/NBART_B12.TIF\n",
      "1343\n",
      "L2/sentinel-2-nrt/S2MSIARD/2019-06-01/S2A_OPER_MSI_ARD_TL_SGS__20190601T043621_A020577_T52KHG_N02.07/NBART/NBART_B08.TIF\n",
      "774\n",
      "L2/sentinel-2-nrt/S2MSIARD/2019-05-27/S2B_OPER_MSI_ARD_TL_SGS__20190527T025321_A011597_T52KGG_N02.07/NBART/NBART_B11.TIF\n",
      "1342\n",
      "L2/sentinel-2-nrt/S2MSIARD/2019-04-12/S2A_OPER_MSI_ARD_TL_EPAE_20190412T025505_A019862_T52KHG_N02.07/NBART/NBART_B11.TIF\n",
      "1357\n",
      "L2/sentinel-2-nrt/S2MSIARD/2019-05-27/S2B_OPER_MSI_ARD_TL_SGS__20190527T025321_A011597_T52KHG_N02.07/NBART/NBART_B08.TIF\n",
      "801\n",
      "L2/sentinel-2-nrt/S2MSIARD/2019-05-07/S2B_OPER_MSI_ARD_TL_SGS__20190507T025341_A011311_T52KGG_N02.07/NBART/NBART_B11.TIF\n",
      "1354\n",
      "L2/sentinel-2-nrt/S2MSIARD/2019-05-02/S2A_OPER_MSI_ARD_TL_EPAE_20190502T030006_A020148_T52KHG_N02.07/NBART/NBART_B11.TIF\n",
      "1342\n",
      "L2/sentinel-2-nrt/S2MSIARD/2019-05-22/S2A_OPER_MSI_ARD_TL_EPAE_20190522T030306_A020434_T52KGG_N02.07/NBART/NBART_B12.TIF\n",
      "1380\n",
      "L2/sentinel-2-nrt/S2MSIARD/2019-06-01/S2A_OPER_MSI_ARD_TL_SGS__20190601T043621_A020577_T52KGG_N02.07/NBART/NBART_B12.TIF\n",
      "1382\n",
      "L2/sentinel-2-nrt/S2MSIARD/2019-05-22/S2A_OPER_MSI_ARD_TL_EPAE_20190522T030306_A020434_T52KHG_N02.07/NBART/NBART_B05.TIF\n",
      "1388\n",
      "L2/sentinel-2-nrt/S2MSIARD/2019-05-17/S2B_OPER_MSI_ARD_TL_SGS__20190517T025326_A011454_T52KHG_N02.07/NBART/NBART_B08.TIF\n",
      "825\n",
      "L2/sentinel-2-nrt/S2MSIARD/2019-05-07/S2B_OPER_MSI_ARD_TL_SGS__20190507T025341_A011311_T52KHG_N02.07/NBART/NBART_B08.TIF\n",
      "786\n",
      "L2/sentinel-2-nrt/S2MSIARD/2019-06-06/S2B_OPER_MSI_ARD_TL_SGS__20190606T025353_A011740_T52KHG_N02.07/NBART/NBART_B04.TIF\n",
      "789\n",
      "L2/sentinel-2-nrt/S2MSIARD/2019-06-01/S2A_OPER_MSI_ARD_TL_SGS__20190601T043621_A020577_T52KHG_N02.07/NBART/NBART_B8A.TIF\n",
      "1342\n",
      "L2/sentinel-2-nrt/S2MSIARD/2019-05-22/S2A_OPER_MSI_ARD_TL_EPAE_20190522T030306_A020434_T52KHG_N02.07/NBART/NBART_B8A.TIF\n",
      "1388\n",
      "L2/sentinel-2-nrt/S2MSIARD/2019-06-06/S2B_OPER_MSI_ARD_TL_SGS__20190606T025353_A011740_T52KHG_N02.07/NBART/NBART_B05.TIF\n",
      "1357\n",
      "L2/sentinel-2-nrt/S2MSIARD/2019-05-22/S2A_OPER_MSI_ARD_TL_EPAE_20190522T030306_A020434_T52KHG_N02.07/NBART/NBART_B04.TIF\n",
      "820\n",
      "L2/sentinel-2-nrt/S2MSIARD/2019-06-01/S2A_OPER_MSI_ARD_TL_SGS__20190601T043621_A020577_T52KGG_N02.07/NBART/NBART_B11.TIF\n",
      "1380\n",
      "L2/sentinel-2-nrt/S2MSIARD/2019-06-01/S2A_OPER_MSI_ARD_TL_SGS__20190601T043621_A020577_T52KHG_N02.07/NBART/NBART_B04.TIF\n",
      "774\n",
      "L2/sentinel-2-nrt/S2MSIARD/2019-05-22/S2A_OPER_MSI_ARD_TL_EPAE_20190522T030306_A020434_T52KGG_N02.07/NBART/NBART_B11.TIF\n",
      "1380\n",
      "L2/sentinel-2-nrt/S2MSIARD/2019-06-06/S2B_OPER_MSI_ARD_TL_SGS__20190606T025353_A011740_T52KHG_N02.07/NBART/NBART_B8A.TIF\n",
      "1342\n",
      "L2/sentinel-2-nrt/S2MSIARD/2019-04-17/S2B_OPER_MSI_ARD_TL_SGS__20190417T025331_A011025_T52KGG_N02.07/NBART/NBART_B11.TIF\n",
      "1341\n",
      "L2/sentinel-2-nrt/S2MSIARD/2019-05-27/S2B_OPER_MSI_ARD_TL_SGS__20190527T025321_A011597_T52KHG_N02.07/NBART/NBART_B8A.TIF\n",
      "1388\n",
      "L2/sentinel-2-nrt/S2MSIARD/2019-06-01/S2A_OPER_MSI_ARD_TL_SGS__20190601T043621_A020577_T52KHG_N02.07/NBART/NBART_B05.TIF\n",
      "1342\n",
      "L2/sentinel-2-nrt/S2MSIARD/2019-05-27/S2B_OPER_MSI_ARD_TL_SGS__20190527T025321_A011597_T52KHG_N02.07/NBART/NBART_B05.TIF\n",
      "1358\n",
      "L2/sentinel-2-nrt/S2MSIARD/2019-05-17/S2B_OPER_MSI_ARD_TL_SGS__20190517T025326_A011454_T52KGG_N02.07/NBART/NBART_B12.TIF\n",
      "1369\n",
      "L2/sentinel-2-nrt/S2MSIARD/2019-05-27/S2B_OPER_MSI_ARD_TL_SGS__20190527T025321_A011597_T52KHG_N02.07/NBART/NBART_B04.TIF\n",
      "790\n",
      "L2/sentinel-2-nrt/S2MSIARD/2019-05-22/S2A_OPER_MSI_ARD_TL_EPAE_20190522T030306_A020434_T52KHG_N02.07/NBART/NBART_B07.TIF\n",
      "1388\n",
      "L2/sentinel-2-nrt/S2MSIARD/2019-05-17/S2B_OPER_MSI_ARD_TL_SGS__20190517T025326_A011454_T52KHG_N02.07/NBART/NBART_B04.TIF\n",
      "822\n",
      "L2/sentinel-2-nrt/S2MSIARD/2019-05-22/S2A_OPER_MSI_ARD_TL_EPAE_20190522T030306_A020434_T52KHG_N02.07/NBART/NBART_B06.TIF\n",
      "1388\n",
      "L2/sentinel-2-nrt/S2MSIARD/2019-06-01/S2A_OPER_MSI_ARD_TL_SGS__20190601T043621_A020577_T52KHG_N02.07/NBART/NBART_B07.TIF\n",
      "1342\n",
      "L2/sentinel-2-nrt/S2MSIARD/2019-06-06/S2B_OPER_MSI_ARD_TL_SGS__20190606T025353_A011740_T52KHG_N02.07/NBART/NBART_B06.TIF\n",
      "1354\n",
      "L2/sentinel-2-nrt/S2MSIARD/2019-05-12/S2A_OPER_MSI_ARD_TL_EPAE_20190512T025757_A020291_T52KHG_N02.07/NBART/NBART_B04.TIF\n",
      "825\n",
      "L2/sentinel-2-nrt/S2MSIARD/2019-05-12/S2A_OPER_MSI_ARD_TL_EPAE_20190512T025757_A020291_T52KHG_N02.07/NBART/NBART_B8A.TIF\n",
      "1357\n",
      "L2/sentinel-2-nrt/S2MSIARD/2019-05-07/S2B_OPER_MSI_ARD_TL_SGS__20190507T025341_A011311_T52KHG_N02.07/NBART/NBART_B05.TIF\n",
      "1354\n",
      "L2/sentinel-2-nrt/S2MSIARD/2019-06-01/S2A_OPER_MSI_ARD_TL_SGS__20190601T043621_A020577_T52KHG_N02.07/NBART/NBART_B06.TIF\n",
      "1342\n",
      "L2/sentinel-2-nrt/S2MSIARD/2019-04-22/S2A_OPER_MSI_ARD_TL_EPAE_20190422T030250_A020005_T52KHG_N02.07/NBART/NBART_B08.TIF\n",
      "814\n",
      "L2/sentinel-2-nrt/S2MSIARD/2019-06-06/S2B_OPER_MSI_ARD_TL_SGS__20190606T025353_A011740_T52KHG_N02.07/NBART/NBART_B07.TIF\n",
      "1343\n",
      "L2/sentinel-2-nrt/S2MSIARD/2019-04-12/S2A_OPER_MSI_ARD_TL_EPAE_20190412T025505_A019862_T52KHG_N02.07/NBART/NBART_B08.TIF\n",
      "789\n",
      "L2/sentinel-2-nrt/S2MSIARD/2019-05-12/S2A_OPER_MSI_ARD_TL_EPAE_20190512T025757_A020291_T52KHG_N02.07/NBART/NBART_B08.TIF\n",
      "797\n",
      "L2/sentinel-2-nrt/S2MSIARD/2019-04-22/S2A_OPER_MSI_ARD_TL_EPAE_20190422T030250_A020005_T52KHG_N02.07/NBART/NBART_B8A.TIF\n",
      "1387\n",
      "L2/sentinel-2-nrt/S2MSIARD/2019-05-12/S2A_OPER_MSI_ARD_TL_EPAE_20190512T025757_A020291_T52KGG_N02.07/NBART/NBART_B11.TIF\n",
      "1342\n",
      "L2/sentinel-2-nrt/S2MSIARD/2019-05-27/S2B_OPER_MSI_ARD_TL_SGS__20190527T025321_A011597_T52KHG_N02.07/NBART/NBART_B07.TIF\n",
      "1362\n",
      "L2/sentinel-2-nrt/S2MSIARD/2019-05-27/S2B_OPER_MSI_ARD_TL_SGS__20190527T025321_A011597_T52KHG_N02.07/NBART/NBART_B06.TIF\n",
      "1358\n",
      "L2/sentinel-2-nrt/S2MSIARD/2019-05-12/S2A_OPER_MSI_ARD_TL_EPAE_20190512T025757_A020291_T52KHG_N02.07/NBART/NBART_B07.TIF\n",
      "1376\n",
      "L2/sentinel-2-nrt/S2MSIARD/2019-05-07/S2B_OPER_MSI_ARD_TL_SGS__20190507T025341_A011311_T52KHG_N02.07/NBART/NBART_B8A.TIF\n",
      "1356\n",
      "L2/sentinel-2-nrt/S2MSIARD/2019-05-07/S2B_OPER_MSI_ARD_TL_SGS__20190507T025341_A011311_T52KHG_N02.07/NBART/NBART_B04.TIF\n",
      "786\n",
      "L2/sentinel-2-nrt/S2MSIARD/2019-04-17/S2B_OPER_MSI_ARD_TL_SGS__20190417T025331_A011025_T52KGG_N02.07/NBART/NBART_B12.TIF\n",
      "1341\n",
      "L2/sentinel-2-nrt/S2MSIARD/2019-05-02/S2A_OPER_MSI_ARD_TL_EPAE_20190502T030006_A020148_T52KHG_N02.07/NBART/NBART_B08.TIF\n",
      "774\n",
      "L2/sentinel-2-nrt/S2MSIARD/2019-04-22/S2A_OPER_MSI_ARD_TL_EPAE_20190422T030250_A020005_T52KHG_N02.07/NBART/NBART_B04.TIF\n",
      "816\n",
      "L2/sentinel-2-nrt/S2MSIARD/2019-04-22/S2A_OPER_MSI_ARD_TL_EPAE_20190422T030250_A020005_T52KHG_N02.07/NBART/NBART_B07.TIF\n",
      "1380\n",
      "L2/sentinel-2-nrt/S2MSIARD/2019-05-12/S2A_OPER_MSI_ARD_TL_EPAE_20190512T025757_A020291_T52KGG_N02.07/NBART/NBART_B12.TIF\n",
      "1342\n",
      "L2/sentinel-2-nrt/S2MSIARD/2019-05-02/S2A_OPER_MSI_ARD_TL_EPAE_20190502T030006_A020148_T52KHG_N02.07/NBART/NBART_B8A.TIF\n",
      "1349\n",
      "L2/sentinel-2-nrt/S2MSIARD/2019-04-22/S2A_OPER_MSI_ARD_TL_EPAE_20190422T030250_A020005_T52KHG_N02.07/NBART/NBART_B05.TIF\n",
      "1384\n",
      "L2/sentinel-2-nrt/S2MSIARD/2019-04-12/S2A_OPER_MSI_ARD_TL_EPAE_20190412T025505_A019862_T52KGG_N02.07/NBART/NBART_B12.TIF\n",
      "1356\n",
      "L2/sentinel-2-nrt/S2MSIARD/2019-05-02/S2A_OPER_MSI_ARD_TL_EPAE_20190502T030006_A020148_T52KGG_N02.07/NBART/NBART_B11.TIF\n",
      "1341\n",
      "L2/sentinel-2-nrt/S2MSIARD/2019-05-07/S2B_OPER_MSI_ARD_TL_SGS__20190507T025341_A011311_T52KHG_N02.07/NBART/NBART_B06.TIF\n",
      "1354\n",
      "L2/sentinel-2-nrt/S2MSIARD/2019-05-12/S2A_OPER_MSI_ARD_TL_EPAE_20190512T025757_A020291_T52KHG_N02.07/NBART/NBART_B05.TIF\n",
      "1393\n",
      "L2/sentinel-2-nrt/S2MSIARD/2019-05-07/S2B_OPER_MSI_ARD_TL_SGS__20190507T025341_A011311_T52KHG_N02.07/NBART/NBART_B07.TIF\n",
      "1354\n",
      "L2/sentinel-2-nrt/S2MSIARD/2019-04-17/S2B_OPER_MSI_ARD_TL_SGS__20190417T025331_A011025_T52KHG_N02.07/NBART/NBART_B08.TIF\n",
      "774\n",
      "L2/sentinel-2-nrt/S2MSIARD/2019-06-01/S2A_OPER_MSI_ARD_TL_SGS__20190601T043621_A020577_T52KGG_N02.07/NBART/NBART_B8A.TIF\n",
      "1384\n",
      "L2/sentinel-2-nrt/S2MSIARD/2019-04-12/S2A_OPER_MSI_ARD_TL_EPAE_20190412T025505_A019862_T52KHG_N02.07/NBART/NBART_B05.TIF\n",
      "1357\n",
      "L2/sentinel-2-nrt/S2MSIARD/2019-05-17/S2B_OPER_MSI_ARD_TL_SGS__20190517T025326_A011454_T52KGG_N02.07/NBART/NBART_B8A.TIF\n",
      "1376\n",
      "L2/sentinel-2-nrt/S2MSIARD/2019-04-12/S2A_OPER_MSI_ARD_TL_EPAE_20190412T025505_A019862_T52KHG_N02.07/NBART/NBART_B8A.TIF\n",
      "1357\n",
      "L2/sentinel-2-nrt/S2MSIARD/2019-04-12/S2A_OPER_MSI_ARD_TL_EPAE_20190412T025505_A019862_T52KGG_N02.07/NBART/NBART_B11.TIF\n",
      "1362\n"
     ]
    }
   ],
   "source": [
    "for i,v in all_data.items():\n",
    "    if str(i).endswith('.TIF') or str(i).endswith('.tif') or str(i).endswith('.tiff'):\n",
    "        print (i)\n",
    "        print(v[0])"
   ]
  },
  {
   "cell_type": "code",
   "execution_count": null,
   "metadata": {},
   "outputs": [],
   "source": [
    "all_entries = read_csv(\"Files_20190417_20190423.csv\")"
   ]
  },
  {
   "cell_type": "code",
   "execution_count": null,
   "metadata": {},
   "outputs": [],
   "source": [
    "all_entries = read_csv(\"Files_20190407_20190506.csv\")"
   ]
  },
  {
   "cell_type": "code",
   "execution_count": null,
   "metadata": {},
   "outputs": [],
   "source": [
    "len(all_entries)"
   ]
  },
  {
   "cell_type": "code",
   "execution_count": null,
   "metadata": {},
   "outputs": [],
   "source": [
    "def product_name(folder):\n",
    "    parts = Path(folder).parts\n",
    "    if parts[0] == 'mangrove_cover':\n",
    "        return parts[0]\n",
    "    return os.path.join(*parts[:2])\n",
    "\n",
    "\n",
    "def spatial_id(folder):\n",
    "    parts = Path(folder).parts\n",
    "    if len(parts) > 2 and parts[0] == 'L2' and parts[1] == 'sentinel-2-nrt' and parts[-1] in ['NBAR', 'NBART', 'QA', 'SUPPLEMENTARY', 'LAMBERTIAN']:\n",
    "        try:\n",
    "            return parts[-2].split(\"_\")[-2][1:]\n",
    "        except IndexError:\n",
    "            print(folder)\n",
    "    else:\n",
    "        return '<none>'\n",
    "\n",
    "def merge_pre(folder, dicts):\n",
    "    return {\n",
    "        'hits': max(int(d['hits']) for d in dicts),\n",
    "        'bytes': sum(int(d['bytes']) for d in dicts),\n",
    "        'cost': sum(float(d['cost']) for d in dicts),\n",
    "        'spatial_id': spatial_id(folder),\n",
    "        'product': product_name(folder),\n",
    "        'folder': folder\n",
    "    }\n",
    "\n",
    "def group(entry_list, key):\n",
    "    lookup = defaultdict(list)\n",
    "    \n",
    "    for d in entry_list:\n",
    "        lookup[d[key]].append(d)\n",
    "        \n",
    "    return lookup\n",
    "    \n",
    "\n",
    "def merge(dicts):\n",
    "    return {\n",
    "        'hits': sum(int(d['hits']) for d in dicts),\n",
    "        'bytes': sum(int(d['bytes']) for d in dicts),\n",
    "        'cost': sum(float(d['cost']) for d in dicts)\n",
    "    }"
   ]
  },
  {
   "cell_type": "code",
   "execution_count": null,
   "metadata": {},
   "outputs": [],
   "source": [
    "stage1 = [merge_pre(key, value) for key, value in group(all_entries, 'folder').items()]"
   ]
  },
  {
   "cell_type": "code",
   "execution_count": null,
   "metadata": {},
   "outputs": [],
   "source": [
    "sentinel2 = [d for d in stage1 if d['product'] == 'L2/sentinel-2-nrt']"
   ]
  },
  {
   "cell_type": "code",
   "execution_count": null,
   "metadata": {},
   "outputs": [],
   "source": [
    "s2_summary = {key: merge(value)['hits'] for key, value in group(sentinel2, 'spatial_id').items()}"
   ]
  },
  {
   "cell_type": "code",
   "execution_count": null,
   "metadata": {},
   "outputs": [],
   "source": [
    "s2_summary['56HLH']"
   ]
  },
  {
   "cell_type": "code",
   "execution_count": null,
   "metadata": {},
   "outputs": [],
   "source": [
    "s2_summary_list = list(s2_summary.items())"
   ]
  },
  {
   "cell_type": "code",
   "execution_count": null,
   "metadata": {},
   "outputs": [],
   "source": [
    "s2_mgrs = [entry[0] for entry in s2_summary_list]\n",
    "s2_hits = [entry[1] for entry in s2_summary_list]"
   ]
  },
  {
   "cell_type": "code",
   "execution_count": null,
   "metadata": {},
   "outputs": [],
   "source": [
    "hit_values = pd.DataFrame({'MGRS': s2_mgrs, 'hits': s2_hits})"
   ]
  },
  {
   "cell_type": "code",
   "execution_count": null,
   "metadata": {},
   "outputs": [],
   "source": [
    "grid = fiona.open('australia-mgrs-grid.geojson')"
   ]
  },
  {
   "cell_type": "code",
   "execution_count": null,
   "metadata": {},
   "outputs": [],
   "source": [
    "with open('australia-mgrs-grid.geojson') as fl:\n",
    "    input_gj = json.load(fl)"
   ]
  },
  {
   "cell_type": "code",
   "execution_count": null,
   "metadata": {},
   "outputs": [],
   "source": [
    "feats = input_gj['features']"
   ]
  },
  {
   "cell_type": "code",
   "execution_count": null,
   "metadata": {},
   "outputs": [],
   "source": [
    "for feat in feats:\n",
    "    if 'MGRS' in feat['properties']:\n",
    "        mgrs = feat['properties']['MGRS']\n",
    "        if mgrs in s2_summary:\n",
    "            feat['properties']['hits'] = s2_summary[mgrs]\n",
    "            feat['properties']['stroke'] = \"#ff00ff\"\n",
    "            feat['properties']['fill-opacity'] = 0.5\n",
    "            feat['properties']['fill'] = \"#ff0000\"\n",
    "            if feat['properties']['hits'] > 1000:\n",
    "                feat['properties']['fill'] = \"#0000ff\"\n",
    "                "
   ]
  },
  {
   "cell_type": "code",
   "execution_count": null,
   "metadata": {},
   "outputs": [],
   "source": [
    "with open('sentinel-2-hitmap-test.geojson', 'w') as fl:\n",
    "    json.dump(input_gj, fl)"
   ]
  },
  {
   "cell_type": "code",
   "execution_count": null,
   "metadata": {},
   "outputs": [],
   "source": [
    "ex_feat = feats[0]"
   ]
  },
  {
   "cell_type": "code",
   "execution_count": null,
   "metadata": {},
   "outputs": [],
   "source": [
    "list(ex_feat['properties'])"
   ]
  },
  {
   "cell_type": "code",
   "execution_count": null,
   "metadata": {},
   "outputs": [],
   "source": [
    "with open('low_composite_20.geojson') as fl:\n",
    "    low_comp = json.load(fl)"
   ]
  },
  {
   "cell_type": "code",
   "execution_count": null,
   "metadata": {},
   "outputs": [],
   "source": [
    "list(low_comp['features'][0]['properties'])"
   ]
  },
  {
   "cell_type": "code",
   "execution_count": null,
   "metadata": {},
   "outputs": [],
   "source": [
    "mgrs_poly = {}"
   ]
  },
  {
   "cell_type": "code",
   "execution_count": null,
   "metadata": {},
   "outputs": [],
   "source": [
    "for entry in grid:\n",
    "    mgrs = entry['properties']['MGRS']\n",
    "    mgrs_poly[mgrs] = entry"
   ]
  },
  {
   "cell_type": "code",
   "execution_count": null,
   "metadata": {},
   "outputs": [],
   "source": [
    "c234 = set(mgrs_poly)"
   ]
  },
  {
   "cell_type": "code",
   "execution_count": null,
   "metadata": {},
   "outputs": [],
   "source": [
    "geojson2 = [mgrs_poly[x] for x in c234]"
   ]
  },
  {
   "cell_type": "code",
   "execution_count": null,
   "metadata": {},
   "outputs": [],
   "source": [
    "common = set(s2_summary) & set(mgrs_poly)"
   ]
  },
  {
   "cell_type": "code",
   "execution_count": null,
   "metadata": {},
   "outputs": [],
   "source": [
    "geojson = [mgrs_poly[x] for x in common]"
   ]
  },
  {
   "cell_type": "code",
   "execution_count": null,
   "metadata": {},
   "outputs": [],
   "source": [
    "alt.Chart(alt.Data(values=geojson)).mark_geoshape(stroke='black', strokeWidth=1).encode().properties(width=400, height=400)"
   ]
  },
  {
   "cell_type": "code",
   "execution_count": null,
   "metadata": {},
   "outputs": [],
   "source": []
  },
  {
   "cell_type": "code",
   "execution_count": null,
   "metadata": {},
   "outputs": [],
   "source": [
    "polygons = gpd.GeoDataFrame.from_features((geojson))"
   ]
  },
  {
   "cell_type": "code",
   "execution_count": null,
   "metadata": {},
   "outputs": [],
   "source": [
    "polygons.head()"
   ]
  },
  {
   "cell_type": "code",
   "execution_count": null,
   "metadata": {},
   "outputs": [],
   "source": [
    "alt.Chart(merged).mark_geoshape(\n",
    "        stroke='black',\n",
    "        strokeWidth=1\n",
    "    ).encode(\n",
    "    ).properties(\n",
    "        width=400,\n",
    "        height=400\n",
    "    )"
   ]
  },
  {
   "cell_type": "code",
   "execution_count": null,
   "metadata": {},
   "outputs": [],
   "source": [
    "merged = polygons.merge(hit_values, on= 'MGRS', how = 'inner')[['geometry', 'hits', 'MGRS']]"
   ]
  },
  {
   "cell_type": "code",
   "execution_count": null,
   "metadata": {},
   "outputs": [],
   "source": []
  },
  {
   "cell_type": "code",
   "execution_count": null,
   "metadata": {},
   "outputs": [],
   "source": [
    "merged.head()"
   ]
  },
  {
   "cell_type": "code",
   "execution_count": null,
   "metadata": {},
   "outputs": [],
   "source": [
    "def gen_map(geodata, color_column, title):\n",
    "    '''Generates DC ANC map with population choropleth and ANC labels'''\n",
    "    # Add Base Layer\n",
    "    base = alt.Chart(geodata, title = title).mark_geoshape(\n",
    "        stroke='black',\n",
    "        strokeWidth=1\n",
    "    ).encode(\n",
    "    ).properties(\n",
    "        width=400,\n",
    "        height=400\n",
    "    )\n",
    "    # Add Choropleth Layer\n",
    "    choro = alt.Chart(geodata).mark_geoshape(\n",
    "        fill='lightgray',\n",
    "        stroke='black'\n",
    "    ).encode(\n",
    "        alt.Color(color_column, \n",
    "                  type='quantitative', \n",
    "                 scale=alt.Scale(scheme='bluegreen'),\n",
    "                 title = \"hits\")\n",
    "    )\n",
    "\n",
    "    return base + choro\n"
   ]
  },
  {
   "cell_type": "code",
   "execution_count": null,
   "metadata": {},
   "outputs": [],
   "source": [
    "gen_map(merged, 'hits', 'sentinel-2')"
   ]
  },
  {
   "cell_type": "code",
   "execution_count": null,
   "metadata": {},
   "outputs": [],
   "source": [
    "gen_map(polygons, 'hits', 'sentinel-2')"
   ]
  },
  {
   "cell_type": "code",
   "execution_count": null,
   "metadata": {},
   "outputs": [],
   "source": [
    "\n",
    "  \n",
    "def gen_base(geojson):\n",
    "    '''Generates baselayer of DC ANC map'''\n",
    "    base = alt.Chart(alt.Data(values=geojson)).mark_geoshape(\n",
    "        stroke='black',\n",
    "        strokeWidth=1\n",
    "    ).encode(\n",
    "    ).properties(\n",
    "        width=400,\n",
    "        height=400\n",
    "    )\n",
    "    return base\n",
    "\n"
   ]
  },
  {
   "cell_type": "code",
   "execution_count": null,
   "metadata": {},
   "outputs": [],
   "source": [
    "import requests"
   ]
  },
  {
   "cell_type": "code",
   "execution_count": null,
   "metadata": {},
   "outputs": [],
   "source": [
    "geos = \"australia-mgrs-grid.geojson\""
   ]
  },
  {
   "cell_type": "code",
   "execution_count": null,
   "metadata": {},
   "outputs": [],
   "source": [
    "gen_base(grid)"
   ]
  },
  {
   "cell_type": "code",
   "execution_count": null,
   "metadata": {},
   "outputs": [],
   "source": [
    "polygons.plot()"
   ]
  },
  {
   "cell_type": "code",
   "execution_count": null,
   "metadata": {},
   "outputs": [],
   "source": [
    "geojson"
   ]
  },
  {
   "cell_type": "code",
   "execution_count": null,
   "metadata": {},
   "outputs": [],
   "source": [
    "gdf_js = gpd.read_file(\"australia-mgrs-grid.geojson\")"
   ]
  },
  {
   "cell_type": "code",
   "execution_count": null,
   "metadata": {},
   "outputs": [],
   "source": [
    "gdf_js"
   ]
  },
  {
   "cell_type": "code",
   "execution_count": null,
   "metadata": {},
   "outputs": [],
   "source": [
    "gdf_js.shape"
   ]
  },
  {
   "cell_type": "code",
   "execution_count": null,
   "metadata": {},
   "outputs": [],
   "source": [
    "gdf_js.plot()"
   ]
  },
  {
   "cell_type": "code",
   "execution_count": null,
   "metadata": {},
   "outputs": [],
   "source": [
    "%matplotlib"
   ]
  },
  {
   "cell_type": "code",
   "execution_count": null,
   "metadata": {},
   "outputs": [],
   "source": [
    "gdf_js.GZD.unique()"
   ]
  },
  {
   "cell_type": "code",
   "execution_count": null,
   "metadata": {},
   "outputs": [],
   "source": [
    "from matplotlib import cm\n",
    "from matplotlib.colors import to_hex"
   ]
  },
  {
   "cell_type": "code",
   "execution_count": null,
   "metadata": {},
   "outputs": [],
   "source": []
  },
  {
   "cell_type": "code",
   "execution_count": null,
   "metadata": {},
   "outputs": [],
   "source": [
    "to_hex(colormap(1))"
   ]
  },
  {
   "cell_type": "code",
   "execution_count": null,
   "metadata": {},
   "outputs": [],
   "source": [
    "to_hex(colormap(0))"
   ]
  },
  {
   "cell_type": "code",
   "execution_count": null,
   "metadata": {},
   "outputs": [],
   "source": []
  }
 ],
 "metadata": {
  "kernelspec": {
   "display_name": "Python 3",
   "language": "python",
   "name": "python3"
  },
  "language_info": {
   "codemirror_mode": {
    "name": "ipython",
    "version": 3
   },
   "file_extension": ".py",
   "mimetype": "text/x-python",
   "name": "python",
   "nbconvert_exporter": "python",
   "pygments_lexer": "ipython3",
   "version": "3.7.3"
  }
 },
 "nbformat": 4,
 "nbformat_minor": 4
}
